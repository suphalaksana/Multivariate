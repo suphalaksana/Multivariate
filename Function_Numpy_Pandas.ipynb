{
  "nbformat": 4,
  "nbformat_minor": 0,
  "metadata": {
    "colab": {
      "name": "Function_Numpy_Pandas.ipynb",
      "provenance": [],
      "authorship_tag": "ABX9TyPngVFEjRALnKjp8UzjLLOj",
      "include_colab_link": true
    },
    "kernelspec": {
      "name": "python3",
      "display_name": "Python 3"
    }
  },
  "cells": [
    {
      "cell_type": "markdown",
      "metadata": {
        "id": "view-in-github",
        "colab_type": "text"
      },
      "source": [
        "<a href=\"https://colab.research.google.com/github/suphalaksana/Multivariate/blob/main/Function_Numpy_Pandas.ipynb\" target=\"_parent\"><img src=\"https://colab.research.google.com/assets/colab-badge.svg\" alt=\"Open In Colab\"/></a>"
      ]
    },
    {
      "cell_type": "markdown",
      "metadata": {
        "id": "_28MgGv9SpN1"
      },
      "source": [
        "#Function "
      ]
    },
    {
      "cell_type": "markdown",
      "metadata": {
        "id": "jJrDfWMnS9O4"
      },
      "source": [
        " input x  output y"
      ]
    },
    {
      "cell_type": "markdown",
      "metadata": {
        "id": "_ByFtIBxT5s3"
      },
      "source": [
        "python"
      ]
    },
    {
      "cell_type": "markdown",
      "metadata": {
        "id": "8xk40jsET4i7"
      },
      "source": [
        "function มีส่วนสำคัญทั้งหมด 4ส่วน\n",
        "1.บอก python ว่าเราจะเขียนฟังก์ชัน ชื่ออะไร def function_name():(ขาดไม่ได้)\n",
        "2.กำหนดตัวแปรที่จะเป็น input input(ขาดได้)"
      ]
    },
    {
      "cell_type": "markdown",
      "metadata": {
        "id": "sidwxIHgS8LY"
      },
      "source": [
        ""
      ]
    },
    {
      "cell_type": "code",
      "metadata": {
        "id": "XglP5CeoUoDc"
      },
      "source": [
        "def print_name(name,surname,ID):\n",
        "  st = f'ชื่อ {name} นามสกุล {surname} ID {ID}'\n",
        "  return st"
      ],
      "execution_count": 8,
      "outputs": []
    },
    {
      "cell_type": "markdown",
      "metadata": {
        "id": "9-YqoSdzWvuw"
      },
      "source": [
        "outside function"
      ]
    },
    {
      "cell_type": "markdown",
      "metadata": {
        "id": "7v714IDWW3I6"
      },
      "source": [
        "#การเรียกใช้ฟังก์ชัน"
      ]
    },
    {
      "cell_type": "code",
      "metadata": {
        "colab": {
          "base_uri": "https://localhost:8080/",
          "height": 38
        },
        "id": "NjKEAbnSVeW7",
        "outputId": "a3d32b8f-1564-4f7e-8e38-c8eec69c5a14"
      },
      "source": [
        "print_name('ศุภลักษณา','บัวจันทร์','623020540-4')"
      ],
      "execution_count": 9,
      "outputs": [
        {
          "output_type": "execute_result",
          "data": {
            "application/vnd.google.colaboratory.intrinsic+json": {
              "type": "string"
            },
            "text/plain": [
              "'ชื่อ ศุภลักษณา นามสกุล บัวจันทร์ ID 623020540-4'"
            ]
          },
          "metadata": {
            "tags": []
          },
          "execution_count": 9
        }
      ]
    },
    {
      "cell_type": "code",
      "metadata": {
        "colab": {
          "base_uri": "https://localhost:8080/"
        },
        "id": "niCuFeIcXFFO",
        "outputId": "6915395a-d6c3-4aa5-c9db-189922733671"
      },
      "source": [
        "output_string = print_name('ศุภลักษณา','บัวจันทร์','623020540-4')\n",
        "print(output_string)"
      ],
      "execution_count": 10,
      "outputs": [
        {
          "output_type": "stream",
          "text": [
            "ชื่อ ศุภลักษณา นามสกุล บัวจันทร์ ID 623020540-4\n"
          ],
          "name": "stdout"
        }
      ]
    },
    {
      "cell_type": "markdown",
      "metadata": {
        "id": "2NFUTr55Xl2t"
      },
      "source": [
        " ฟังก์ชันไม่จำเป็นต้องมี output"
      ]
    },
    {
      "cell_type": "code",
      "metadata": {
        "id": "6bf0s-TNYeyD"
      },
      "source": [
        ""
      ],
      "execution_count": null,
      "outputs": []
    },
    {
      "cell_type": "code",
      "metadata": {
        "id": "XQx_I5TkXxIr"
      },
      "source": [
        "def print_name2(surname,ID,name):\n",
        "  st = f'ชื่อ {name} นามสกุล {surname} รหัส {ID}'\n",
        "  print(st)"
      ],
      "execution_count": 13,
      "outputs": []
    },
    {
      "cell_type": "code",
      "metadata": {
        "id": "SAQmQDdyYuPo"
      },
      "source": [
        ""
      ],
      "execution_count": null,
      "outputs": []
    },
    {
      "cell_type": "code",
      "metadata": {
        "colab": {
          "base_uri": "https://localhost:8080/"
        },
        "id": "25i5zTHIYgaG",
        "outputId": "dd3f0ed8-f11e-4024-8fa7-c0f63dcc911f"
      },
      "source": [
        "print_name2('ศุภลักษณา','บัวจันทร์','623020540-4')"
      ],
      "execution_count": 14,
      "outputs": [
        {
          "output_type": "stream",
          "text": [
            "ชื่อ 623020540-4 นามสกุล ศุภลักษณา รหัส บัวจันทร์\n"
          ],
          "name": "stdout"
        }
      ]
    },
    {
      "cell_type": "code",
      "metadata": {
        "colab": {
          "base_uri": "https://localhost:8080/"
        },
        "id": "iMOa418rYvpZ",
        "outputId": "dcab266f-c252-4fb0-837b-d0c72d9e80aa"
      },
      "source": [
        "op2=print_name2('ศุภลักษณา','บัวจันทร์','623020540-4')"
      ],
      "execution_count": 15,
      "outputs": [
        {
          "output_type": "stream",
          "text": [
            "ชื่อ 623020540-4 นามสกุล ศุภลักษณา รหัส บัวจันทร์\n"
          ],
          "name": "stdout"
        }
      ]
    },
    {
      "cell_type": "code",
      "metadata": {
        "colab": {
          "base_uri": "https://localhost:8080/"
        },
        "id": "0lFWXBEbYXq7",
        "outputId": "a0a6df35-189a-43a8-9b27-23648a88bb27"
      },
      "source": [
        "print(op2)"
      ],
      "execution_count": 16,
      "outputs": [
        {
          "output_type": "stream",
          "text": [
            "None\n"
          ],
          "name": "stdout"
        }
      ]
    },
    {
      "cell_type": "markdown",
      "metadata": {
        "id": "13XzXQnCZTF6"
      },
      "source": [
        "ฟังก์ชันไม่จำเป็นต้องมี input"
      ]
    },
    {
      "cell_type": "code",
      "metadata": {
        "id": "EGTECMNyZixH"
      },
      "source": [
        "def Pi():\n",
        "    return 3.14159265359"
      ],
      "execution_count": 18,
      "outputs": []
    },
    {
      "cell_type": "code",
      "metadata": {
        "colab": {
          "base_uri": "https://localhost:8080/",
          "height": 135
        },
        "id": "2-3_K6dfZwUq",
        "outputId": "a9bbbbf7-2c70-4933-ee83-28b5d5e8cafd"
      },
      "source": [
        "#คำนวณพื้นที่วงกลมที่มีขนาดเส้นผ่านศูนย์กลางเท่ากับ 3\n",
        "Pi()*(*1.5**2)"
      ],
      "execution_count": 20,
      "outputs": [
        {
          "output_type": "error",
          "ename": "SyntaxError",
          "evalue": "ignored",
          "traceback": [
            "\u001b[0;36m  File \u001b[0;32m\"<ipython-input-20-e50670560c4d>\"\u001b[0;36m, line \u001b[0;32m2\u001b[0m\n\u001b[0;31m    Pi()*(*1.5**2)\u001b[0m\n\u001b[0m         ^\u001b[0m\n\u001b[0;31mSyntaxError\u001b[0m\u001b[0;31m:\u001b[0m can't use starred expression here\n"
          ]
        }
      ]
    },
    {
      "cell_type": "code",
      "metadata": {
        "id": "NLl7HsFJaKqr"
      },
      "source": [
        "def print_my_name():\n",
        "  print('ศุภลักษณา บัวจันทร์ IDxxxxxxx')"
      ],
      "execution_count": 22,
      "outputs": []
    },
    {
      "cell_type": "code",
      "metadata": {
        "colab": {
          "base_uri": "https://localhost:8080/"
        },
        "id": "edXO5e4zag2S",
        "outputId": "f9c30c0d-cfe4-431d-833b-2abaedec4027"
      },
      "source": [
        "print"
      ],
      "execution_count": 23,
      "outputs": [
        {
          "output_type": "execute_result",
          "data": {
            "text/plain": [
              "<function print>"
            ]
          },
          "metadata": {
            "tags": []
          },
          "execution_count": 23
        }
      ]
    },
    {
      "cell_type": "markdown",
      "metadata": {
        "id": "H6uP931Baxi5"
      },
      "source": [
        "#input ของ function ใน python มีสองแบบ input ที่จำเป็นต้องใส่กับ input ที่ไม่จำเป็นต้องใส่ (มีค่า default) เราต้องเรียง input ที่จำเป็นต้องใส่ขึ้นก่อน"
      ]
    }
  ]
}