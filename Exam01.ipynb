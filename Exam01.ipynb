{
  "nbformat": 4,
  "nbformat_minor": 0,
  "metadata": {
    "colab": {
      "name": "Exam01.ipynb",
      "provenance": [],
      "toc_visible": true,
      "authorship_tag": "ABX9TyOaMEv2WUxreRLTS1T9Pl+Y",
      "include_colab_link": true
    },
    "kernelspec": {
      "name": "python3",
      "display_name": "Python 3"
    }
  },
  "cells": [
    {
      "cell_type": "markdown",
      "metadata": {
        "id": "view-in-github",
        "colab_type": "text"
      },
      "source": [
        "<a href=\"https://colab.research.google.com/github/suphalaksana/Multivariate/blob/main/Exam01.ipynb\" target=\"_parent\"><img src=\"https://colab.research.google.com/assets/colab-badge.svg\" alt=\"Open In Colab\"/></a>"
      ]
    },
    {
      "cell_type": "markdown",
      "metadata": {
        "id": "Y4Vq-jBLu3P4"
      },
      "source": [
        "#load data"
      ]
    },
    {
      "cell_type": "markdown",
      "metadata": {
        "id": "7sXuZIiBs_u3"
      },
      "source": [
        "ใช้ pandas"
      ]
    },
    {
      "cell_type": "code",
      "metadata": {
        "id": "UktWM4jF7X19"
      },
      "source": [
        "import pandas as pd\r\n"
      ],
      "execution_count": 3,
      "outputs": []
    },
    {
      "cell_type": "code",
      "metadata": {
        "id": "n17RdpLN8A1W",
        "colab": {
          "base_uri": "https://localhost:8080/",
          "height": 343
        },
        "outputId": "107c7064-fe30-494c-cee4-5caa9dc7c459"
      },
      "source": [
        "data = pd.read_csv('Pizza.csv')\n",
        "data.head(10)"
      ],
      "execution_count": 4,
      "outputs": [
        {
          "output_type": "execute_result",
          "data": {
            "text/html": [
              "<div>\n",
              "<style scoped>\n",
              "    .dataframe tbody tr th:only-of-type {\n",
              "        vertical-align: middle;\n",
              "    }\n",
              "\n",
              "    .dataframe tbody tr th {\n",
              "        vertical-align: top;\n",
              "    }\n",
              "\n",
              "    .dataframe thead th {\n",
              "        text-align: right;\n",
              "    }\n",
              "</style>\n",
              "<table border=\"1\" class=\"dataframe\">\n",
              "  <thead>\n",
              "    <tr style=\"text-align: right;\">\n",
              "      <th></th>\n",
              "      <th>brand</th>\n",
              "      <th>id</th>\n",
              "      <th>mois</th>\n",
              "      <th>prot</th>\n",
              "      <th>fat</th>\n",
              "      <th>ash</th>\n",
              "      <th>sodium</th>\n",
              "      <th>carb</th>\n",
              "      <th>cal</th>\n",
              "    </tr>\n",
              "  </thead>\n",
              "  <tbody>\n",
              "    <tr>\n",
              "      <th>0</th>\n",
              "      <td>A</td>\n",
              "      <td>14069</td>\n",
              "      <td>27.82</td>\n",
              "      <td>21.43</td>\n",
              "      <td>44.87</td>\n",
              "      <td>5.11</td>\n",
              "      <td>1.77</td>\n",
              "      <td>0.77</td>\n",
              "      <td>4.93</td>\n",
              "    </tr>\n",
              "    <tr>\n",
              "      <th>1</th>\n",
              "      <td>A</td>\n",
              "      <td>14053</td>\n",
              "      <td>28.49</td>\n",
              "      <td>21.26</td>\n",
              "      <td>43.89</td>\n",
              "      <td>5.34</td>\n",
              "      <td>1.79</td>\n",
              "      <td>1.02</td>\n",
              "      <td>4.84</td>\n",
              "    </tr>\n",
              "    <tr>\n",
              "      <th>2</th>\n",
              "      <td>A</td>\n",
              "      <td>14025</td>\n",
              "      <td>28.35</td>\n",
              "      <td>19.99</td>\n",
              "      <td>45.78</td>\n",
              "      <td>5.08</td>\n",
              "      <td>1.63</td>\n",
              "      <td>0.80</td>\n",
              "      <td>4.95</td>\n",
              "    </tr>\n",
              "    <tr>\n",
              "      <th>3</th>\n",
              "      <td>A</td>\n",
              "      <td>14016</td>\n",
              "      <td>30.55</td>\n",
              "      <td>20.15</td>\n",
              "      <td>43.13</td>\n",
              "      <td>4.79</td>\n",
              "      <td>1.61</td>\n",
              "      <td>1.38</td>\n",
              "      <td>4.74</td>\n",
              "    </tr>\n",
              "    <tr>\n",
              "      <th>4</th>\n",
              "      <td>A</td>\n",
              "      <td>14005</td>\n",
              "      <td>30.49</td>\n",
              "      <td>21.28</td>\n",
              "      <td>41.65</td>\n",
              "      <td>4.82</td>\n",
              "      <td>1.64</td>\n",
              "      <td>1.76</td>\n",
              "      <td>4.67</td>\n",
              "    </tr>\n",
              "    <tr>\n",
              "      <th>5</th>\n",
              "      <td>A</td>\n",
              "      <td>14075</td>\n",
              "      <td>31.14</td>\n",
              "      <td>20.23</td>\n",
              "      <td>42.31</td>\n",
              "      <td>4.92</td>\n",
              "      <td>1.65</td>\n",
              "      <td>1.40</td>\n",
              "      <td>4.67</td>\n",
              "    </tr>\n",
              "    <tr>\n",
              "      <th>6</th>\n",
              "      <td>A</td>\n",
              "      <td>14082</td>\n",
              "      <td>31.21</td>\n",
              "      <td>20.97</td>\n",
              "      <td>41.34</td>\n",
              "      <td>4.71</td>\n",
              "      <td>1.58</td>\n",
              "      <td>1.77</td>\n",
              "      <td>4.63</td>\n",
              "    </tr>\n",
              "    <tr>\n",
              "      <th>7</th>\n",
              "      <td>A</td>\n",
              "      <td>14097</td>\n",
              "      <td>28.76</td>\n",
              "      <td>21.41</td>\n",
              "      <td>41.60</td>\n",
              "      <td>5.28</td>\n",
              "      <td>1.75</td>\n",
              "      <td>2.95</td>\n",
              "      <td>4.72</td>\n",
              "    </tr>\n",
              "    <tr>\n",
              "      <th>8</th>\n",
              "      <td>A</td>\n",
              "      <td>14117</td>\n",
              "      <td>28.22</td>\n",
              "      <td>20.48</td>\n",
              "      <td>45.10</td>\n",
              "      <td>5.02</td>\n",
              "      <td>1.71</td>\n",
              "      <td>1.18</td>\n",
              "      <td>4.93</td>\n",
              "    </tr>\n",
              "    <tr>\n",
              "      <th>9</th>\n",
              "      <td>A</td>\n",
              "      <td>14133</td>\n",
              "      <td>27.72</td>\n",
              "      <td>21.19</td>\n",
              "      <td>45.29</td>\n",
              "      <td>5.16</td>\n",
              "      <td>1.66</td>\n",
              "      <td>0.64</td>\n",
              "      <td>4.95</td>\n",
              "    </tr>\n",
              "  </tbody>\n",
              "</table>\n",
              "</div>"
            ],
            "text/plain": [
              "  brand     id   mois   prot    fat   ash  sodium  carb   cal\n",
              "0     A  14069  27.82  21.43  44.87  5.11    1.77  0.77  4.93\n",
              "1     A  14053  28.49  21.26  43.89  5.34    1.79  1.02  4.84\n",
              "2     A  14025  28.35  19.99  45.78  5.08    1.63  0.80  4.95\n",
              "3     A  14016  30.55  20.15  43.13  4.79    1.61  1.38  4.74\n",
              "4     A  14005  30.49  21.28  41.65  4.82    1.64  1.76  4.67\n",
              "5     A  14075  31.14  20.23  42.31  4.92    1.65  1.40  4.67\n",
              "6     A  14082  31.21  20.97  41.34  4.71    1.58  1.77  4.63\n",
              "7     A  14097  28.76  21.41  41.60  5.28    1.75  2.95  4.72\n",
              "8     A  14117  28.22  20.48  45.10  5.02    1.71  1.18  4.93\n",
              "9     A  14133  27.72  21.19  45.29  5.16    1.66  0.64  4.95"
            ]
          },
          "metadata": {
            "tags": []
          },
          "execution_count": 4
        }
      ]
    },
    {
      "cell_type": "markdown",
      "metadata": {
        "id": "TvKpRJ8hBU6I"
      },
      "source": [
        "## ตรวจสอบขนาดของข้อมูลว่ามี data กี่ตัว และมีกี่ dimensions"
      ]
    },
    {
      "cell_type": "code",
      "metadata": {
        "id": "uG22vcmZ_8VQ",
        "colab": {
          "base_uri": "https://localhost:8080/"
        },
        "outputId": "928e1831-04c0-4d42-e7be-503569d7f252"
      },
      "source": [
        "data.shape"
      ],
      "execution_count": 5,
      "outputs": [
        {
          "output_type": "execute_result",
          "data": {
            "text/plain": [
              "(300, 9)"
            ]
          },
          "metadata": {
            "tags": []
          },
          "execution_count": 5
        }
      ]
    },
    {
      "cell_type": "markdown",
      "metadata": {
        "id": "E3uu6TzuBp8y"
      },
      "source": [
        "## ลอง plot scatter matrix เพื่อดูการกระจาย ของ data ใน มุมมองต่างๆ"
      ]
    },
    {
      "cell_type": "code",
      "metadata": {
        "id": "5lLFljye8dOH",
        "colab": {
          "base_uri": "https://localhost:8080/",
          "height": 1000
        },
        "outputId": "a337b772-e5b4-481f-c641-c5cf3f0358f4"
      },
      "source": [
        "pd.plotting.scatter_matrix(data)"
      ],
      "execution_count": 6,
      "outputs": [
        {
          "output_type": "execute_result",
          "data": {
            "text/plain": [
              "array([[<matplotlib.axes._subplots.AxesSubplot object at 0x7f1fd8387690>,\n",
              "        <matplotlib.axes._subplots.AxesSubplot object at 0x7f1fd8351b50>,\n",
              "        <matplotlib.axes._subplots.AxesSubplot object at 0x7f1fd8319210>,\n",
              "        <matplotlib.axes._subplots.AxesSubplot object at 0x7f1fd82cb7d0>,\n",
              "        <matplotlib.axes._subplots.AxesSubplot object at 0x7f1fd8301e50>,\n",
              "        <matplotlib.axes._subplots.AxesSubplot object at 0x7f1fd82c2510>,\n",
              "        <matplotlib.axes._subplots.AxesSubplot object at 0x7f1fd827bc10>,\n",
              "        <matplotlib.axes._subplots.AxesSubplot object at 0x7f1fd823a210>],\n",
              "       [<matplotlib.axes._subplots.AxesSubplot object at 0x7f1fd823a250>,\n",
              "        <matplotlib.axes._subplots.AxesSubplot object at 0x7f1fd81f19d0>,\n",
              "        <matplotlib.axes._subplots.AxesSubplot object at 0x7f1fd8169610>,\n",
              "        <matplotlib.axes._subplots.AxesSubplot object at 0x7f1fd811cc90>,\n",
              "        <matplotlib.axes._subplots.AxesSubplot object at 0x7f1fd80e1350>,\n",
              "        <matplotlib.axes._subplots.AxesSubplot object at 0x7f1fd838e490>,\n",
              "        <matplotlib.axes._subplots.AxesSubplot object at 0x7f1fd81c4490>,\n",
              "        <matplotlib.axes._subplots.AxesSubplot object at 0x7f1fd807d7d0>],\n",
              "       [<matplotlib.axes._subplots.AxesSubplot object at 0x7f1fd8032e50>,\n",
              "        <matplotlib.axes._subplots.AxesSubplot object at 0x7f1fd7ff3510>,\n",
              "        <matplotlib.axes._subplots.AxesSubplot object at 0x7f1fd7faab90>,\n",
              "        <matplotlib.axes._subplots.AxesSubplot object at 0x7f1fd7f6b250>,\n",
              "        <matplotlib.axes._subplots.AxesSubplot object at 0x7f1fd7f208d0>,\n",
              "        <matplotlib.axes._subplots.AxesSubplot object at 0x7f1fd7ed7f50>,\n",
              "        <matplotlib.axes._subplots.AxesSubplot object at 0x7f1fd7e99610>,\n",
              "        <matplotlib.axes._subplots.AxesSubplot object at 0x7f1fd7e4dc90>],\n",
              "       [<matplotlib.axes._subplots.AxesSubplot object at 0x7f1fd7e10350>,\n",
              "        <matplotlib.axes._subplots.AxesSubplot object at 0x7f1fd7dc69d0>,\n",
              "        <matplotlib.axes._subplots.AxesSubplot object at 0x7f1fd7df2b90>,\n",
              "        <matplotlib.axes._subplots.AxesSubplot object at 0x7f1fd7dbc710>,\n",
              "        <matplotlib.axes._subplots.AxesSubplot object at 0x7f1fd7d73d90>,\n",
              "        <matplotlib.axes._subplots.AxesSubplot object at 0x7f1fd7d35450>,\n",
              "        <matplotlib.axes._subplots.AxesSubplot object at 0x7f1fd7ceaad0>,\n",
              "        <matplotlib.axes._subplots.AxesSubplot object at 0x7f1fd7caa190>],\n",
              "       [<matplotlib.axes._subplots.AxesSubplot object at 0x7f1fd7c62810>,\n",
              "        <matplotlib.axes._subplots.AxesSubplot object at 0x7f1fd7c17e90>,\n",
              "        <matplotlib.axes._subplots.AxesSubplot object at 0x7f1fd7bd9550>,\n",
              "        <matplotlib.axes._subplots.AxesSubplot object at 0x7f1fd7b8ebd0>,\n",
              "        <matplotlib.axes._subplots.AxesSubplot object at 0x7f1fd7b50290>,\n",
              "        <matplotlib.axes._subplots.AxesSubplot object at 0x7f1fd7b05910>,\n",
              "        <matplotlib.axes._subplots.AxesSubplot object at 0x7f1fd7b3df90>,\n",
              "        <matplotlib.axes._subplots.AxesSubplot object at 0x7f1fd7afc650>],\n",
              "       [<matplotlib.axes._subplots.AxesSubplot object at 0x7f1fd7ab2cd0>,\n",
              "        <matplotlib.axes._subplots.AxesSubplot object at 0x7f1fd7a74390>,\n",
              "        <matplotlib.axes._subplots.AxesSubplot object at 0x7f1fd7a2aa10>,\n",
              "        <matplotlib.axes._subplots.AxesSubplot object at 0x7f1fd79e3bd0>,\n",
              "        <matplotlib.axes._subplots.AxesSubplot object at 0x7f1fd79a5190>,\n",
              "        <matplotlib.axes._subplots.AxesSubplot object at 0x7f1fd7959710>,\n",
              "        <matplotlib.axes._subplots.AxesSubplot object at 0x7f1fd7910c90>,\n",
              "        <matplotlib.axes._subplots.AxesSubplot object at 0x7f1fd78cf250>],\n",
              "       [<matplotlib.axes._subplots.AxesSubplot object at 0x7f1fd78867d0>,\n",
              "        <matplotlib.axes._subplots.AxesSubplot object at 0x7f1fd78b8d50>,\n",
              "        <matplotlib.axes._subplots.AxesSubplot object at 0x7f1fd787d310>,\n",
              "        <matplotlib.axes._subplots.AxesSubplot object at 0x7f1fd7833890>,\n",
              "        <matplotlib.axes._subplots.AxesSubplot object at 0x7f1fd77e9e10>,\n",
              "        <matplotlib.axes._subplots.AxesSubplot object at 0x7f1fd77a83d0>,\n",
              "        <matplotlib.axes._subplots.AxesSubplot object at 0x7f1fd775d950>,\n",
              "        <matplotlib.axes._subplots.AxesSubplot object at 0x7f1fd7712ed0>],\n",
              "       [<matplotlib.axes._subplots.AxesSubplot object at 0x7f1fd76d6490>,\n",
              "        <matplotlib.axes._subplots.AxesSubplot object at 0x7f1fd7688a10>,\n",
              "        <matplotlib.axes._subplots.AxesSubplot object at 0x7f1fd76c1f90>,\n",
              "        <matplotlib.axes._subplots.AxesSubplot object at 0x7f1fd7682550>,\n",
              "        <matplotlib.axes._subplots.AxesSubplot object at 0x7f1fd7636ad0>,\n",
              "        <matplotlib.axes._subplots.AxesSubplot object at 0x7f1fd75e1b90>,\n",
              "        <matplotlib.axes._subplots.AxesSubplot object at 0x7f1fd75ab610>,\n",
              "        <matplotlib.axes._subplots.AxesSubplot object at 0x7f1fd7561b90>]],\n",
              "      dtype=object)"
            ]
          },
          "metadata": {
            "tags": []
          },
          "execution_count": 6
        },
        {
          "output_type": "display_data",
          "data": {
            "image/png": "[encoded data removed]",
            "text/plain": [
              "<Figure size 432x288 with 64 Axes>"
            ]
          },
          "metadata": {
            "tags": [],
            "needs_background": "light"
          }
        }
      ]
    },
    {
      "cell_type": "markdown",
      "metadata": {
        "id": "iP1cFVhUAwbb"
      },
      "source": [
        "#เนื่องจาก Data  มี dimensions มากเกินไปเราจะทดสอบดูว่า column  ใด ให้ข้อมูลซ้ำกับ column อื่น แล้วลบมันออก"
      ]
    },
    {
      "cell_type": "markdown",
      "metadata": {
        "id": "d13loAL8zm-o"
      },
      "source": [
        "ลบแถวที่ไม่ใช่ตัวเลขออก"
      ]
    },
    {
      "cell_type": "code",
      "metadata": {
        "id": "MDBT9iqf-cye",
        "colab": {
          "base_uri": "https://localhost:8080/",
          "height": 195
        },
        "outputId": "3a63a5af-3372-4aeb-f4e9-983c3cf48b2e"
      },
      "source": [
        "newdata = data.iloc[:,1:]  #เอาทุกแถวถึงแถวที่1\r\n",
        "newdata.head()"
      ],
      "execution_count": 7,
      "outputs": [
        {
          "output_type": "execute_result",
          "data": {
            "text/html": [
              "<div>\n",
              "<style scoped>\n",
              "    .dataframe tbody tr th:only-of-type {\n",
              "        vertical-align: middle;\n",
              "    }\n",
              "\n",
              "    .dataframe tbody tr th {\n",
              "        vertical-align: top;\n",
              "    }\n",
              "\n",
              "    .dataframe thead th {\n",
              "        text-align: right;\n",
              "    }\n",
              "</style>\n",
              "<table border=\"1\" class=\"dataframe\">\n",
              "  <thead>\n",
              "    <tr style=\"text-align: right;\">\n",
              "      <th></th>\n",
              "      <th>id</th>\n",
              "      <th>mois</th>\n",
              "      <th>prot</th>\n",
              "      <th>fat</th>\n",
              "      <th>ash</th>\n",
              "      <th>sodium</th>\n",
              "      <th>carb</th>\n",
              "      <th>cal</th>\n",
              "    </tr>\n",
              "  </thead>\n",
              "  <tbody>\n",
              "    <tr>\n",
              "      <th>0</th>\n",
              "      <td>14069</td>\n",
              "      <td>27.82</td>\n",
              "      <td>21.43</td>\n",
              "      <td>44.87</td>\n",
              "      <td>5.11</td>\n",
              "      <td>1.77</td>\n",
              "      <td>0.77</td>\n",
              "      <td>4.93</td>\n",
              "    </tr>\n",
              "    <tr>\n",
              "      <th>1</th>\n",
              "      <td>14053</td>\n",
              "      <td>28.49</td>\n",
              "      <td>21.26</td>\n",
              "      <td>43.89</td>\n",
              "      <td>5.34</td>\n",
              "      <td>1.79</td>\n",
              "      <td>1.02</td>\n",
              "      <td>4.84</td>\n",
              "    </tr>\n",
              "    <tr>\n",
              "      <th>2</th>\n",
              "      <td>14025</td>\n",
              "      <td>28.35</td>\n",
              "      <td>19.99</td>\n",
              "      <td>45.78</td>\n",
              "      <td>5.08</td>\n",
              "      <td>1.63</td>\n",
              "      <td>0.80</td>\n",
              "      <td>4.95</td>\n",
              "    </tr>\n",
              "    <tr>\n",
              "      <th>3</th>\n",
              "      <td>14016</td>\n",
              "      <td>30.55</td>\n",
              "      <td>20.15</td>\n",
              "      <td>43.13</td>\n",
              "      <td>4.79</td>\n",
              "      <td>1.61</td>\n",
              "      <td>1.38</td>\n",
              "      <td>4.74</td>\n",
              "    </tr>\n",
              "    <tr>\n",
              "      <th>4</th>\n",
              "      <td>14005</td>\n",
              "      <td>30.49</td>\n",
              "      <td>21.28</td>\n",
              "      <td>41.65</td>\n",
              "      <td>4.82</td>\n",
              "      <td>1.64</td>\n",
              "      <td>1.76</td>\n",
              "      <td>4.67</td>\n",
              "    </tr>\n",
              "  </tbody>\n",
              "</table>\n",
              "</div>"
            ],
            "text/plain": [
              "      id   mois   prot    fat   ash  sodium  carb   cal\n",
              "0  14069  27.82  21.43  44.87  5.11    1.77  0.77  4.93\n",
              "1  14053  28.49  21.26  43.89  5.34    1.79  1.02  4.84\n",
              "2  14025  28.35  19.99  45.78  5.08    1.63  0.80  4.95\n",
              "3  14016  30.55  20.15  43.13  4.79    1.61  1.38  4.74\n",
              "4  14005  30.49  21.28  41.65  4.82    1.64  1.76  4.67"
            ]
          },
          "metadata": {
            "tags": []
          },
          "execution_count": 7
        }
      ]
    },
    {
      "cell_type": "markdown",
      "metadata": {
        "id": "HGpiBDbxC_rr"
      },
      "source": [
        "#ตรวจสอบว่าละหว่าง columns มี correlationกันมากน้อยแค่ไหน ด้วย numpy"
      ]
    },
    {
      "cell_type": "code",
      "metadata": {
        "id": "He6exlLACD8L"
      },
      "source": [
        "import numpy as np #numpy ใช้กับข้อมูลที่เป็นตัวเลข\r\n"
      ],
      "execution_count": 19,
      "outputs": []
    },
    {
      "cell_type": "code",
      "metadata": {
        "id": "q_IhMfw3DQ5i"
      },
      "source": [
        "corr = np.corrcoef(newdata.to_numpy().T)"
      ],
      "execution_count": 9,
      "outputs": []
    },
    {
      "cell_type": "code",
      "metadata": {
        "id": "Ch5HMednFl2L",
        "colab": {
          "base_uri": "https://localhost:8080/"
        },
        "outputId": "779d6b92-33cf-43ce-faf5-7aedbef1aa78"
      },
      "source": [
        "corr.shape #ดูขนาด"
      ],
      "execution_count": 20,
      "outputs": [
        {
          "output_type": "execute_result",
          "data": {
            "text/plain": [
              "(8, 8)"
            ]
          },
          "metadata": {
            "tags": []
          },
          "execution_count": 20
        }
      ]
    },
    {
      "cell_type": "code",
      "metadata": {
        "id": "Eoi12n4xvoDp",
        "colab": {
          "base_uri": "https://localhost:8080/"
        },
        "outputId": "e36722df-0d73-42f4-e3af-a0999add6136"
      },
      "source": [
        "corr"
      ],
      "execution_count": 11,
      "outputs": [
        {
          "output_type": "execute_result",
          "data": {
            "text/plain": [
              "array([[ 1.        ,  0.03259505, -0.07648546, -0.00486006, -0.03407156,\n",
              "        -0.01515608,  0.01496614, -0.02120862],\n",
              "       [ 0.03259505,  1.        ,  0.36024768, -0.17131821,  0.26555552,\n",
              "        -0.1022789 , -0.59180165, -0.76444054],\n",
              "       [-0.07648546,  0.36024768,  1.        ,  0.49800167,  0.8238437 ,\n",
              "         0.42912952, -0.85354226,  0.0702581 ],\n",
              "       [-0.00486006, -0.17131821,  0.49800167,  1.        ,  0.79163396,\n",
              "         0.93332522, -0.64023817,  0.7645671 ],\n",
              "       [-0.03407156,  0.26555552,  0.8238437 ,  0.79163396,  1.        ,\n",
              "         0.80812215, -0.89898837,  0.32646845],\n",
              "       [-0.01515608, -0.1022789 ,  0.42912952,  0.93332522,  0.80812215,\n",
              "         1.        , -0.62017634,  0.6719575 ],\n",
              "       [ 0.01496614, -0.59180165, -0.85354226, -0.64023817, -0.89898837,\n",
              "        -0.62017634,  1.        , -0.02348458],\n",
              "       [-0.02120862, -0.76444054,  0.0702581 ,  0.7645671 ,  0.32646845,\n",
              "         0.6719575 , -0.02348458,  1.        ]])"
            ]
          },
          "metadata": {
            "tags": []
          },
          "execution_count": 11
        }
      ]
    },
    {
      "cell_type": "code",
      "metadata": {
        "id": "zAwY2hJ6DYWS"
      },
      "source": [
        "for i in range(corr.shape[0] ):\r\n",
        "  for j in  range(corr.shape[1] ):\r\n",
        "    if( i !=j) and (corr [i,j] == 1.):\r\n",
        "      print(f'row = {i} column = {j} corrcoef = {corr[i,j]}')"
      ],
      "execution_count": 17,
      "outputs": []
    },
    {
      "cell_type": "code",
      "metadata": {
        "id": "YIysFf70Glcu"
      },
      "source": [
        "from matplotlib import pyplot as plt"
      ],
      "execution_count": 18,
      "outputs": []
    },
    {
      "cell_type": "markdown",
      "metadata": {
        "id": "O0B6KqjGIBKm"
      },
      "source": [
        "### data ที่มี  correlation เป็น 1"
      ]
    },
    {
      "cell_type": "code",
      "metadata": {
        "id": "1pXah-m41N7M"
      },
      "source": [
        ""
      ],
      "execution_count": null,
      "outputs": []
    },
    {
      "cell_type": "code",
      "metadata": {
        "id": "xsTpVXHnGPvD"
      },
      "source": [
        "plt.plot(newdata.iloc[:,1],newdata.iloc[:,10],'r.')"
      ],
      "execution_count": null,
      "outputs": []
    },
    {
      "cell_type": "code",
      "metadata": {
        "id": "6f_so8vC1R_X"
      },
      "source": [
        ""
      ],
      "execution_count": null,
      "outputs": []
    }
  ]
}