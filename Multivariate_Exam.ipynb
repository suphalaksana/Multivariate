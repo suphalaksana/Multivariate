{
  "nbformat": 4,
  "nbformat_minor": 0,
  "metadata": {
    "colab": {
      "name": "Multivariate Exam.ipynb",
      "provenance": [],
      "include_colab_link": true
    },
    "kernelspec": {
      "name": "python3",
      "display_name": "Python 3"
    },
    "language_info": {
      "name": "python"
    }
  },
  "cells": [
    {
      "cell_type": "markdown",
      "metadata": {
        "id": "view-in-github",
        "colab_type": "text"
      },
      "source": [
        "<a href=\"https://colab.research.google.com/github/suphalaksana/Multivariate/blob/main/Multivariate_Exam.ipynb\" target=\"_parent\"><img src=\"https://colab.research.google.com/assets/colab-badge.svg\" alt=\"Open In Colab\"/></a>"
      ]
    },
    {
      "cell_type": "markdown",
      "metadata": {
        "id": "JZxiNADfaDtv"
      },
      "source": [
        "ให้นักศึกษาทำข้อสอบใน Colab Notebook นี้โดยกรอกข้อมูลของตัวเองใน cell ที่ 2 แล้วรัน cell ที่ 1 - 5 และเริ่มทำข้อสอบใน cell ที่ 6 เป็นต้นไป\n",
        "\n",
        "โดยโจทย์คือ\n",
        "1. ข้อมูลโจทย์ อยู่ใน ตัวแปร ```Data```\n",
        "2. ทำ clustering แล้วทำ visualize ข้อมูลแบบ 2 มิติ\n",
        "3. ลด Dimension ของข้อมูลเหลือ 2 มิติ แล้วทำ clustering แล้ว visualize ข้อมูลแบบ 2 มิติ\n",
        "4. เปรียบเทียบความแตกต่างของผลข้อ 2. กับ ข้อ 3.\n",
        "5. เขียน comments อธิบายทุกขั้นตอน\n",
        "6. อัด video อธิบาย code ทุกๆขั้นตอนรวมถึงผลแล้วอัพลง youtube ในรูปแบบ unlist \n",
        "7. commit โดยใช้ชื่อ commit เป็น link youtube ที่อธิบาย code ในข้อ 6.\n",
        "\n",
        "กำหนดส่งวันที่ 2 พฤษภาคม 2564 (โดยให้มากรอกวันที่ commit ครั้งสุดท้ายใน sheet: https://docs.google.com/spreadsheets/d/1_qJwLDJVtOW1HxBcf_FHVc6UT4J_SOonuR6o3EEnVzw/edit?usp=sharing ช่อง Final)"
      ]
    },
    {
      "cell_type": "code",
      "metadata": {
        "id": "cWl2x1bPGtQl"
      },
      "source": [
        "from sklearn.datasets import make_blobs\n",
        "import random,math\n",
        "import numpy as np\n",
        "import pandas"
      ],
      "execution_count": 6,
      "outputs": []
    },
    {
      "cell_type": "code",
      "metadata": {
        "id": "gZfzuiHsZksh"
      },
      "source": [
        "Name = 'ศุภลักษณา  บัวจันทร์'\n",
        "ID = '6230205404'"
      ],
      "execution_count": 7,
      "outputs": []
    },
    {
      "cell_type": "code",
      "metadata": {
        "id": "8hFQXkF5aAiA"
      },
      "source": [
        "def DataGenerator(name,id):\n",
        "    random.seed(int(id[3:6]))\n",
        "    numfeat = random.randint(20,30)\n",
        "    ct = random.randint(len(name)-6,len(name))\n",
        "    \n",
        "    X, y = make_blobs(n_samples=10000, centers=ct, n_features=numfeat , random_state=int(id[3:6]))\n",
        "\n",
        "    print(f'{id[3:6]}:{numfeat}:{ct}')\n",
        "    X_t = (X[:,1]*2)+int(id[3])\n",
        "    X_t2 = (X[:,-1]*5)+int(id[4])\n",
        "\n",
        "    DT = np.append(X,X_t.reshape([10000,1]),axis=1)\n",
        "    DT = np.append(DT,X_t2.reshape([10000,1]),axis=1)\n",
        "    \n",
        "    return pandas.DataFrame(DT)"
      ],
      "execution_count": 8,
      "outputs": []
    },
    {
      "cell_type": "code",
      "metadata": {
        "colab": {
          "base_uri": "https://localhost:8080/"
        },
        "id": "hbXlxumSBX9i",
        "outputId": "c5c64467-54cc-4dc0-ece9-1aabad2babc3"
      },
      "source": [
        "Data = DataGenerator(Name,ID)"
      ],
      "execution_count": 9,
      "outputs": [
        {
          "output_type": "stream",
          "text": [
            "020:30:20\n"
          ],
          "name": "stdout"
        }
      ]
    },
    {
      "cell_type": "code",
      "metadata": {
        "colab": {
          "base_uri": "https://localhost:8080/",
          "height": 422
        },
        "id": "pQcCySXvBdN-",
        "outputId": "2da4a52d-3255-4c77-e8cb-49435c92c3cc"
      },
      "source": [
        "Data"
      ],
      "execution_count": 10,
      "outputs": [
        {
          "output_type": "execute_result",
          "data": {
            "text/html": [
              "<div>\n",
              "<style scoped>\n",
              "    .dataframe tbody tr th:only-of-type {\n",
              "        vertical-align: middle;\n",
              "    }\n",
              "\n",
              "    .dataframe tbody tr th {\n",
              "        vertical-align: top;\n",
              "    }\n",
              "\n",
              "    .dataframe thead th {\n",
              "        text-align: right;\n",
              "    }\n",
              "</style>\n",
              "<table border=\"1\" class=\"dataframe\">\n",
              "  <thead>\n",
              "    <tr style=\"text-align: right;\">\n",
              "      <th></th>\n",
              "      <th>0</th>\n",
              "      <th>1</th>\n",
              "      <th>2</th>\n",
              "      <th>3</th>\n",
              "      <th>4</th>\n",
              "      <th>5</th>\n",
              "      <th>6</th>\n",
              "      <th>7</th>\n",
              "      <th>8</th>\n",
              "      <th>9</th>\n",
              "      <th>10</th>\n",
              "      <th>11</th>\n",
              "      <th>12</th>\n",
              "      <th>13</th>\n",
              "      <th>14</th>\n",
              "      <th>15</th>\n",
              "      <th>16</th>\n",
              "      <th>17</th>\n",
              "      <th>18</th>\n",
              "      <th>19</th>\n",
              "      <th>20</th>\n",
              "      <th>21</th>\n",
              "      <th>22</th>\n",
              "      <th>23</th>\n",
              "      <th>24</th>\n",
              "      <th>25</th>\n",
              "      <th>26</th>\n",
              "      <th>27</th>\n",
              "      <th>28</th>\n",
              "      <th>29</th>\n",
              "      <th>30</th>\n",
              "      <th>31</th>\n",
              "    </tr>\n",
              "  </thead>\n",
              "  <tbody>\n",
              "    <tr>\n",
              "      <th>0</th>\n",
              "      <td>3.773747</td>\n",
              "      <td>6.061187</td>\n",
              "      <td>-9.222883</td>\n",
              "      <td>-8.954075</td>\n",
              "      <td>6.305175</td>\n",
              "      <td>0.292267</td>\n",
              "      <td>7.613113</td>\n",
              "      <td>1.220585</td>\n",
              "      <td>7.528680</td>\n",
              "      <td>-0.619801</td>\n",
              "      <td>7.349913</td>\n",
              "      <td>-2.810641</td>\n",
              "      <td>-3.111243</td>\n",
              "      <td>-1.079978</td>\n",
              "      <td>-2.554639</td>\n",
              "      <td>6.921826</td>\n",
              "      <td>-2.531105</td>\n",
              "      <td>-3.615193</td>\n",
              "      <td>-1.092670</td>\n",
              "      <td>-0.952016</td>\n",
              "      <td>3.812928</td>\n",
              "      <td>-7.987567</td>\n",
              "      <td>4.027819</td>\n",
              "      <td>-2.660919</td>\n",
              "      <td>7.456041</td>\n",
              "      <td>-7.316476</td>\n",
              "      <td>5.960466</td>\n",
              "      <td>-2.767330</td>\n",
              "      <td>-8.676474</td>\n",
              "      <td>5.676556</td>\n",
              "      <td>12.122375</td>\n",
              "      <td>30.382779</td>\n",
              "    </tr>\n",
              "    <tr>\n",
              "      <th>1</th>\n",
              "      <td>8.484404</td>\n",
              "      <td>-5.319557</td>\n",
              "      <td>-8.296086</td>\n",
              "      <td>-3.727046</td>\n",
              "      <td>3.417146</td>\n",
              "      <td>-2.354321</td>\n",
              "      <td>-3.198962</td>\n",
              "      <td>-5.068781</td>\n",
              "      <td>9.627884</td>\n",
              "      <td>-1.186137</td>\n",
              "      <td>7.624599</td>\n",
              "      <td>3.679341</td>\n",
              "      <td>-6.719260</td>\n",
              "      <td>9.427014</td>\n",
              "      <td>0.545413</td>\n",
              "      <td>-8.229463</td>\n",
              "      <td>0.397966</td>\n",
              "      <td>-6.307839</td>\n",
              "      <td>3.660300</td>\n",
              "      <td>-3.227168</td>\n",
              "      <td>-6.623447</td>\n",
              "      <td>9.712237</td>\n",
              "      <td>-7.599891</td>\n",
              "      <td>4.959062</td>\n",
              "      <td>2.586674</td>\n",
              "      <td>7.743150</td>\n",
              "      <td>-1.866618</td>\n",
              "      <td>-9.646674</td>\n",
              "      <td>-0.839624</td>\n",
              "      <td>-4.623120</td>\n",
              "      <td>-10.639114</td>\n",
              "      <td>-21.115602</td>\n",
              "    </tr>\n",
              "    <tr>\n",
              "      <th>2</th>\n",
              "      <td>-0.885176</td>\n",
              "      <td>-2.064377</td>\n",
              "      <td>-1.735326</td>\n",
              "      <td>7.347219</td>\n",
              "      <td>2.895234</td>\n",
              "      <td>-6.591421</td>\n",
              "      <td>4.689732</td>\n",
              "      <td>-1.831760</td>\n",
              "      <td>5.527787</td>\n",
              "      <td>-2.187902</td>\n",
              "      <td>-4.621077</td>\n",
              "      <td>-2.095996</td>\n",
              "      <td>-6.282829</td>\n",
              "      <td>-6.921801</td>\n",
              "      <td>-3.469243</td>\n",
              "      <td>3.709721</td>\n",
              "      <td>1.311006</td>\n",
              "      <td>8.423316</td>\n",
              "      <td>4.180588</td>\n",
              "      <td>-7.635288</td>\n",
              "      <td>8.171219</td>\n",
              "      <td>-4.399013</td>\n",
              "      <td>-8.206858</td>\n",
              "      <td>-2.485293</td>\n",
              "      <td>2.718617</td>\n",
              "      <td>-3.658901</td>\n",
              "      <td>-3.315503</td>\n",
              "      <td>8.318886</td>\n",
              "      <td>9.889534</td>\n",
              "      <td>4.934751</td>\n",
              "      <td>-4.128754</td>\n",
              "      <td>26.673756</td>\n",
              "    </tr>\n",
              "    <tr>\n",
              "      <th>3</th>\n",
              "      <td>0.928953</td>\n",
              "      <td>-3.955223</td>\n",
              "      <td>-7.030693</td>\n",
              "      <td>9.744129</td>\n",
              "      <td>-0.342992</td>\n",
              "      <td>1.773401</td>\n",
              "      <td>-7.167229</td>\n",
              "      <td>4.207292</td>\n",
              "      <td>3.302174</td>\n",
              "      <td>3.398619</td>\n",
              "      <td>5.902347</td>\n",
              "      <td>6.416682</td>\n",
              "      <td>-1.720844</td>\n",
              "      <td>8.569327</td>\n",
              "      <td>-9.563628</td>\n",
              "      <td>5.719072</td>\n",
              "      <td>6.597021</td>\n",
              "      <td>0.552377</td>\n",
              "      <td>3.057767</td>\n",
              "      <td>9.206791</td>\n",
              "      <td>-3.929266</td>\n",
              "      <td>-0.312406</td>\n",
              "      <td>-0.848727</td>\n",
              "      <td>5.037263</td>\n",
              "      <td>-9.414485</td>\n",
              "      <td>-8.538412</td>\n",
              "      <td>-6.457095</td>\n",
              "      <td>8.513097</td>\n",
              "      <td>-3.362707</td>\n",
              "      <td>4.125484</td>\n",
              "      <td>-7.910447</td>\n",
              "      <td>22.627419</td>\n",
              "    </tr>\n",
              "    <tr>\n",
              "      <th>4</th>\n",
              "      <td>-5.690987</td>\n",
              "      <td>-3.517787</td>\n",
              "      <td>-2.858825</td>\n",
              "      <td>-7.169143</td>\n",
              "      <td>-5.605544</td>\n",
              "      <td>-9.054258</td>\n",
              "      <td>6.521987</td>\n",
              "      <td>-0.913724</td>\n",
              "      <td>-7.339663</td>\n",
              "      <td>-9.462569</td>\n",
              "      <td>1.945500</td>\n",
              "      <td>-4.143945</td>\n",
              "      <td>1.903859</td>\n",
              "      <td>-0.889551</td>\n",
              "      <td>9.734788</td>\n",
              "      <td>2.465684</td>\n",
              "      <td>-0.186815</td>\n",
              "      <td>10.274393</td>\n",
              "      <td>5.035283</td>\n",
              "      <td>-7.027597</td>\n",
              "      <td>-8.250220</td>\n",
              "      <td>0.108123</td>\n",
              "      <td>6.192776</td>\n",
              "      <td>2.864375</td>\n",
              "      <td>-6.834458</td>\n",
              "      <td>-2.341450</td>\n",
              "      <td>-6.447813</td>\n",
              "      <td>-8.751939</td>\n",
              "      <td>-7.332672</td>\n",
              "      <td>5.696778</td>\n",
              "      <td>-7.035574</td>\n",
              "      <td>30.483889</td>\n",
              "    </tr>\n",
              "    <tr>\n",
              "      <th>...</th>\n",
              "      <td>...</td>\n",
              "      <td>...</td>\n",
              "      <td>...</td>\n",
              "      <td>...</td>\n",
              "      <td>...</td>\n",
              "      <td>...</td>\n",
              "      <td>...</td>\n",
              "      <td>...</td>\n",
              "      <td>...</td>\n",
              "      <td>...</td>\n",
              "      <td>...</td>\n",
              "      <td>...</td>\n",
              "      <td>...</td>\n",
              "      <td>...</td>\n",
              "      <td>...</td>\n",
              "      <td>...</td>\n",
              "      <td>...</td>\n",
              "      <td>...</td>\n",
              "      <td>...</td>\n",
              "      <td>...</td>\n",
              "      <td>...</td>\n",
              "      <td>...</td>\n",
              "      <td>...</td>\n",
              "      <td>...</td>\n",
              "      <td>...</td>\n",
              "      <td>...</td>\n",
              "      <td>...</td>\n",
              "      <td>...</td>\n",
              "      <td>...</td>\n",
              "      <td>...</td>\n",
              "      <td>...</td>\n",
              "      <td>...</td>\n",
              "    </tr>\n",
              "    <tr>\n",
              "      <th>9995</th>\n",
              "      <td>7.631343</td>\n",
              "      <td>-5.922440</td>\n",
              "      <td>-7.594832</td>\n",
              "      <td>-1.042551</td>\n",
              "      <td>3.699737</td>\n",
              "      <td>0.414187</td>\n",
              "      <td>-1.054134</td>\n",
              "      <td>-8.502152</td>\n",
              "      <td>8.658479</td>\n",
              "      <td>4.100714</td>\n",
              "      <td>7.837780</td>\n",
              "      <td>3.280779</td>\n",
              "      <td>-7.556245</td>\n",
              "      <td>7.024185</td>\n",
              "      <td>-1.320418</td>\n",
              "      <td>-9.951174</td>\n",
              "      <td>-0.452707</td>\n",
              "      <td>-5.646853</td>\n",
              "      <td>5.616549</td>\n",
              "      <td>-4.387339</td>\n",
              "      <td>-7.612117</td>\n",
              "      <td>9.434799</td>\n",
              "      <td>-7.439684</td>\n",
              "      <td>5.362935</td>\n",
              "      <td>5.604233</td>\n",
              "      <td>7.636980</td>\n",
              "      <td>-3.764263</td>\n",
              "      <td>-9.298095</td>\n",
              "      <td>-4.074592</td>\n",
              "      <td>-3.094425</td>\n",
              "      <td>-11.844880</td>\n",
              "      <td>-13.472124</td>\n",
              "    </tr>\n",
              "    <tr>\n",
              "      <th>9996</th>\n",
              "      <td>-9.164097</td>\n",
              "      <td>3.211174</td>\n",
              "      <td>-1.865883</td>\n",
              "      <td>-9.905384</td>\n",
              "      <td>-3.836890</td>\n",
              "      <td>7.568548</td>\n",
              "      <td>-5.732555</td>\n",
              "      <td>-7.434602</td>\n",
              "      <td>-5.328562</td>\n",
              "      <td>11.115293</td>\n",
              "      <td>2.945332</td>\n",
              "      <td>1.038299</td>\n",
              "      <td>0.860420</td>\n",
              "      <td>7.597590</td>\n",
              "      <td>-0.083376</td>\n",
              "      <td>4.711684</td>\n",
              "      <td>6.783715</td>\n",
              "      <td>8.115086</td>\n",
              "      <td>-7.911840</td>\n",
              "      <td>-3.839552</td>\n",
              "      <td>6.007630</td>\n",
              "      <td>-0.106223</td>\n",
              "      <td>-2.183768</td>\n",
              "      <td>3.416250</td>\n",
              "      <td>2.309178</td>\n",
              "      <td>-3.919674</td>\n",
              "      <td>4.573433</td>\n",
              "      <td>-5.643815</td>\n",
              "      <td>6.567515</td>\n",
              "      <td>-10.614089</td>\n",
              "      <td>6.422348</td>\n",
              "      <td>-51.070443</td>\n",
              "    </tr>\n",
              "    <tr>\n",
              "      <th>9997</th>\n",
              "      <td>-4.069899</td>\n",
              "      <td>-2.351560</td>\n",
              "      <td>-0.134604</td>\n",
              "      <td>-5.629799</td>\n",
              "      <td>-5.620890</td>\n",
              "      <td>-9.770339</td>\n",
              "      <td>6.168892</td>\n",
              "      <td>0.835266</td>\n",
              "      <td>-3.912655</td>\n",
              "      <td>-7.703638</td>\n",
              "      <td>1.361204</td>\n",
              "      <td>-3.658080</td>\n",
              "      <td>2.902530</td>\n",
              "      <td>-0.667720</td>\n",
              "      <td>7.789704</td>\n",
              "      <td>2.017346</td>\n",
              "      <td>1.698594</td>\n",
              "      <td>8.220736</td>\n",
              "      <td>4.792831</td>\n",
              "      <td>-8.864895</td>\n",
              "      <td>-8.932504</td>\n",
              "      <td>-0.911860</td>\n",
              "      <td>4.953654</td>\n",
              "      <td>-1.065717</td>\n",
              "      <td>-6.648004</td>\n",
              "      <td>-2.566931</td>\n",
              "      <td>-6.526202</td>\n",
              "      <td>-7.488712</td>\n",
              "      <td>-6.361973</td>\n",
              "      <td>5.717083</td>\n",
              "      <td>-4.703120</td>\n",
              "      <td>30.585414</td>\n",
              "    </tr>\n",
              "    <tr>\n",
              "      <th>9998</th>\n",
              "      <td>4.873270</td>\n",
              "      <td>-1.541458</td>\n",
              "      <td>-7.629112</td>\n",
              "      <td>2.557538</td>\n",
              "      <td>8.061374</td>\n",
              "      <td>9.162759</td>\n",
              "      <td>5.372126</td>\n",
              "      <td>1.288333</td>\n",
              "      <td>-8.305103</td>\n",
              "      <td>6.020796</td>\n",
              "      <td>3.953505</td>\n",
              "      <td>0.351103</td>\n",
              "      <td>4.409830</td>\n",
              "      <td>8.857026</td>\n",
              "      <td>-6.120125</td>\n",
              "      <td>-5.882252</td>\n",
              "      <td>-1.019697</td>\n",
              "      <td>-3.206716</td>\n",
              "      <td>-3.188903</td>\n",
              "      <td>4.414865</td>\n",
              "      <td>2.048225</td>\n",
              "      <td>-6.216080</td>\n",
              "      <td>0.629628</td>\n",
              "      <td>-5.189581</td>\n",
              "      <td>-8.773632</td>\n",
              "      <td>3.442669</td>\n",
              "      <td>10.901293</td>\n",
              "      <td>-8.050083</td>\n",
              "      <td>-2.491982</td>\n",
              "      <td>-5.548942</td>\n",
              "      <td>-3.082917</td>\n",
              "      <td>-25.744708</td>\n",
              "    </tr>\n",
              "    <tr>\n",
              "      <th>9999</th>\n",
              "      <td>2.288627</td>\n",
              "      <td>-4.526859</td>\n",
              "      <td>-7.115958</td>\n",
              "      <td>8.831976</td>\n",
              "      <td>-2.778777</td>\n",
              "      <td>6.490409</td>\n",
              "      <td>-6.826556</td>\n",
              "      <td>3.687156</td>\n",
              "      <td>3.422328</td>\n",
              "      <td>5.802015</td>\n",
              "      <td>8.583471</td>\n",
              "      <td>5.202368</td>\n",
              "      <td>-3.003082</td>\n",
              "      <td>8.323385</td>\n",
              "      <td>-9.347540</td>\n",
              "      <td>5.883201</td>\n",
              "      <td>6.979786</td>\n",
              "      <td>1.756422</td>\n",
              "      <td>2.092115</td>\n",
              "      <td>9.952102</td>\n",
              "      <td>-3.353897</td>\n",
              "      <td>-0.326613</td>\n",
              "      <td>0.981448</td>\n",
              "      <td>5.544599</td>\n",
              "      <td>-9.857224</td>\n",
              "      <td>-7.874556</td>\n",
              "      <td>-8.274386</td>\n",
              "      <td>5.699647</td>\n",
              "      <td>-3.170456</td>\n",
              "      <td>1.459426</td>\n",
              "      <td>-9.053718</td>\n",
              "      <td>9.297129</td>\n",
              "    </tr>\n",
              "  </tbody>\n",
              "</table>\n",
              "<p>10000 rows × 32 columns</p>\n",
              "</div>"
            ],
            "text/plain": [
              "            0         1         2   ...         29         30         31\n",
              "0     3.773747  6.061187 -9.222883  ...   5.676556  12.122375  30.382779\n",
              "1     8.484404 -5.319557 -8.296086  ...  -4.623120 -10.639114 -21.115602\n",
              "2    -0.885176 -2.064377 -1.735326  ...   4.934751  -4.128754  26.673756\n",
              "3     0.928953 -3.955223 -7.030693  ...   4.125484  -7.910447  22.627419\n",
              "4    -5.690987 -3.517787 -2.858825  ...   5.696778  -7.035574  30.483889\n",
              "...        ...       ...       ...  ...        ...        ...        ...\n",
              "9995  7.631343 -5.922440 -7.594832  ...  -3.094425 -11.844880 -13.472124\n",
              "9996 -9.164097  3.211174 -1.865883  ... -10.614089   6.422348 -51.070443\n",
              "9997 -4.069899 -2.351560 -0.134604  ...   5.717083  -4.703120  30.585414\n",
              "9998  4.873270 -1.541458 -7.629112  ...  -5.548942  -3.082917 -25.744708\n",
              "9999  2.288627 -4.526859 -7.115958  ...   1.459426  -9.053718   9.297129\n",
              "\n",
              "[10000 rows x 32 columns]"
            ]
          },
          "metadata": {
            "tags": []
          },
          "execution_count": 10
        }
      ]
    },
    {
      "cell_type": "markdown",
      "metadata": {
        "id": "Bf5o-T2iRJw8"
      },
      "source": [
        "#2. ทำ clustering แล้วทำ visualize ข้อมูลแบบ 2 มิติ"
      ]
    },
    {
      "cell_type": "markdown",
      "metadata": {
        "id": "aqT1imJFWI1a"
      },
      "source": [
        "#clustering"
      ]
    },
    {
      "cell_type": "markdown",
      "metadata": {
        "id": "G6kbCFdPhJMS"
      },
      "source": [
        "##import"
      ]
    },
    {
      "cell_type": "code",
      "metadata": {
        "id": "_yjxtyJpgYx_"
      },
      "source": [
        "from sklearn.cluster import KMeans  #import k mean เพราะวิธีการทำ cluster มีอีกหลายวิธี เพราะวิธีนี้ง่ายที่สุด"
      ],
      "execution_count": 11,
      "outputs": []
    },
    {
      "cell_type": "markdown",
      "metadata": {
        "id": "9MA99ToGhPE8"
      },
      "source": [
        "##Define"
      ]
    },
    {
      "cell_type": "code",
      "metadata": {
        "id": "_ncxuQwsg1M9"
      },
      "source": [
        "kmeans = KMeans(n_clusters = 3, random_state=2021) #ไม่ต้องใส่พารามิเตอร์อะไรเลยเพราะไม่จำเป็นต้องใส่ \n",
        "#random_state กำหนดให้ค่า random ทุกคนเหมือนกัน  k= 3"
      ],
      "execution_count": 12,
      "outputs": []
    },
    {
      "cell_type": "markdown",
      "metadata": {
        "id": "M_1oIkqUhERm"
      },
      "source": [
        "##Fit-transform"
      ]
    },
    {
      "cell_type": "markdown",
      "metadata": {
        "id": "150d_qjkh9Mg"
      },
      "source": [
        "คำนวณหาจุด cluter centers ของข้อมูล example_df_drop ด้วยวิธี K-means clustering"
      ]
    },
    {
      "cell_type": "code",
      "metadata": {
        "id": "vFsApX1hiBZB",
        "outputId": "08d57e0f-2f04-4d9f-d8dd-da4fd5b5693c",
        "colab": {
          "base_uri": "https://localhost:8080/"
        }
      },
      "source": [
        "kmeans.fit(Data)"
      ],
      "execution_count": 13,
      "outputs": [
        {
          "output_type": "execute_result",
          "data": {
            "text/plain": [
              "KMeans(algorithm='auto', copy_x=True, init='k-means++', max_iter=300,\n",
              "       n_clusters=3, n_init=10, n_jobs=None, precompute_distances='auto',\n",
              "       random_state=2021, tol=0.0001, verbose=0)"
            ]
          },
          "metadata": {
            "tags": []
          },
          "execution_count": 13
        }
      ]
    },
    {
      "cell_type": "markdown",
      "metadata": {
        "id": "-DGXjuqRiahC"
      },
      "source": [
        "แสดง จุด cluster centers ที่คำนวณออกมาได้"
      ]
    },
    {
      "cell_type": "code",
      "metadata": {
        "id": "In9jdsjxidRw",
        "outputId": "621c14d2-0bca-4999-8b93-65c1a94f7f6d",
        "colab": {
          "base_uri": "https://localhost:8080/"
        }
      },
      "source": [
        "kmeans.cluster_centers_  #จุดศูนย์กลางของทั้งหมด 3 กลุ่ม เพราะ K = 3  และมี 32 dimensions #จุดเซนทรอยด์"
      ],
      "execution_count": 14,
      "outputs": [
        {
          "output_type": "execute_result",
          "data": {
            "text/plain": [
              "array([[ 1.02832062e+00, -3.39348801e+00, -5.43401124e-01,\n",
              "         2.31895603e+00, -2.61186597e+00,  3.10440922e+00,\n",
              "         5.20947997e+00, -1.60333380e+00, -3.30975440e+00,\n",
              "        -3.65944441e+00,  2.56940338e+00, -1.13223497e+00,\n",
              "         1.83263251e+00,  2.21162135e+00,  6.50933415e+00,\n",
              "         1.96181243e+00, -3.60606622e-01,  4.46879453e+00,\n",
              "         5.22390188e+00, -2.05593008e+00, -1.19518278e+00,\n",
              "         1.47839853e+00,  4.07043215e+00,  1.46245661e+00,\n",
              "         3.65428109e+00, -1.97333539e-01, -2.30701430e+00,\n",
              "        -5.34254212e-01, -2.29421964e+00,  6.78524442e+00,\n",
              "        -6.78697603e+00,  3.59262221e+01],\n",
              "       [ 1.30387370e+00,  2.69301182e+00, -2.18515548e+00,\n",
              "         1.49719982e+00,  1.30921003e+00, -1.64313902e+00,\n",
              "         2.67657253e+00,  2.09687483e+00,  3.99283759e+00,\n",
              "        -2.23265619e+00,  6.79411292e-01, -4.01163705e-01,\n",
              "        -1.34981230e+00, -1.14381993e+00, -3.93304894e+00,\n",
              "        -4.53765999e-01, -4.11889093e-02,  1.74974350e+00,\n",
              "         1.50224464e+00, -1.83541083e+00,  1.06425104e+00,\n",
              "        -9.58183778e-01, -4.53391759e-01, -2.24255200e+00,\n",
              "         3.90974224e+00, -3.05863891e+00,  5.40797764e-01,\n",
              "         1.99259737e+00,  1.29553737e+00,  2.33126918e+00,\n",
              "         5.38602365e+00,  1.36563459e+01],\n",
              "       [ 2.29335905e-03, -2.77418406e+00, -1.92862481e+00,\n",
              "        -2.99772092e-01,  9.27519499e-01, -1.28590445e-01,\n",
              "        -1.79228425e+00, -2.28725803e+00, -1.94346488e+00,\n",
              "         3.87716788e+00,  1.63745294e+00,  2.12219521e+00,\n",
              "         2.42334967e+00,  4.34696877e+00, -1.02562358e+00,\n",
              "         1.18051709e+00,  2.86186796e+00,  1.18972316e+00,\n",
              "        -4.50244448e+00,  6.93764665e-01, -1.26865420e+00,\n",
              "         1.66975131e-01, -2.00963938e+00,  1.02355382e+00,\n",
              "        -6.66781375e-01, -3.98776212e-02, -7.83790100e-01,\n",
              "        -2.96983585e+00,  1.05978144e+00, -6.96734073e+00,\n",
              "        -5.54836812e+00, -3.28367036e+01]])"
            ]
          },
          "metadata": {
            "tags": []
          },
          "execution_count": 14
        }
      ]
    },
    {
      "cell_type": "markdown",
      "metadata": {
        "id": "YXUnZFuBiyxE"
      },
      "source": [
        "ทำการจัดกลุ่มของ Data"
      ]
    },
    {
      "cell_type": "code",
      "metadata": {
        "id": "2FYqeo5Mi1wq",
        "outputId": "03221688-edd7-4922-fbd0-11d5866e5d6b",
        "colab": {
          "base_uri": "https://localhost:8080/"
        }
      },
      "source": [
        "y = kmeans.predict(Data)   #บอกว่าจุดไหนอยู่กลุ่มไหน #มี 32 dimensions plot ไม่ได้เลยต้องทำ PCA ข้อมูลเพื่อลด dimensions ลงมา\n",
        "y"
      ],
      "execution_count": 16,
      "outputs": [
        {
          "output_type": "execute_result",
          "data": {
            "text/plain": [
              "array([1, 2, 1, ..., 0, 2, 1], dtype=int32)"
            ]
          },
          "metadata": {
            "tags": []
          },
          "execution_count": 16
        }
      ]
    },
    {
      "cell_type": "markdown",
      "metadata": {
        "id": "ZSv8zEjHk-tk"
      },
      "source": [
        "#ทำ PCA ข้อมูล Data แล้ว วาดกราฟ scatter plot โดยใส่สีตามผลการทำ kmeans clustering แล้วนำมาเทียบกับ กราฟ PCA - scatter ของข้อมูลจริง"
      ]
    },
    {
      "cell_type": "code",
      "metadata": {
        "id": "NUjaHXlblMie"
      },
      "source": [
        "from sklearn.decomposition import PCA\n",
        "\n",
        "pca = PCA(n_components=2)  #เอาแค่ 2 dimensions\n",
        "\n",
        "new_pca = pca.fit_transform(Data)  ## record - แถว  , dimension - หลัก"
      ],
      "execution_count": 17,
      "outputs": []
    },
    {
      "cell_type": "code",
      "metadata": {
        "id": "xZExavDvlZkx"
      },
      "source": [
        "from matplotlib import pyplot as plt"
      ],
      "execution_count": 18,
      "outputs": []
    },
    {
      "cell_type": "markdown",
      "metadata": {
        "id": "n2Q1n4yeldCq"
      },
      "source": [
        "#ของจริง"
      ]
    },
    {
      "cell_type": "code",
      "metadata": {
        "id": "P5xjzkzylhLJ",
        "outputId": "1b3daa05-94fa-4c4d-fba3-87b2aa781126",
        "colab": {
          "base_uri": "https://localhost:8080/",
          "height": 282
        }
      },
      "source": [
        "plt.plot(new_pca[:50,0],new_pca[:50,1],'or')   #สีจริง#คำตอบที่แท้จริง #แบบธรรมดาทำ PCA กี่รอบก็ได้เท่าเดิม เพราะมองในมุมองที่ data กระจายดีที่สุด\n",
        "plt.plot(new_pca[50:100,0],new_pca[50:100,1],'og')\n",
        "plt.plot(new_pca[100:,0],new_pca[100:,1],'oy')  #สีเขียวอ่อนกระจายและทับสีอื่นไปหมด"
      ],
      "execution_count": 19,
      "outputs": [
        {
          "output_type": "execute_result",
          "data": {
            "text/plain": [
              "[<matplotlib.lines.Line2D at 0x7f21763df650>]"
            ]
          },
          "metadata": {
            "tags": []
          },
          "execution_count": 19
        },
        {
          "output_type": "display_data",
          "data": {
            "image/png": "[encoded data removed]",
            "text/plain": [
              "<Figure size 432x288 with 1 Axes>"
            ]
          },
          "metadata": {
            "tags": [],
            "needs_background": "light"
          }
        }
      ]
    },
    {
      "cell_type": "code",
      "metadata": {
        "id": "Ki3Y_lkXl8ro",
        "outputId": "f8ed1909-e710-4e71-f935-4be8df185af4",
        "colab": {
          "base_uri": "https://localhost:8080/",
          "height": 282
        }
      },
      "source": [
        "kmeans = KMeans(n_clusters=3, random_state=2021) #plotตามที่เราทำ มันจับคู่สีที่อยู่ใกล้กัน\n",
        "kmeans.fit(Data)\n",
        "y = kmeans.predict(Data)\n",
        "plt.scatter(new_pca[:,0],new_pca[:,1],c=y)"
      ],
      "execution_count": 21,
      "outputs": [
        {
          "output_type": "execute_result",
          "data": {
            "text/plain": [
              "<matplotlib.collections.PathCollection at 0x7f2175e9ac90>"
            ]
          },
          "metadata": {
            "tags": []
          },
          "execution_count": 21
        },
        {
          "output_type": "display_data",
          "data": {
            "image/png": "[encoded data removed]",
            "text/plain": [
              "<Figure size 432x288 with 1 Axes>"
            ]
          },
          "metadata": {
            "tags": [],
            "needs_background": "light"
          }
        }
      ]
    },
    {
      "cell_type": "markdown",
      "metadata": {
        "id": "Vqcw6S2Vml71"
      },
      "source": [
        "#elbow method\n",
        "elbow method จะ plot กราฟคล้ายๆศอก\n",
        "\n",
        "SSE วัดระยะห่างของ center ทุกๆจุดว่าห่างกันเท่าไหร่ จากนั้นเอามา sum รวมกัน\n",
        "\n",
        "ใกล้กับ center มากยิ่งดี"
      ]
    },
    {
      "cell_type": "code",
      "metadata": {
        "id": "RopalAP-myKq",
        "outputId": "f293dd6c-86de-4d2b-fd0d-5e93bb87bad6",
        "colab": {
          "base_uri": "https://localhost:8080/"
        }
      },
      "source": [
        "kmeans.inertia_ ##หาค่า SSE (Sum of Squared Errors)"
      ],
      "execution_count": 23,
      "outputs": [
        {
          "output_type": "execute_result",
          "data": {
            "text/plain": [
              "10989012.264080929"
            ]
          },
          "metadata": {
            "tags": []
          },
          "execution_count": 23
        }
      ]
    },
    {
      "cell_type": "code",
      "metadata": {
        "id": "IDe7SJ_enEIm"
      },
      "source": [
        "SSE = list()   #วนรูปเพื่อจะเปลี่ยน k จาก 1 เป็น2,3,4,5,6,7,8\n",
        "for k in [1,2,3,4,5,6,7,8]:\n",
        "    kmeans = KMeans(n_clusters=k, random_state=2021)\n",
        "    kmeans.fit(Data)\n",
        "    SSE.append(kmeans.inertia_)"
      ],
      "execution_count": 24,
      "outputs": []
    },
    {
      "cell_type": "code",
      "metadata": {
        "id": "lMDKvTwonMzu",
        "outputId": "2354763e-f801-4b90-b653-a7135f08db4c",
        "colab": {
          "base_uri": "https://localhost:8080/"
        }
      },
      "source": [
        "SSE  #รันออกมาผลลัพธ์มีทั้งหมด 8 ตัว"
      ],
      "execution_count": 25,
      "outputs": [
        {
          "output_type": "execute_result",
          "data": {
            "text/plain": [
              "[21043525.2946053,\n",
              " 12533065.08609684,\n",
              " 10989012.264080929,\n",
              " 9863756.63160429,\n",
              " 9019631.747012235,\n",
              " 8248184.2299705325,\n",
              " 7377188.501246718,\n",
              " 6571670.621149184]"
            ]
          },
          "metadata": {
            "tags": []
          },
          "execution_count": 25
        }
      ]
    },
    {
      "cell_type": "code",
      "metadata": {
        "id": "fjzUEhX_nQ7s",
        "outputId": "da5f7f84-1c5d-443c-8583-61170689da63",
        "colab": {
          "base_uri": "https://localhost:8080/",
          "height": 290
        }
      },
      "source": [
        "plt.plot([1,2,3,4,5,6,7,8],SSE,'o-b')   #นำค่า SSE มา plot กราฟ#elbow คือศอก  2 คือ ศอก\n",
        "\n",
        "plt.xlabel('k')\n",
        "plt.ylabel('SSE');"
      ],
      "execution_count": 26,
      "outputs": [
        {
          "output_type": "display_data",
          "data": {
            "image/png": "[encoded data removed]",
            "text/plain": [
              "<Figure size 432x288 with 1 Axes>"
            ]
          },
          "metadata": {
            "tags": [],
            "needs_background": "light"
          }
        }
      ]
    },
    {
      "cell_type": "markdown",
      "metadata": {
        "id": "ye2Tg3-3onop"
      },
      "source": [
        "#silhouette coefficient\n",
        "1.How close the data point is to other points in the cluster คำนวณว่า data แต่ละอันที่อยู่ในกลุ่มเดียวกันมันอยู่ใกล้กับจุดอื่น ๆ ในคลัสเตอร์อย่างไร\n",
        "\n",
        "2.How far away the data point is from points in other clusters จุดข้อมูลอยู่ห่างจากจุดในคลัสเตอร์อื่นแค่ไหน"
      ]
    },
    {
      "cell_type": "code",
      "metadata": {
        "id": "tN7mn6XYpR1v"
      },
      "source": [
        "from sklearn import metrics"
      ],
      "execution_count": 27,
      "outputs": []
    },
    {
      "cell_type": "code",
      "metadata": {
        "id": "z1LFGP1tpVmD"
      },
      "source": [
        "SilH = list() #silhouette scores คิดข้อมูลที่มีกลุ่มเดียวไม่ได้\n",
        "for k in [2,3,4,5,6,7,8]:\n",
        "    kmeans = KMeans(n_clusters=k, random_state=2021)\n",
        "    kmeans.fit(Data)\n",
        "    score = metrics.silhouette_score(Data,kmeans.labels_)\n",
        "    SilH.append(score)"
      ],
      "execution_count": 29,
      "outputs": []
    },
    {
      "cell_type": "code",
      "metadata": {
        "id": "MIy1YPxDplEe",
        "outputId": "2fec7cd0-c20a-47ec-9836-204b1f36be55",
        "colab": {
          "base_uri": "https://localhost:8080/",
          "height": 279
        }
      },
      "source": [
        "plt.plot([2,3,4,5,6,7,8],SilH,'o-g') #ดูกราฟจากจุด silhouette scores ที่สูงที่สุด มีค่ามากแสดงว่าใกล้กันมาก มีค่าตั้งแต่-1ถึง 1  #ดีที่สุดคือ 8เพราะสูงสุด\n",
        "plt.xlabel('k')\n",
        "plt.ylabel('Silhouette Score');"
      ],
      "execution_count": 31,
      "outputs": [
        {
          "output_type": "display_data",
          "data": {
            "image/png": "[encoded data removed]",
            "text/plain": [
              "<Figure size 432x288 with 1 Axes>"
            ]
          },
          "metadata": {
            "tags": [],
            "needs_background": "light"
          }
        }
      ]
    },
    {
      "cell_type": "markdown",
      "metadata": {
        "id": "7jvLCjWoR5xm"
      },
      "source": [
        "##Visualize"
      ]
    },
    {
      "cell_type": "code",
      "metadata": {
        "id": "MB56nuIga7gj"
      },
      "source": [
        ""
      ],
      "execution_count": null,
      "outputs": []
    }
  ]
}