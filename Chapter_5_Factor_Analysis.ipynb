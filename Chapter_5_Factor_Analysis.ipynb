{
  "nbformat": 4,
  "nbformat_minor": 0,
  "metadata": {
    "colab": {
      "name": "Chapter 5 Factor Analysis.ipynb",
      "provenance": [],
      "toc_visible": true,
      "authorship_tag": "ABX9TyMF5YHHU+xev8HM9XgVhEHQ",
      "include_colab_link": true
    },
    "kernelspec": {
      "name": "python3",
      "display_name": "Python 3"
    },
    "language_info": {
      "name": "python"
    }
  },
  "cells": [
    {
      "cell_type": "markdown",
      "metadata": {
        "id": "view-in-github",
        "colab_type": "text"
      },
      "source": [
        "<a href=\"https://colab.research.google.com/github/suphalaksana/Multivariate/blob/main/Chapter_5_Factor_Analysis.ipynb\" target=\"_parent\"><img src=\"https://colab.research.google.com/assets/colab-badge.svg\" alt=\"Open In Colab\"/></a>"
      ]
    },
    {
      "cell_type": "markdown",
      "metadata": {
        "id": "GzSJ4y6nHplI"
      },
      "source": [
        "https://vincentarelbundock.github.io/Rdatasets/datasets.html?"
      ]
    },
    {
      "cell_type": "code",
      "metadata": {
        "id": "h4DxSV6hDih4"
      },
      "source": [
        "import pandas as pd"
      ],
      "execution_count": 134,
      "outputs": []
    },
    {
      "cell_type": "code",
      "metadata": {
        "colab": {
          "base_uri": "https://localhost:8080/",
          "height": 438
        },
        "id": "dtNI19ncGNHv",
        "outputId": "591ee106-3984-437e-d890-dc96dfa1a96a"
      },
      "source": [
        "BFI_data = pd.read_csv('bfi.csv')\n",
        "BFI_data"
      ],
      "execution_count": 135,
      "outputs": [
        {
          "output_type": "execute_result",
          "data": {
            "text/html": [
              "<div>\n",
              "<style scoped>\n",
              "    .dataframe tbody tr th:only-of-type {\n",
              "        vertical-align: middle;\n",
              "    }\n",
              "\n",
              "    .dataframe tbody tr th {\n",
              "        vertical-align: top;\n",
              "    }\n",
              "\n",
              "    .dataframe thead th {\n",
              "        text-align: right;\n",
              "    }\n",
              "</style>\n",
              "<table border=\"1\" class=\"dataframe\">\n",
              "  <thead>\n",
              "    <tr style=\"text-align: right;\">\n",
              "      <th></th>\n",
              "      <th>Unnamed: 0</th>\n",
              "      <th>A1</th>\n",
              "      <th>A2</th>\n",
              "      <th>A3</th>\n",
              "      <th>A4</th>\n",
              "      <th>A5</th>\n",
              "      <th>C1</th>\n",
              "      <th>C2</th>\n",
              "      <th>C3</th>\n",
              "      <th>C4</th>\n",
              "      <th>C5</th>\n",
              "      <th>E1</th>\n",
              "      <th>E2</th>\n",
              "      <th>E3</th>\n",
              "      <th>E4</th>\n",
              "      <th>E5</th>\n",
              "      <th>N1</th>\n",
              "      <th>N2</th>\n",
              "      <th>N3</th>\n",
              "      <th>N4</th>\n",
              "      <th>N5</th>\n",
              "      <th>O1</th>\n",
              "      <th>O2</th>\n",
              "      <th>O3</th>\n",
              "      <th>O4</th>\n",
              "      <th>O5</th>\n",
              "      <th>gender</th>\n",
              "      <th>education</th>\n",
              "      <th>age</th>\n",
              "    </tr>\n",
              "  </thead>\n",
              "  <tbody>\n",
              "    <tr>\n",
              "      <th>0</th>\n",
              "      <td>61617</td>\n",
              "      <td>2.0</td>\n",
              "      <td>4.0</td>\n",
              "      <td>3.0</td>\n",
              "      <td>4.0</td>\n",
              "      <td>4.0</td>\n",
              "      <td>2.0</td>\n",
              "      <td>3.0</td>\n",
              "      <td>3.0</td>\n",
              "      <td>4.0</td>\n",
              "      <td>4.0</td>\n",
              "      <td>3.0</td>\n",
              "      <td>3.0</td>\n",
              "      <td>3.0</td>\n",
              "      <td>4.0</td>\n",
              "      <td>4.0</td>\n",
              "      <td>3.0</td>\n",
              "      <td>4.0</td>\n",
              "      <td>2.0</td>\n",
              "      <td>2.0</td>\n",
              "      <td>3.0</td>\n",
              "      <td>3.0</td>\n",
              "      <td>6</td>\n",
              "      <td>3.0</td>\n",
              "      <td>4.0</td>\n",
              "      <td>3.0</td>\n",
              "      <td>1</td>\n",
              "      <td>NaN</td>\n",
              "      <td>16</td>\n",
              "    </tr>\n",
              "    <tr>\n",
              "      <th>1</th>\n",
              "      <td>61618</td>\n",
              "      <td>2.0</td>\n",
              "      <td>4.0</td>\n",
              "      <td>5.0</td>\n",
              "      <td>2.0</td>\n",
              "      <td>5.0</td>\n",
              "      <td>5.0</td>\n",
              "      <td>4.0</td>\n",
              "      <td>4.0</td>\n",
              "      <td>3.0</td>\n",
              "      <td>4.0</td>\n",
              "      <td>1.0</td>\n",
              "      <td>1.0</td>\n",
              "      <td>6.0</td>\n",
              "      <td>4.0</td>\n",
              "      <td>3.0</td>\n",
              "      <td>3.0</td>\n",
              "      <td>3.0</td>\n",
              "      <td>3.0</td>\n",
              "      <td>5.0</td>\n",
              "      <td>5.0</td>\n",
              "      <td>4.0</td>\n",
              "      <td>2</td>\n",
              "      <td>4.0</td>\n",
              "      <td>3.0</td>\n",
              "      <td>3.0</td>\n",
              "      <td>2</td>\n",
              "      <td>NaN</td>\n",
              "      <td>18</td>\n",
              "    </tr>\n",
              "    <tr>\n",
              "      <th>2</th>\n",
              "      <td>61620</td>\n",
              "      <td>5.0</td>\n",
              "      <td>4.0</td>\n",
              "      <td>5.0</td>\n",
              "      <td>4.0</td>\n",
              "      <td>4.0</td>\n",
              "      <td>4.0</td>\n",
              "      <td>5.0</td>\n",
              "      <td>4.0</td>\n",
              "      <td>2.0</td>\n",
              "      <td>5.0</td>\n",
              "      <td>2.0</td>\n",
              "      <td>4.0</td>\n",
              "      <td>4.0</td>\n",
              "      <td>4.0</td>\n",
              "      <td>5.0</td>\n",
              "      <td>4.0</td>\n",
              "      <td>5.0</td>\n",
              "      <td>4.0</td>\n",
              "      <td>2.0</td>\n",
              "      <td>3.0</td>\n",
              "      <td>4.0</td>\n",
              "      <td>2</td>\n",
              "      <td>5.0</td>\n",
              "      <td>5.0</td>\n",
              "      <td>2.0</td>\n",
              "      <td>2</td>\n",
              "      <td>NaN</td>\n",
              "      <td>17</td>\n",
              "    </tr>\n",
              "    <tr>\n",
              "      <th>3</th>\n",
              "      <td>61621</td>\n",
              "      <td>4.0</td>\n",
              "      <td>4.0</td>\n",
              "      <td>6.0</td>\n",
              "      <td>5.0</td>\n",
              "      <td>5.0</td>\n",
              "      <td>4.0</td>\n",
              "      <td>4.0</td>\n",
              "      <td>3.0</td>\n",
              "      <td>5.0</td>\n",
              "      <td>5.0</td>\n",
              "      <td>5.0</td>\n",
              "      <td>3.0</td>\n",
              "      <td>4.0</td>\n",
              "      <td>4.0</td>\n",
              "      <td>4.0</td>\n",
              "      <td>2.0</td>\n",
              "      <td>5.0</td>\n",
              "      <td>2.0</td>\n",
              "      <td>4.0</td>\n",
              "      <td>1.0</td>\n",
              "      <td>3.0</td>\n",
              "      <td>3</td>\n",
              "      <td>4.0</td>\n",
              "      <td>3.0</td>\n",
              "      <td>5.0</td>\n",
              "      <td>2</td>\n",
              "      <td>NaN</td>\n",
              "      <td>17</td>\n",
              "    </tr>\n",
              "    <tr>\n",
              "      <th>4</th>\n",
              "      <td>61622</td>\n",
              "      <td>2.0</td>\n",
              "      <td>3.0</td>\n",
              "      <td>3.0</td>\n",
              "      <td>4.0</td>\n",
              "      <td>5.0</td>\n",
              "      <td>4.0</td>\n",
              "      <td>4.0</td>\n",
              "      <td>5.0</td>\n",
              "      <td>3.0</td>\n",
              "      <td>2.0</td>\n",
              "      <td>2.0</td>\n",
              "      <td>2.0</td>\n",
              "      <td>5.0</td>\n",
              "      <td>4.0</td>\n",
              "      <td>5.0</td>\n",
              "      <td>2.0</td>\n",
              "      <td>3.0</td>\n",
              "      <td>4.0</td>\n",
              "      <td>4.0</td>\n",
              "      <td>3.0</td>\n",
              "      <td>3.0</td>\n",
              "      <td>3</td>\n",
              "      <td>4.0</td>\n",
              "      <td>3.0</td>\n",
              "      <td>3.0</td>\n",
              "      <td>1</td>\n",
              "      <td>NaN</td>\n",
              "      <td>17</td>\n",
              "    </tr>\n",
              "    <tr>\n",
              "      <th>...</th>\n",
              "      <td>...</td>\n",
              "      <td>...</td>\n",
              "      <td>...</td>\n",
              "      <td>...</td>\n",
              "      <td>...</td>\n",
              "      <td>...</td>\n",
              "      <td>...</td>\n",
              "      <td>...</td>\n",
              "      <td>...</td>\n",
              "      <td>...</td>\n",
              "      <td>...</td>\n",
              "      <td>...</td>\n",
              "      <td>...</td>\n",
              "      <td>...</td>\n",
              "      <td>...</td>\n",
              "      <td>...</td>\n",
              "      <td>...</td>\n",
              "      <td>...</td>\n",
              "      <td>...</td>\n",
              "      <td>...</td>\n",
              "      <td>...</td>\n",
              "      <td>...</td>\n",
              "      <td>...</td>\n",
              "      <td>...</td>\n",
              "      <td>...</td>\n",
              "      <td>...</td>\n",
              "      <td>...</td>\n",
              "      <td>...</td>\n",
              "      <td>...</td>\n",
              "    </tr>\n",
              "    <tr>\n",
              "      <th>2795</th>\n",
              "      <td>67551</td>\n",
              "      <td>6.0</td>\n",
              "      <td>1.0</td>\n",
              "      <td>3.0</td>\n",
              "      <td>3.0</td>\n",
              "      <td>3.0</td>\n",
              "      <td>6.0</td>\n",
              "      <td>6.0</td>\n",
              "      <td>6.0</td>\n",
              "      <td>1.0</td>\n",
              "      <td>1.0</td>\n",
              "      <td>1.0</td>\n",
              "      <td>4.0</td>\n",
              "      <td>5.0</td>\n",
              "      <td>5.0</td>\n",
              "      <td>6.0</td>\n",
              "      <td>1.0</td>\n",
              "      <td>1.0</td>\n",
              "      <td>1.0</td>\n",
              "      <td>NaN</td>\n",
              "      <td>1.0</td>\n",
              "      <td>6.0</td>\n",
              "      <td>1</td>\n",
              "      <td>6.0</td>\n",
              "      <td>6.0</td>\n",
              "      <td>1.0</td>\n",
              "      <td>1</td>\n",
              "      <td>3.0</td>\n",
              "      <td>19</td>\n",
              "    </tr>\n",
              "    <tr>\n",
              "      <th>2796</th>\n",
              "      <td>67552</td>\n",
              "      <td>2.0</td>\n",
              "      <td>4.0</td>\n",
              "      <td>4.0</td>\n",
              "      <td>3.0</td>\n",
              "      <td>5.0</td>\n",
              "      <td>2.0</td>\n",
              "      <td>3.0</td>\n",
              "      <td>4.0</td>\n",
              "      <td>4.0</td>\n",
              "      <td>3.0</td>\n",
              "      <td>2.0</td>\n",
              "      <td>2.0</td>\n",
              "      <td>4.0</td>\n",
              "      <td>4.0</td>\n",
              "      <td>3.0</td>\n",
              "      <td>NaN</td>\n",
              "      <td>3.0</td>\n",
              "      <td>2.0</td>\n",
              "      <td>3.0</td>\n",
              "      <td>3.0</td>\n",
              "      <td>6.0</td>\n",
              "      <td>3</td>\n",
              "      <td>5.0</td>\n",
              "      <td>4.0</td>\n",
              "      <td>2.0</td>\n",
              "      <td>1</td>\n",
              "      <td>4.0</td>\n",
              "      <td>27</td>\n",
              "    </tr>\n",
              "    <tr>\n",
              "      <th>2797</th>\n",
              "      <td>67556</td>\n",
              "      <td>2.0</td>\n",
              "      <td>3.0</td>\n",
              "      <td>5.0</td>\n",
              "      <td>2.0</td>\n",
              "      <td>5.0</td>\n",
              "      <td>5.0</td>\n",
              "      <td>5.0</td>\n",
              "      <td>5.0</td>\n",
              "      <td>1.0</td>\n",
              "      <td>1.0</td>\n",
              "      <td>2.0</td>\n",
              "      <td>2.0</td>\n",
              "      <td>6.0</td>\n",
              "      <td>3.0</td>\n",
              "      <td>6.0</td>\n",
              "      <td>3.0</td>\n",
              "      <td>4.0</td>\n",
              "      <td>3.0</td>\n",
              "      <td>3.0</td>\n",
              "      <td>1.0</td>\n",
              "      <td>5.0</td>\n",
              "      <td>1</td>\n",
              "      <td>6.0</td>\n",
              "      <td>4.0</td>\n",
              "      <td>3.0</td>\n",
              "      <td>2</td>\n",
              "      <td>4.0</td>\n",
              "      <td>29</td>\n",
              "    </tr>\n",
              "    <tr>\n",
              "      <th>2798</th>\n",
              "      <td>67559</td>\n",
              "      <td>5.0</td>\n",
              "      <td>2.0</td>\n",
              "      <td>2.0</td>\n",
              "      <td>4.0</td>\n",
              "      <td>4.0</td>\n",
              "      <td>5.0</td>\n",
              "      <td>5.0</td>\n",
              "      <td>5.0</td>\n",
              "      <td>2.0</td>\n",
              "      <td>6.0</td>\n",
              "      <td>2.0</td>\n",
              "      <td>2.0</td>\n",
              "      <td>4.0</td>\n",
              "      <td>5.0</td>\n",
              "      <td>4.0</td>\n",
              "      <td>5.0</td>\n",
              "      <td>5.0</td>\n",
              "      <td>6.0</td>\n",
              "      <td>4.0</td>\n",
              "      <td>1.0</td>\n",
              "      <td>5.0</td>\n",
              "      <td>2</td>\n",
              "      <td>5.0</td>\n",
              "      <td>5.0</td>\n",
              "      <td>1.0</td>\n",
              "      <td>1</td>\n",
              "      <td>4.0</td>\n",
              "      <td>31</td>\n",
              "    </tr>\n",
              "    <tr>\n",
              "      <th>2799</th>\n",
              "      <td>67560</td>\n",
              "      <td>2.0</td>\n",
              "      <td>3.0</td>\n",
              "      <td>1.0</td>\n",
              "      <td>4.0</td>\n",
              "      <td>2.0</td>\n",
              "      <td>5.0</td>\n",
              "      <td>5.0</td>\n",
              "      <td>3.0</td>\n",
              "      <td>3.0</td>\n",
              "      <td>3.0</td>\n",
              "      <td>3.0</td>\n",
              "      <td>3.0</td>\n",
              "      <td>1.0</td>\n",
              "      <td>2.0</td>\n",
              "      <td>2.0</td>\n",
              "      <td>1.0</td>\n",
              "      <td>2.0</td>\n",
              "      <td>2.0</td>\n",
              "      <td>1.0</td>\n",
              "      <td>1.0</td>\n",
              "      <td>3.0</td>\n",
              "      <td>1</td>\n",
              "      <td>3.0</td>\n",
              "      <td>5.0</td>\n",
              "      <td>1.0</td>\n",
              "      <td>2</td>\n",
              "      <td>4.0</td>\n",
              "      <td>50</td>\n",
              "    </tr>\n",
              "  </tbody>\n",
              "</table>\n",
              "<p>2800 rows × 29 columns</p>\n",
              "</div>"
            ],
            "text/plain": [
              "      Unnamed: 0   A1   A2   A3   A4  ...   O4   O5  gender  education  age\n",
              "0          61617  2.0  4.0  3.0  4.0  ...  4.0  3.0       1        NaN   16\n",
              "1          61618  2.0  4.0  5.0  2.0  ...  3.0  3.0       2        NaN   18\n",
              "2          61620  5.0  4.0  5.0  4.0  ...  5.0  2.0       2        NaN   17\n",
              "3          61621  4.0  4.0  6.0  5.0  ...  3.0  5.0       2        NaN   17\n",
              "4          61622  2.0  3.0  3.0  4.0  ...  3.0  3.0       1        NaN   17\n",
              "...          ...  ...  ...  ...  ...  ...  ...  ...     ...        ...  ...\n",
              "2795       67551  6.0  1.0  3.0  3.0  ...  6.0  1.0       1        3.0   19\n",
              "2796       67552  2.0  4.0  4.0  3.0  ...  4.0  2.0       1        4.0   27\n",
              "2797       67556  2.0  3.0  5.0  2.0  ...  4.0  3.0       2        4.0   29\n",
              "2798       67559  5.0  2.0  2.0  4.0  ...  5.0  1.0       1        4.0   31\n",
              "2799       67560  2.0  3.0  1.0  4.0  ...  5.0  1.0       2        4.0   50\n",
              "\n",
              "[2800 rows x 29 columns]"
            ]
          },
          "metadata": {
            "tags": []
          },
          "execution_count": 135
        }
      ]
    },
    {
      "cell_type": "markdown",
      "metadata": {
        "id": "_33FsysMHvuE"
      },
      "source": [
        "###Factor Analysis\n",
        "\n",
        "###Assumptions:\n",
        "\n",
        "ในข้อมูล multivariate ที่มีตัวแปร observ variable จำนวน n ตัว \n",
        "\n",
        "มีตัวแปร Factor (Latent Variables)  จำนวน k ตัว\n",
        "\n",
        "ที่สามารถอธิบายข้อมูลทั้งหมดได้  โดย k < n\n",
        " โดย K น้อยกว่า n จะทำให้เราสามารถลดตัวแปรที่ไม่จำเป็นออกได้\n",
        "\n",
        "\n",
        "![image.png](data:image/png;base64,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)"
      ]
    },
    {
      "cell_type": "markdown",
      "metadata": {
        "id": "E_y7DZ3hKxug"
      },
      "source": [
        "Assumptions ในการทำ Factor Analysis:\n",
        "\n",
        "* There are no outliers in data. --outliers ทำให้ข้อมูลผิดพลาด ต้องไม่มี\n",
        "\n",
        "* Sample size should be greater than the factor. --จำนวน data ต้องน้อยว่า จำนวน Factor Analysis\n",
        "\n",
        "* There should not be ***perfect multicollinearity***.----ไม่ควรมี กราฟเป็นเส้นตรง ค่า correlation = 1  ถ้ามีคือซ้ำต้องตัด data ออก\n",
        "\n",
        "* There should not be ***homoscedasticity*** between the variables.--ไม่ควรมี คือค่าความแปรปรวนคลาดเคลื่อน ข้อมูลที่มีการกระจายคล้ายๆกัน"
      ]
    },
    {
      "cell_type": "markdown",
      "metadata": {
        "id": "iAmA7dJCAVSV"
      },
      "source": [
        "การทำ Factor Analysis มีประโยชน์หลัก 2 อันคือ\n",
        "\n",
        "Confirmatory ---เพื่อพิสูจน์ ตรวจสอบหรือยืนยันทฤษฎีที่ผู้อื่นค้นพบ เรียกว่า การวิเคราะห์\n",
        "องค์ประกอบเชิงยืนยัน (Confirmatory factor analysis)\n",
        "\n",
        "\n",
        "Exploratory---เพื่อสํารวจหรือค้นหาตัวแปรแฝงที่ซ่อนอยู่ภายใต้ตัวแปรที่สังเกตหรือวัดได้ เรียกว่า\n",
        "การวิเคราะห์องค์ประกอบเชิงสํารวจ (Exproratory factor analysis)\n",
        "\n"
      ]
    },
    {
      "cell_type": "markdown",
      "metadata": {
        "id": "W8jkpbxBJ58y"
      },
      "source": [
        "เพื่อลดจำนวนตัวแปร หรือ dimensions ให้น้อยลง เพื่อจัดการกับข้อมูลได้ดีขึ้น  ตัวแปร Factor น้อยกว่าตัวแปร observeb"
      ]
    },
    {
      "cell_type": "markdown",
      "metadata": {
        "id": "z4Eh7yWKOxId"
      },
      "source": [
        "##การทำ Factor analysis"
      ]
    },
    {
      "cell_type": "code",
      "metadata": {
        "id": "OWwiZgtAG6w5"
      },
      "source": [
        "from factor_analyzer import FactorAnalyzer\n",
        "import matplotlib.pyplot as plt\n"
      ],
      "execution_count": 136,
      "outputs": []
    },
    {
      "cell_type": "markdown",
      "metadata": {
        "id": "BGUXudnCPnBl"
      },
      "source": [
        "แก้ error ```ModuleNotFoundError: No module named 'factor_analyzer'``` โดย https://stackoverflow.com/questions/61830329/modulenotfounderror-no-module-named-factor-analyzer-python-notebook"
      ]
    },
    {
      "cell_type": "markdown",
      "metadata": {
        "id": "s3DBAv08P7pD"
      },
      "source": [
        "วิธี install package อื่นๆ"
      ]
    },
    {
      "cell_type": "code",
      "metadata": {
        "colab": {
          "base_uri": "https://localhost:8080/"
        },
        "id": "n_FtdWBZPSA4",
        "outputId": "25d98d2a-68cf-41bd-adf9-46dc8014230f"
      },
      "source": [
        "!pip install factor_analyzer #ถ้าเราใช้ libary ที่ไม่ได้มีคนใช้บ่อย จะต้องติดตั้งเอง"
      ],
      "execution_count": 137,
      "outputs": [
        {
          "output_type": "stream",
          "text": [
            "Requirement already satisfied: factor_analyzer in /usr/local/lib/python3.7/dist-packages (0.3.2)\n",
            "Requirement already satisfied: pandas in /usr/local/lib/python3.7/dist-packages (from factor_analyzer) (1.1.5)\n",
            "Requirement already satisfied: scikit-learn in /usr/local/lib/python3.7/dist-packages (from factor_analyzer) (0.22.2.post1)\n",
            "Requirement already satisfied: numpy in /usr/local/lib/python3.7/dist-packages (from factor_analyzer) (1.19.5)\n",
            "Requirement already satisfied: scipy in /usr/local/lib/python3.7/dist-packages (from factor_analyzer) (1.4.1)\n",
            "Requirement already satisfied: python-dateutil>=2.7.3 in /usr/local/lib/python3.7/dist-packages (from pandas->factor_analyzer) (2.8.1)\n",
            "Requirement already satisfied: pytz>=2017.2 in /usr/local/lib/python3.7/dist-packages (from pandas->factor_analyzer) (2018.9)\n",
            "Requirement already satisfied: joblib>=0.11 in /usr/local/lib/python3.7/dist-packages (from scikit-learn->factor_analyzer) (1.0.1)\n",
            "Requirement already satisfied: six>=1.5 in /usr/local/lib/python3.7/dist-packages (from python-dateutil>=2.7.3->pandas->factor_analyzer) (1.15.0)\n"
          ],
          "name": "stdout"
        }
      ]
    },
    {
      "cell_type": "code",
      "metadata": {
        "id": "y3M501NbP_a_"
      },
      "source": [
        "from factor_analyzer import FactorAnalyzer\n",
        "import matplotlib.pyplot as plt # เหมือนกันกับ from matplotlib import pyplot as plt"
      ],
      "execution_count": 138,
      "outputs": []
    },
    {
      "cell_type": "markdown",
      "metadata": {
        "id": "bSiw9xMtS3Bw"
      },
      "source": [
        "## Quiz 5 เลือกข้อมูลมาเฉพาะ a1,a2,a3,...,d3,o4,o5 ด้วยคำสั่ง iloc"
      ]
    },
    {
      "cell_type": "code",
      "metadata": {
        "colab": {
          "base_uri": "https://localhost:8080/",
          "height": 402
        },
        "id": "fiSJlrmcQW3r",
        "outputId": "614af0ac-be53-4656-e721-b112def75349"
      },
      "source": [
        "BFI_data_dropped= BFI_data.iloc[:,1:-3]#นับย้อนหลัง #เอาาทุกแถวตั้งแต่แถวที่1 ถึง แถว -3\n",
        "BFI_data_dropped #  : เอาทุกแถว"
      ],
      "execution_count": 139,
      "outputs": [
        {
          "output_type": "execute_result",
          "data": {
            "text/html": [
              "<div>\n",
              "<style scoped>\n",
              "    .dataframe tbody tr th:only-of-type {\n",
              "        vertical-align: middle;\n",
              "    }\n",
              "\n",
              "    .dataframe tbody tr th {\n",
              "        vertical-align: top;\n",
              "    }\n",
              "\n",
              "    .dataframe thead th {\n",
              "        text-align: right;\n",
              "    }\n",
              "</style>\n",
              "<table border=\"1\" class=\"dataframe\">\n",
              "  <thead>\n",
              "    <tr style=\"text-align: right;\">\n",
              "      <th></th>\n",
              "      <th>A1</th>\n",
              "      <th>A2</th>\n",
              "      <th>A3</th>\n",
              "      <th>A4</th>\n",
              "      <th>A5</th>\n",
              "      <th>C1</th>\n",
              "      <th>C2</th>\n",
              "      <th>C3</th>\n",
              "      <th>C4</th>\n",
              "      <th>C5</th>\n",
              "      <th>E1</th>\n",
              "      <th>E2</th>\n",
              "      <th>E3</th>\n",
              "      <th>E4</th>\n",
              "      <th>E5</th>\n",
              "      <th>N1</th>\n",
              "      <th>N2</th>\n",
              "      <th>N3</th>\n",
              "      <th>N4</th>\n",
              "      <th>N5</th>\n",
              "      <th>O1</th>\n",
              "      <th>O2</th>\n",
              "      <th>O3</th>\n",
              "      <th>O4</th>\n",
              "      <th>O5</th>\n",
              "    </tr>\n",
              "  </thead>\n",
              "  <tbody>\n",
              "    <tr>\n",
              "      <th>0</th>\n",
              "      <td>2.0</td>\n",
              "      <td>4.0</td>\n",
              "      <td>3.0</td>\n",
              "      <td>4.0</td>\n",
              "      <td>4.0</td>\n",
              "      <td>2.0</td>\n",
              "      <td>3.0</td>\n",
              "      <td>3.0</td>\n",
              "      <td>4.0</td>\n",
              "      <td>4.0</td>\n",
              "      <td>3.0</td>\n",
              "      <td>3.0</td>\n",
              "      <td>3.0</td>\n",
              "      <td>4.0</td>\n",
              "      <td>4.0</td>\n",
              "      <td>3.0</td>\n",
              "      <td>4.0</td>\n",
              "      <td>2.0</td>\n",
              "      <td>2.0</td>\n",
              "      <td>3.0</td>\n",
              "      <td>3.0</td>\n",
              "      <td>6</td>\n",
              "      <td>3.0</td>\n",
              "      <td>4.0</td>\n",
              "      <td>3.0</td>\n",
              "    </tr>\n",
              "    <tr>\n",
              "      <th>1</th>\n",
              "      <td>2.0</td>\n",
              "      <td>4.0</td>\n",
              "      <td>5.0</td>\n",
              "      <td>2.0</td>\n",
              "      <td>5.0</td>\n",
              "      <td>5.0</td>\n",
              "      <td>4.0</td>\n",
              "      <td>4.0</td>\n",
              "      <td>3.0</td>\n",
              "      <td>4.0</td>\n",
              "      <td>1.0</td>\n",
              "      <td>1.0</td>\n",
              "      <td>6.0</td>\n",
              "      <td>4.0</td>\n",
              "      <td>3.0</td>\n",
              "      <td>3.0</td>\n",
              "      <td>3.0</td>\n",
              "      <td>3.0</td>\n",
              "      <td>5.0</td>\n",
              "      <td>5.0</td>\n",
              "      <td>4.0</td>\n",
              "      <td>2</td>\n",
              "      <td>4.0</td>\n",
              "      <td>3.0</td>\n",
              "      <td>3.0</td>\n",
              "    </tr>\n",
              "    <tr>\n",
              "      <th>2</th>\n",
              "      <td>5.0</td>\n",
              "      <td>4.0</td>\n",
              "      <td>5.0</td>\n",
              "      <td>4.0</td>\n",
              "      <td>4.0</td>\n",
              "      <td>4.0</td>\n",
              "      <td>5.0</td>\n",
              "      <td>4.0</td>\n",
              "      <td>2.0</td>\n",
              "      <td>5.0</td>\n",
              "      <td>2.0</td>\n",
              "      <td>4.0</td>\n",
              "      <td>4.0</td>\n",
              "      <td>4.0</td>\n",
              "      <td>5.0</td>\n",
              "      <td>4.0</td>\n",
              "      <td>5.0</td>\n",
              "      <td>4.0</td>\n",
              "      <td>2.0</td>\n",
              "      <td>3.0</td>\n",
              "      <td>4.0</td>\n",
              "      <td>2</td>\n",
              "      <td>5.0</td>\n",
              "      <td>5.0</td>\n",
              "      <td>2.0</td>\n",
              "    </tr>\n",
              "    <tr>\n",
              "      <th>3</th>\n",
              "      <td>4.0</td>\n",
              "      <td>4.0</td>\n",
              "      <td>6.0</td>\n",
              "      <td>5.0</td>\n",
              "      <td>5.0</td>\n",
              "      <td>4.0</td>\n",
              "      <td>4.0</td>\n",
              "      <td>3.0</td>\n",
              "      <td>5.0</td>\n",
              "      <td>5.0</td>\n",
              "      <td>5.0</td>\n",
              "      <td>3.0</td>\n",
              "      <td>4.0</td>\n",
              "      <td>4.0</td>\n",
              "      <td>4.0</td>\n",
              "      <td>2.0</td>\n",
              "      <td>5.0</td>\n",
              "      <td>2.0</td>\n",
              "      <td>4.0</td>\n",
              "      <td>1.0</td>\n",
              "      <td>3.0</td>\n",
              "      <td>3</td>\n",
              "      <td>4.0</td>\n",
              "      <td>3.0</td>\n",
              "      <td>5.0</td>\n",
              "    </tr>\n",
              "    <tr>\n",
              "      <th>4</th>\n",
              "      <td>2.0</td>\n",
              "      <td>3.0</td>\n",
              "      <td>3.0</td>\n",
              "      <td>4.0</td>\n",
              "      <td>5.0</td>\n",
              "      <td>4.0</td>\n",
              "      <td>4.0</td>\n",
              "      <td>5.0</td>\n",
              "      <td>3.0</td>\n",
              "      <td>2.0</td>\n",
              "      <td>2.0</td>\n",
              "      <td>2.0</td>\n",
              "      <td>5.0</td>\n",
              "      <td>4.0</td>\n",
              "      <td>5.0</td>\n",
              "      <td>2.0</td>\n",
              "      <td>3.0</td>\n",
              "      <td>4.0</td>\n",
              "      <td>4.0</td>\n",
              "      <td>3.0</td>\n",
              "      <td>3.0</td>\n",
              "      <td>3</td>\n",
              "      <td>4.0</td>\n",
              "      <td>3.0</td>\n",
              "      <td>3.0</td>\n",
              "    </tr>\n",
              "    <tr>\n",
              "      <th>...</th>\n",
              "      <td>...</td>\n",
              "      <td>...</td>\n",
              "      <td>...</td>\n",
              "      <td>...</td>\n",
              "      <td>...</td>\n",
              "      <td>...</td>\n",
              "      <td>...</td>\n",
              "      <td>...</td>\n",
              "      <td>...</td>\n",
              "      <td>...</td>\n",
              "      <td>...</td>\n",
              "      <td>...</td>\n",
              "      <td>...</td>\n",
              "      <td>...</td>\n",
              "      <td>...</td>\n",
              "      <td>...</td>\n",
              "      <td>...</td>\n",
              "      <td>...</td>\n",
              "      <td>...</td>\n",
              "      <td>...</td>\n",
              "      <td>...</td>\n",
              "      <td>...</td>\n",
              "      <td>...</td>\n",
              "      <td>...</td>\n",
              "      <td>...</td>\n",
              "    </tr>\n",
              "    <tr>\n",
              "      <th>2795</th>\n",
              "      <td>6.0</td>\n",
              "      <td>1.0</td>\n",
              "      <td>3.0</td>\n",
              "      <td>3.0</td>\n",
              "      <td>3.0</td>\n",
              "      <td>6.0</td>\n",
              "      <td>6.0</td>\n",
              "      <td>6.0</td>\n",
              "      <td>1.0</td>\n",
              "      <td>1.0</td>\n",
              "      <td>1.0</td>\n",
              "      <td>4.0</td>\n",
              "      <td>5.0</td>\n",
              "      <td>5.0</td>\n",
              "      <td>6.0</td>\n",
              "      <td>1.0</td>\n",
              "      <td>1.0</td>\n",
              "      <td>1.0</td>\n",
              "      <td>NaN</td>\n",
              "      <td>1.0</td>\n",
              "      <td>6.0</td>\n",
              "      <td>1</td>\n",
              "      <td>6.0</td>\n",
              "      <td>6.0</td>\n",
              "      <td>1.0</td>\n",
              "    </tr>\n",
              "    <tr>\n",
              "      <th>2796</th>\n",
              "      <td>2.0</td>\n",
              "      <td>4.0</td>\n",
              "      <td>4.0</td>\n",
              "      <td>3.0</td>\n",
              "      <td>5.0</td>\n",
              "      <td>2.0</td>\n",
              "      <td>3.0</td>\n",
              "      <td>4.0</td>\n",
              "      <td>4.0</td>\n",
              "      <td>3.0</td>\n",
              "      <td>2.0</td>\n",
              "      <td>2.0</td>\n",
              "      <td>4.0</td>\n",
              "      <td>4.0</td>\n",
              "      <td>3.0</td>\n",
              "      <td>NaN</td>\n",
              "      <td>3.0</td>\n",
              "      <td>2.0</td>\n",
              "      <td>3.0</td>\n",
              "      <td>3.0</td>\n",
              "      <td>6.0</td>\n",
              "      <td>3</td>\n",
              "      <td>5.0</td>\n",
              "      <td>4.0</td>\n",
              "      <td>2.0</td>\n",
              "    </tr>\n",
              "    <tr>\n",
              "      <th>2797</th>\n",
              "      <td>2.0</td>\n",
              "      <td>3.0</td>\n",
              "      <td>5.0</td>\n",
              "      <td>2.0</td>\n",
              "      <td>5.0</td>\n",
              "      <td>5.0</td>\n",
              "      <td>5.0</td>\n",
              "      <td>5.0</td>\n",
              "      <td>1.0</td>\n",
              "      <td>1.0</td>\n",
              "      <td>2.0</td>\n",
              "      <td>2.0</td>\n",
              "      <td>6.0</td>\n",
              "      <td>3.0</td>\n",
              "      <td>6.0</td>\n",
              "      <td>3.0</td>\n",
              "      <td>4.0</td>\n",
              "      <td>3.0</td>\n",
              "      <td>3.0</td>\n",
              "      <td>1.0</td>\n",
              "      <td>5.0</td>\n",
              "      <td>1</td>\n",
              "      <td>6.0</td>\n",
              "      <td>4.0</td>\n",
              "      <td>3.0</td>\n",
              "    </tr>\n",
              "    <tr>\n",
              "      <th>2798</th>\n",
              "      <td>5.0</td>\n",
              "      <td>2.0</td>\n",
              "      <td>2.0</td>\n",
              "      <td>4.0</td>\n",
              "      <td>4.0</td>\n",
              "      <td>5.0</td>\n",
              "      <td>5.0</td>\n",
              "      <td>5.0</td>\n",
              "      <td>2.0</td>\n",
              "      <td>6.0</td>\n",
              "      <td>2.0</td>\n",
              "      <td>2.0</td>\n",
              "      <td>4.0</td>\n",
              "      <td>5.0</td>\n",
              "      <td>4.0</td>\n",
              "      <td>5.0</td>\n",
              "      <td>5.0</td>\n",
              "      <td>6.0</td>\n",
              "      <td>4.0</td>\n",
              "      <td>1.0</td>\n",
              "      <td>5.0</td>\n",
              "      <td>2</td>\n",
              "      <td>5.0</td>\n",
              "      <td>5.0</td>\n",
              "      <td>1.0</td>\n",
              "    </tr>\n",
              "    <tr>\n",
              "      <th>2799</th>\n",
              "      <td>2.0</td>\n",
              "      <td>3.0</td>\n",
              "      <td>1.0</td>\n",
              "      <td>4.0</td>\n",
              "      <td>2.0</td>\n",
              "      <td>5.0</td>\n",
              "      <td>5.0</td>\n",
              "      <td>3.0</td>\n",
              "      <td>3.0</td>\n",
              "      <td>3.0</td>\n",
              "      <td>3.0</td>\n",
              "      <td>3.0</td>\n",
              "      <td>1.0</td>\n",
              "      <td>2.0</td>\n",
              "      <td>2.0</td>\n",
              "      <td>1.0</td>\n",
              "      <td>2.0</td>\n",
              "      <td>2.0</td>\n",
              "      <td>1.0</td>\n",
              "      <td>1.0</td>\n",
              "      <td>3.0</td>\n",
              "      <td>1</td>\n",
              "      <td>3.0</td>\n",
              "      <td>5.0</td>\n",
              "      <td>1.0</td>\n",
              "    </tr>\n",
              "  </tbody>\n",
              "</table>\n",
              "<p>2800 rows × 25 columns</p>\n",
              "</div>"
            ],
            "text/plain": [
              "       A1   A2   A3   A4   A5   C1   C2  ...   N4   N5   O1  O2   O3   O4   O5\n",
              "0     2.0  4.0  3.0  4.0  4.0  2.0  3.0  ...  2.0  3.0  3.0   6  3.0  4.0  3.0\n",
              "1     2.0  4.0  5.0  2.0  5.0  5.0  4.0  ...  5.0  5.0  4.0   2  4.0  3.0  3.0\n",
              "2     5.0  4.0  5.0  4.0  4.0  4.0  5.0  ...  2.0  3.0  4.0   2  5.0  5.0  2.0\n",
              "3     4.0  4.0  6.0  5.0  5.0  4.0  4.0  ...  4.0  1.0  3.0   3  4.0  3.0  5.0\n",
              "4     2.0  3.0  3.0  4.0  5.0  4.0  4.0  ...  4.0  3.0  3.0   3  4.0  3.0  3.0\n",
              "...   ...  ...  ...  ...  ...  ...  ...  ...  ...  ...  ...  ..  ...  ...  ...\n",
              "2795  6.0  1.0  3.0  3.0  3.0  6.0  6.0  ...  NaN  1.0  6.0   1  6.0  6.0  1.0\n",
              "2796  2.0  4.0  4.0  3.0  5.0  2.0  3.0  ...  3.0  3.0  6.0   3  5.0  4.0  2.0\n",
              "2797  2.0  3.0  5.0  2.0  5.0  5.0  5.0  ...  3.0  1.0  5.0   1  6.0  4.0  3.0\n",
              "2798  5.0  2.0  2.0  4.0  4.0  5.0  5.0  ...  4.0  1.0  5.0   2  5.0  5.0  1.0\n",
              "2799  2.0  3.0  1.0  4.0  2.0  5.0  5.0  ...  1.0  1.0  3.0   1  3.0  5.0  1.0\n",
              "\n",
              "[2800 rows x 25 columns]"
            ]
          },
          "metadata": {
            "tags": []
          },
          "execution_count": 139
        }
      ]
    },
    {
      "cell_type": "markdown",
      "metadata": {
        "id": "PhBtrUOTJyKS"
      },
      "source": [
        "1.There are no outliers in data. --outliers ทำให้ข้อมูลผิดพลาด ต้องไม่มี\n",
        " .dropna() คือการลบค่าว่างออกไป"
      ]
    },
    {
      "cell_type": "code",
      "metadata": {
        "id": "HmBo5BIKUgMq"
      },
      "source": [
        " BFI_data_dropped = BFI_data_dropped.dropna() #ลบออกไป 4 คอลลัมน์"
      ],
      "execution_count": 140,
      "outputs": []
    },
    {
      "cell_type": "code",
      "metadata": {
        "id": "TXcUiM9Q1FQp",
        "colab": {
          "base_uri": "https://localhost:8080/"
        },
        "outputId": "05b7ed4b-60c9-4073-93d5-d840216ab430"
      },
      "source": [
        "BFI_data_dropped.shape"
      ],
      "execution_count": 141,
      "outputs": [
        {
          "output_type": "execute_result",
          "data": {
            "text/plain": [
              "(2436, 25)"
            ]
          },
          "metadata": {
            "tags": []
          },
          "execution_count": 141
        }
      ]
    },
    {
      "cell_type": "markdown",
      "metadata": {
        "id": "DH27kpjV2SI6"
      },
      "source": [
        "#Bartlett’s test"
      ]
    },
    {
      "cell_type": "markdown",
      "metadata": {
        "id": "qh7Rc1TsTEvm"
      },
      "source": [
        "There should not be perfect multicollinearity.----ไม่ควรมี กราฟเป็นเส้นตรง ค่า correlation = 1 ถ้ามีคือซ้ำต้องตัด data ออก"
      ]
    },
    {
      "cell_type": "code",
      "metadata": {
        "id": "goT5bozP038H",
        "colab": {
          "base_uri": "https://localhost:8080/"
        },
        "outputId": "31147726-fa89-4e64-a0ce-205a25b2978d"
      },
      "source": [
        "from factor_analyzer.factor_analyzer import calculate_bartlett_sphericity #p-value = 0 ไม่มี perfect\n",
        "\n",
        "chi_square_value,p_value=calculate_bartlett_sphericity(BFI_data_dropped)\n",
        "\n",
        "chi_square_value, p_value"
      ],
      "execution_count": 142,
      "outputs": [
        {
          "output_type": "execute_result",
          "data": {
            "text/plain": [
              "(18170.966350869243, 0.0)"
            ]
          },
          "metadata": {
            "tags": []
          },
          "execution_count": 142
        }
      ]
    },
    {
      "cell_type": "markdown",
      "metadata": {
        "id": "Y4fkM3T92ynE"
      },
      "source": [
        "In this Bartlett ’s test, the p-value is 0. The test was statistically significant, indicating that the observed correlation matrix is not an identity matrix."
      ]
    },
    {
      "cell_type": "markdown",
      "metadata": {
        "id": "ENlQZBLY244A"
      },
      "source": [
        "#Kaiser-Meyer-Olkin (KMO) Test"
      ]
    },
    {
      "cell_type": "markdown",
      "metadata": {
        "id": "8F8D_vtO3Sar"
      },
      "source": [
        "ถ้าค่า KMO มีมากกว่า 0.6 แปลว่าข้อมูลเหมาะสมที่จะนำไปทำ Factor Analysis"
      ]
    },
    {
      "cell_type": "code",
      "metadata": {
        "id": "LEY71cGG18BA",
        "colab": {
          "base_uri": "https://localhost:8080/"
        },
        "outputId": "ac3313b3-24db-4332-81cc-1c260738ae26"
      },
      "source": [
        "from factor_analyzer.factor_analyzer import calculate_kmo\n",
        "\n",
        "kmo_all,kmo_model=calculate_kmo(BFI_data_dropped)\n",
        "\n",
        "kmo_model"
      ],
      "execution_count": 143,
      "outputs": [
        {
          "output_type": "execute_result",
          "data": {
            "text/plain": [
              "0.8485397221949221"
            ]
          },
          "metadata": {
            "tags": []
          },
          "execution_count": 143
        }
      ]
    },
    {
      "cell_type": "markdown",
      "metadata": {
        "id": "o3HGbE583Q1D"
      },
      "source": [
        "The overall KMO for our data is 0.84(เหมาะสมที่จะนำไปทำ factor analysis), which is excellent. This value indicates that you can proceed with your planned factor analysis."
      ]
    },
    {
      "cell_type": "markdown",
      "metadata": {
        "id": "3gfsE4JU45Dz"
      },
      "source": [
        "#Factor analysis"
      ]
    },
    {
      "cell_type": "markdown",
      "metadata": {
        "id": "ENNIqVoX8tpi"
      },
      "source": [
        "#import"
      ]
    },
    {
      "cell_type": "code",
      "metadata": {
        "id": "BUg00JlL6MO6"
      },
      "source": [
        "from factor_analyzer import FactorAnalyzer"
      ],
      "execution_count": 144,
      "outputs": []
    },
    {
      "cell_type": "markdown",
      "metadata": {
        "id": "0AtPg6hs6cPv"
      },
      "source": [
        "#Define"
      ]
    },
    {
      "cell_type": "code",
      "metadata": {
        "id": "yToBSAOr9SQt"
      },
      "source": [
        " fa= FactorAnalyzer(n_factors= 20) #กำหนดตัวแปรให้ factor มากๆไว้ก่อน"
      ],
      "execution_count": 145,
      "outputs": []
    },
    {
      "cell_type": "markdown",
      "metadata": {
        "id": "WZFJFGWL88qk"
      },
      "source": [
        "#Fit - Transform"
      ]
    },
    {
      "cell_type": "markdown",
      "metadata": {
        "id": "v-SAwHNCK4hr"
      },
      "source": [
        "fit คำนวนพารามิเตอร์ \n",
        "\n",
        "tranfrom เป็นการนำข้อมูลที่เราคำนวณแล้วเข้าไปใส่ในแกนที่ถูกเปลี่ยน"
      ]
    },
    {
      "cell_type": "code",
      "metadata": {
        "id": "c37QF_GK89yG"
      },
      "source": [
        "data_fa = fa.fit_transform(BFI_data_dropped)"
      ],
      "execution_count": 146,
      "outputs": []
    },
    {
      "cell_type": "code",
      "metadata": {
        "id": "hF2lgFAE9mW3",
        "colab": {
          "base_uri": "https://localhost:8080/"
        },
        "outputId": "b7d39b83-6b2b-4f26-d594-5faabf0b1c8e"
      },
      "source": [
        "data_fa.shape"
      ],
      "execution_count": 147,
      "outputs": [
        {
          "output_type": "execute_result",
          "data": {
            "text/plain": [
              "(2436, 20)"
            ]
          },
          "metadata": {
            "tags": []
          },
          "execution_count": 147
        }
      ]
    },
    {
      "cell_type": "markdown",
      "metadata": {
        "id": "YfXQp4HJ-iVU"
      },
      "source": [
        "#วิธีตัดสินว่าเราจะลดเหลือกี่ dimension (มี factors ทั้งหมดกี่ตัว)"
      ]
    },
    {
      "cell_type": "code",
      "metadata": {
        "id": "7k-jIn7y9pTN"
      },
      "source": [
        "ev,v = fa.get_eigenvalues()"
      ],
      "execution_count": 148,
      "outputs": []
    },
    {
      "cell_type": "markdown",
      "metadata": {
        "id": "ldAmaj3J-_H4"
      },
      "source": [
        "#ใช้ eigen values"
      ]
    },
    {
      "cell_type": "markdown",
      "metadata": {
        "id": "eTtGg9qpLPUw"
      },
      "source": [
        "\n",
        "จะ plot graph Scree plot ได้ต้องหา eigenvalues ก่อนเพื่อนำไป plot"
      ]
    },
    {
      "cell_type": "code",
      "metadata": {
        "id": "vthKSnFU9v9I",
        "colab": {
          "base_uri": "https://localhost:8080/"
        },
        "outputId": "e0ed5f19-b6fc-46f7-996d-1d7fb58bd52a"
      },
      "source": [
        "v.shape"
      ],
      "execution_count": 149,
      "outputs": [
        {
          "output_type": "execute_result",
          "data": {
            "text/plain": [
              "(25,)"
            ]
          },
          "metadata": {
            "tags": []
          },
          "execution_count": 149
        }
      ]
    },
    {
      "cell_type": "code",
      "metadata": {
        "id": "0XAFAWt0_kF1",
        "colab": {
          "base_uri": "https://localhost:8080/"
        },
        "outputId": "66d51d60-f4e1-495d-b5f7-906eaa319fa0"
      },
      "source": [
        "ev #eigen values มากกว่า 1 แสดงว่าเราเลือกตัวนั้น"
      ],
      "execution_count": 150,
      "outputs": [
        {
          "output_type": "execute_result",
          "data": {
            "text/plain": [
              "array([5.13431118, 2.75188667, 2.14270195, 1.85232761, 1.54816285,\n",
              "       1.07358247, 0.83953893, 0.79920618, 0.71898919, 0.68808879,\n",
              "       0.67637336, 0.65179984, 0.62325295, 0.59656284, 0.56309083,\n",
              "       0.54330533, 0.51451752, 0.49450315, 0.48263952, 0.448921  ,\n",
              "       0.42336611, 0.40067145, 0.38780448, 0.38185679, 0.26253902])"
            ]
          },
          "metadata": {
            "tags": []
          },
          "execution_count": 150
        }
      ]
    },
    {
      "cell_type": "markdown",
      "metadata": {
        "id": "yB9Tvakz_eOs"
      },
      "source": [
        "#screen plot"
      ]
    },
    {
      "cell_type": "markdown",
      "metadata": {
        "id": "88RM0Ro__xuo"
      },
      "source": [
        "ค่าจะตัด eigenvalue ที่ 1 ตัวไหนเกิน 1แสดงว่า eigenvalue มากกว่า 1สามารถ ใช้งานได้"
      ]
    },
    {
      "cell_type": "code",
      "metadata": {
        "id": "6YJo8ven3k0h",
        "colab": {
          "base_uri": "https://localhost:8080/",
          "height": 893
        },
        "outputId": "7f8a7da8-f1d6-4e47-c4d6-fdcb827fe85c"
      },
      "source": [
        "# Create scree plot using matplotlib\n",
        "plt.plot(range(1,BFI_data_dropped.shape[1]+1),ev,'bo-') #plot ตั้งแต่ factor ที่มีขนาดมากที่สุด ลดลงมาเรื่อยๆ\n",
        "plt.plot([0,BFI_data_dropped.shape[1]+1],[1,1],'r--')\n",
        "plt.title('Scree Plot')\n",
        "plt.xlabel('Factors')\n",
        "plt.ylabel('Eigenvalue')\n",
        "plt.grid()\n",
        "plt.show()"
      ],
      "execution_count": 91,
      "outputs": [
        {
          "output_type": "display_data",
          "data": {
            "image/png": "[encoded data removed]",
            "text/plain": [
              "<Figure size 1080x1080 with 1 Axes>"
            ]
          },
          "metadata": {
            "tags": [],
            "needs_background": "light"
          }
        }
      ]
    },
    {
      "cell_type": "code",
      "metadata": {
        "id": "sln798__Ay-Y",
        "colab": {
          "base_uri": "https://localhost:8080/"
        },
        "outputId": "85740f50-3251-4857-d1e6-1693af65bb39"
      },
      "source": [
        "data_fa [:,:6]  #ดู6 ตัวแรก ที่มีค่ามากกว่า 1"
      ],
      "execution_count": 27,
      "outputs": [
        {
          "output_type": "execute_result",
          "data": {
            "text/plain": [
              "array([[-0.89749661, -0.12809666, -1.22649076,  1.08665889,  0.42476701,\n",
              "         0.03981611],\n",
              "       [ 0.33679356, -0.15018138, -0.04332274, -0.10339328,  0.29665648,\n",
              "        -1.11019718],\n",
              "       [-0.24521029,  0.80409961,  0.39343377, -0.30106518,  0.82703928,\n",
              "        -0.2982022 ],\n",
              "       ...,\n",
              "       [ 0.38724631, -0.02183587,  1.19616826, -1.19357208,  0.79669501,\n",
              "        -0.95295109],\n",
              "       [-0.75695976,  0.94984758,  1.24363484, -1.15230215,  2.2534133 ,\n",
              "        -1.0218667 ],\n",
              "       [-2.35583952, -1.49829856,  0.49436981, -1.64734311,  0.94742323,\n",
              "         0.43462495]])"
            ]
          },
          "metadata": {
            "tags": []
          },
          "execution_count": 27
        }
      ]
    },
    {
      "cell_type": "markdown",
      "metadata": {
        "id": "w0_WmyMdMjJb"
      },
      "source": [
        "##รัน Factor Analyzer  อีกรอบด้วย  parameters  จำนวน factor เท่ากับ 6"
      ]
    },
    {
      "cell_type": "code",
      "metadata": {
        "id": "dbL33hhfNpRE"
      },
      "source": [
        "from factor_analyzer import FactorAnalyzer\n",
        "fa2= FactorAnalyzer(n_factors= 6) #กำหนดตัวแปรให้ factor\n",
        "data_fa2= fa2.fit_transform(BFI_data_dropped)"
      ],
      "execution_count": 151,
      "outputs": []
    },
    {
      "cell_type": "code",
      "metadata": {
        "colab": {
          "base_uri": "https://localhost:8080/"
        },
        "id": "naHkrCGCO08t",
        "outputId": "d85a6898-6c02-4685-acc0-8c5166e17f3b"
      },
      "source": [
        "fa2.loadings_.shape"
      ],
      "execution_count": 152,
      "outputs": [
        {
          "output_type": "execute_result",
          "data": {
            "text/plain": [
              "(25, 6)"
            ]
          },
          "metadata": {
            "tags": []
          },
          "execution_count": 152
        }
      ]
    },
    {
      "cell_type": "markdown",
      "metadata": {
        "id": "nRklHKPx4nTi"
      },
      "source": [
        "##plot Factor loading"
      ]
    },
    {
      "cell_type": "markdown",
      "metadata": {
        "id": "Yle8GeU2Pn0K"
      },
      "source": [
        "factor loading คือเป็นการบอกว่ามีกี่ตัวแปร แล้วดูตัวแปรไหนมีอิทธิพลบ้าง  ไม่สนใจเครื่องหมาย สนใจแต่ค่าของตัวเลข"
      ]
    },
    {
      "cell_type": "code",
      "metadata": {
        "id": "v09Rm_b8Dhdx"
      },
      "source": [
        "from matplotlib import pyplot as plt\n",
        "import numpy as np\n",
        "import matplotlib"
      ],
      "execution_count": 153,
      "outputs": []
    },
    {
      "cell_type": "markdown",
      "metadata": {
        "id": "UtR67cqpMYLb"
      },
      "source": [
        "![image.png](data:image/png;base64,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)\n",
        "\n"
      ]
    },
    {
      "cell_type": "markdown",
      "metadata": {
        "id": "Rbixq9LfRtBK"
      },
      "source": [
        "#matrix plot"
      ]
    },
    {
      "cell_type": "code",
      "metadata": {
        "id": "PAVW3LUTDFnj",
        "colab": {
          "base_uri": "https://localhost:8080/",
          "height": 880
        },
        "outputId": "3c4fdf7a-c9b6-4d12-cf18-70c2e9098c54"
      },
      "source": [
        "matplotlib.rcParams['figure.figsize']=[15,15] #ค่ามาก plot เป็นสีสว่าง   ค่าน้อย plot เป็นสีเข้ม (กราฟแรก)\n",
        "plt.imshow(np.absolute(fa2.loadings_))#เอาไว้ดู confirm ว่าตัวแปรสัมพันธ์กัน จะเอาตัวแปรมาอยู่ใกล้ๆกัน"
      ],
      "execution_count": 154,
      "outputs": [
        {
          "output_type": "execute_result",
          "data": {
            "text/plain": [
              "<matplotlib.image.AxesImage at 0x7f4719f9cd90>"
            ]
          },
          "metadata": {
            "tags": []
          },
          "execution_count": 154
        },
        {
          "output_type": "display_data",
          "data": {
            "image/png": "[encoded data removed]",
            "text/plain": [
              "<Figure size 1080x1080 with 1 Axes>"
            ]
          },
          "metadata": {
            "tags": [],
            "needs_background": "light"
          }
        }
      ]
    },
    {
      "cell_type": "markdown",
      "metadata": {
        "id": "jufAPssUTGay"
      },
      "source": [
        "#กราฟแท่ง"
      ]
    },
    {
      "cell_type": "markdown",
      "metadata": {
        "id": "KXoXipMCD2fn"
      },
      "source": [
        "Exploratory"
      ]
    },
    {
      "cell_type": "code",
      "metadata": {
        "id": "N7HNCqMBEYYO",
        "colab": {
          "base_uri": "https://localhost:8080/"
        },
        "outputId": "76525234-3c84-4029-e6d9-e7e90fde127e"
      },
      "source": [
        "BFI_data_dropped.columns"
      ],
      "execution_count": 32,
      "outputs": [
        {
          "output_type": "execute_result",
          "data": {
            "text/plain": [
              "Index(['A1', 'A2', 'A3', 'A4', 'A5', 'C1', 'C2', 'C3', 'C4', 'C5', 'E1', 'E2',\n",
              "       'E3', 'E4', 'E5', 'N1', 'N2', 'N3', 'N4', 'N5', 'O1', 'O2', 'O3', 'O4',\n",
              "       'O5'],\n",
              "      dtype='object')"
            ]
          },
          "metadata": {
            "tags": []
          },
          "execution_count": 32
        }
      ]
    },
    {
      "cell_type": "code",
      "metadata": {
        "id": "xwjG__K1Eb3n",
        "colab": {
          "base_uri": "https://localhost:8080/",
          "height": 880
        },
        "outputId": "7278edaa-2dee-4d71-a52c-b8e40a8ab93d"
      },
      "source": [
        "plt.bar(range(25),np.absolute(fa2.loadings_[:,0]),tick_label=BFI_data_dropped.columns)"
      ],
      "execution_count": 33,
      "outputs": [
        {
          "output_type": "execute_result",
          "data": {
            "text/plain": [
              "<BarContainer object of 25 artists>"
            ]
          },
          "metadata": {
            "tags": []
          },
          "execution_count": 33
        },
        {
          "output_type": "display_data",
          "data": {
            "image/png": "[encoded data removed]",
            "text/plain": [
              "<Figure size 1080x1080 with 1 Axes>"
            ]
          },
          "metadata": {
            "tags": [],
            "needs_background": "light"
          }
        }
      ]
    },
    {
      "cell_type": "markdown",
      "metadata": {
        "id": "dRa9CWs8S2AZ"
      },
      "source": [
        "height ความสูง  เอาแค่ columns แรกมา"
      ]
    },
    {
      "cell_type": "markdown",
      "metadata": {
        "id": "1gBYLmmlEqxe"
      },
      "source": [
        "#Exam 3"
      ]
    },
    {
      "cell_type": "markdown",
      "metadata": {
        "id": "JaT25-tnEtnB"
      },
      "source": [
        "ทำ Factor Analysis ข้อมูล Fifa 2018 https://drive.google.com/file/d/1UORRKWMb8GCN455eJE_n9MvBHupnSVwv/view?usp=sharing"
      ]
    },
    {
      "cell_type": "markdown",
      "metadata": {
        "id": "aaDq_8vQF31L"
      },
      "source": [
        "load data \n"
      ]
    },
    {
      "cell_type": "code",
      "metadata": {
        "id": "g_PXbgCNS5jU"
      },
      "source": [
        "import pandas as pd\n"
      ],
      "execution_count": 34,
      "outputs": []
    },
    {
      "cell_type": "code",
      "metadata": {
        "id": "b7yEbjcoF-YL",
        "colab": {
          "base_uri": "https://localhost:8080/",
          "height": 791
        },
        "outputId": "7ad20120-8c12-457b-b8f8-fd7087592c6c"
      },
      "source": [
        "FIFA_data = pd.read_csv('FIFA 2018 Statistics.csv')\n",
        "FIFA_data"
      ],
      "execution_count": 35,
      "outputs": [
        {
          "output_type": "execute_result",
          "data": {
            "text/html": [
              "<div>\n",
              "<style scoped>\n",
              "    .dataframe tbody tr th:only-of-type {\n",
              "        vertical-align: middle;\n",
              "    }\n",
              "\n",
              "    .dataframe tbody tr th {\n",
              "        vertical-align: top;\n",
              "    }\n",
              "\n",
              "    .dataframe thead th {\n",
              "        text-align: right;\n",
              "    }\n",
              "</style>\n",
              "<table border=\"1\" class=\"dataframe\">\n",
              "  <thead>\n",
              "    <tr style=\"text-align: right;\">\n",
              "      <th></th>\n",
              "      <th>Date</th>\n",
              "      <th>Team</th>\n",
              "      <th>Opponent</th>\n",
              "      <th>Goal Scored</th>\n",
              "      <th>Ball Possession %</th>\n",
              "      <th>Attempts</th>\n",
              "      <th>On-Target</th>\n",
              "      <th>Off-Target</th>\n",
              "      <th>Blocked</th>\n",
              "      <th>Corners</th>\n",
              "      <th>Offsides</th>\n",
              "      <th>Free Kicks</th>\n",
              "      <th>Saves</th>\n",
              "      <th>Pass Accuracy %</th>\n",
              "      <th>Passes</th>\n",
              "      <th>Distance Covered (Kms)</th>\n",
              "      <th>Fouls Committed</th>\n",
              "      <th>Yellow Card</th>\n",
              "      <th>Yellow &amp; Red</th>\n",
              "      <th>Red</th>\n",
              "      <th>Man of the Match</th>\n",
              "      <th>1st Goal</th>\n",
              "      <th>Round</th>\n",
              "      <th>PSO</th>\n",
              "      <th>Goals in PSO</th>\n",
              "      <th>Own goals</th>\n",
              "      <th>Own goal Time</th>\n",
              "    </tr>\n",
              "  </thead>\n",
              "  <tbody>\n",
              "    <tr>\n",
              "      <th>0</th>\n",
              "      <td>14-06-2018</td>\n",
              "      <td>Russia</td>\n",
              "      <td>Saudi Arabia</td>\n",
              "      <td>5</td>\n",
              "      <td>40</td>\n",
              "      <td>13</td>\n",
              "      <td>7</td>\n",
              "      <td>3</td>\n",
              "      <td>3</td>\n",
              "      <td>6</td>\n",
              "      <td>3</td>\n",
              "      <td>11</td>\n",
              "      <td>0</td>\n",
              "      <td>78</td>\n",
              "      <td>306</td>\n",
              "      <td>118</td>\n",
              "      <td>22</td>\n",
              "      <td>0</td>\n",
              "      <td>0</td>\n",
              "      <td>0</td>\n",
              "      <td>Yes</td>\n",
              "      <td>12.0</td>\n",
              "      <td>Group Stage</td>\n",
              "      <td>No</td>\n",
              "      <td>0</td>\n",
              "      <td>NaN</td>\n",
              "      <td>NaN</td>\n",
              "    </tr>\n",
              "    <tr>\n",
              "      <th>1</th>\n",
              "      <td>14-06-2018</td>\n",
              "      <td>Saudi Arabia</td>\n",
              "      <td>Russia</td>\n",
              "      <td>0</td>\n",
              "      <td>60</td>\n",
              "      <td>6</td>\n",
              "      <td>0</td>\n",
              "      <td>3</td>\n",
              "      <td>3</td>\n",
              "      <td>2</td>\n",
              "      <td>1</td>\n",
              "      <td>25</td>\n",
              "      <td>2</td>\n",
              "      <td>86</td>\n",
              "      <td>511</td>\n",
              "      <td>105</td>\n",
              "      <td>10</td>\n",
              "      <td>0</td>\n",
              "      <td>0</td>\n",
              "      <td>0</td>\n",
              "      <td>No</td>\n",
              "      <td>NaN</td>\n",
              "      <td>Group Stage</td>\n",
              "      <td>No</td>\n",
              "      <td>0</td>\n",
              "      <td>NaN</td>\n",
              "      <td>NaN</td>\n",
              "    </tr>\n",
              "    <tr>\n",
              "      <th>2</th>\n",
              "      <td>15-06-2018</td>\n",
              "      <td>Egypt</td>\n",
              "      <td>Uruguay</td>\n",
              "      <td>0</td>\n",
              "      <td>43</td>\n",
              "      <td>8</td>\n",
              "      <td>3</td>\n",
              "      <td>3</td>\n",
              "      <td>2</td>\n",
              "      <td>0</td>\n",
              "      <td>1</td>\n",
              "      <td>7</td>\n",
              "      <td>3</td>\n",
              "      <td>78</td>\n",
              "      <td>395</td>\n",
              "      <td>112</td>\n",
              "      <td>12</td>\n",
              "      <td>2</td>\n",
              "      <td>0</td>\n",
              "      <td>0</td>\n",
              "      <td>No</td>\n",
              "      <td>NaN</td>\n",
              "      <td>Group Stage</td>\n",
              "      <td>No</td>\n",
              "      <td>0</td>\n",
              "      <td>NaN</td>\n",
              "      <td>NaN</td>\n",
              "    </tr>\n",
              "    <tr>\n",
              "      <th>3</th>\n",
              "      <td>15-06-2018</td>\n",
              "      <td>Uruguay</td>\n",
              "      <td>Egypt</td>\n",
              "      <td>1</td>\n",
              "      <td>57</td>\n",
              "      <td>14</td>\n",
              "      <td>4</td>\n",
              "      <td>6</td>\n",
              "      <td>4</td>\n",
              "      <td>5</td>\n",
              "      <td>1</td>\n",
              "      <td>13</td>\n",
              "      <td>3</td>\n",
              "      <td>86</td>\n",
              "      <td>589</td>\n",
              "      <td>111</td>\n",
              "      <td>6</td>\n",
              "      <td>0</td>\n",
              "      <td>0</td>\n",
              "      <td>0</td>\n",
              "      <td>Yes</td>\n",
              "      <td>89.0</td>\n",
              "      <td>Group Stage</td>\n",
              "      <td>No</td>\n",
              "      <td>0</td>\n",
              "      <td>NaN</td>\n",
              "      <td>NaN</td>\n",
              "    </tr>\n",
              "    <tr>\n",
              "      <th>4</th>\n",
              "      <td>15-06-2018</td>\n",
              "      <td>Morocco</td>\n",
              "      <td>Iran</td>\n",
              "      <td>0</td>\n",
              "      <td>64</td>\n",
              "      <td>13</td>\n",
              "      <td>3</td>\n",
              "      <td>6</td>\n",
              "      <td>4</td>\n",
              "      <td>5</td>\n",
              "      <td>0</td>\n",
              "      <td>14</td>\n",
              "      <td>2</td>\n",
              "      <td>86</td>\n",
              "      <td>433</td>\n",
              "      <td>101</td>\n",
              "      <td>22</td>\n",
              "      <td>1</td>\n",
              "      <td>0</td>\n",
              "      <td>0</td>\n",
              "      <td>No</td>\n",
              "      <td>NaN</td>\n",
              "      <td>Group Stage</td>\n",
              "      <td>No</td>\n",
              "      <td>0</td>\n",
              "      <td>1.0</td>\n",
              "      <td>90.0</td>\n",
              "    </tr>\n",
              "    <tr>\n",
              "      <th>...</th>\n",
              "      <td>...</td>\n",
              "      <td>...</td>\n",
              "      <td>...</td>\n",
              "      <td>...</td>\n",
              "      <td>...</td>\n",
              "      <td>...</td>\n",
              "      <td>...</td>\n",
              "      <td>...</td>\n",
              "      <td>...</td>\n",
              "      <td>...</td>\n",
              "      <td>...</td>\n",
              "      <td>...</td>\n",
              "      <td>...</td>\n",
              "      <td>...</td>\n",
              "      <td>...</td>\n",
              "      <td>...</td>\n",
              "      <td>...</td>\n",
              "      <td>...</td>\n",
              "      <td>...</td>\n",
              "      <td>...</td>\n",
              "      <td>...</td>\n",
              "      <td>...</td>\n",
              "      <td>...</td>\n",
              "      <td>...</td>\n",
              "      <td>...</td>\n",
              "      <td>...</td>\n",
              "      <td>...</td>\n",
              "    </tr>\n",
              "    <tr>\n",
              "      <th>123</th>\n",
              "      <td>11-07-2018</td>\n",
              "      <td>England</td>\n",
              "      <td>Croatia</td>\n",
              "      <td>1</td>\n",
              "      <td>46</td>\n",
              "      <td>11</td>\n",
              "      <td>1</td>\n",
              "      <td>6</td>\n",
              "      <td>4</td>\n",
              "      <td>4</td>\n",
              "      <td>3</td>\n",
              "      <td>24</td>\n",
              "      <td>5</td>\n",
              "      <td>79</td>\n",
              "      <td>479</td>\n",
              "      <td>148</td>\n",
              "      <td>14</td>\n",
              "      <td>1</td>\n",
              "      <td>0</td>\n",
              "      <td>0</td>\n",
              "      <td>No</td>\n",
              "      <td>5.0</td>\n",
              "      <td>Semi- Finals</td>\n",
              "      <td>No</td>\n",
              "      <td>0</td>\n",
              "      <td>NaN</td>\n",
              "      <td>NaN</td>\n",
              "    </tr>\n",
              "    <tr>\n",
              "      <th>124</th>\n",
              "      <td>14-07-2018</td>\n",
              "      <td>Belgium</td>\n",
              "      <td>England</td>\n",
              "      <td>2</td>\n",
              "      <td>43</td>\n",
              "      <td>12</td>\n",
              "      <td>4</td>\n",
              "      <td>3</td>\n",
              "      <td>5</td>\n",
              "      <td>4</td>\n",
              "      <td>1</td>\n",
              "      <td>5</td>\n",
              "      <td>5</td>\n",
              "      <td>88</td>\n",
              "      <td>510</td>\n",
              "      <td>108</td>\n",
              "      <td>11</td>\n",
              "      <td>1</td>\n",
              "      <td>0</td>\n",
              "      <td>0</td>\n",
              "      <td>Yes</td>\n",
              "      <td>4.0</td>\n",
              "      <td>3rd Place</td>\n",
              "      <td>No</td>\n",
              "      <td>0</td>\n",
              "      <td>NaN</td>\n",
              "      <td>NaN</td>\n",
              "    </tr>\n",
              "    <tr>\n",
              "      <th>125</th>\n",
              "      <td>14-07-2018</td>\n",
              "      <td>England</td>\n",
              "      <td>Belgium</td>\n",
              "      <td>0</td>\n",
              "      <td>57</td>\n",
              "      <td>15</td>\n",
              "      <td>5</td>\n",
              "      <td>7</td>\n",
              "      <td>3</td>\n",
              "      <td>5</td>\n",
              "      <td>0</td>\n",
              "      <td>12</td>\n",
              "      <td>2</td>\n",
              "      <td>92</td>\n",
              "      <td>698</td>\n",
              "      <td>110</td>\n",
              "      <td>5</td>\n",
              "      <td>2</td>\n",
              "      <td>0</td>\n",
              "      <td>0</td>\n",
              "      <td>No</td>\n",
              "      <td>NaN</td>\n",
              "      <td>3rd Place</td>\n",
              "      <td>No</td>\n",
              "      <td>0</td>\n",
              "      <td>NaN</td>\n",
              "      <td>NaN</td>\n",
              "    </tr>\n",
              "    <tr>\n",
              "      <th>126</th>\n",
              "      <td>15-07-2018</td>\n",
              "      <td>France</td>\n",
              "      <td>Croatia</td>\n",
              "      <td>4</td>\n",
              "      <td>39</td>\n",
              "      <td>8</td>\n",
              "      <td>6</td>\n",
              "      <td>1</td>\n",
              "      <td>1</td>\n",
              "      <td>2</td>\n",
              "      <td>1</td>\n",
              "      <td>14</td>\n",
              "      <td>1</td>\n",
              "      <td>75</td>\n",
              "      <td>271</td>\n",
              "      <td>99</td>\n",
              "      <td>14</td>\n",
              "      <td>2</td>\n",
              "      <td>0</td>\n",
              "      <td>0</td>\n",
              "      <td>Yes</td>\n",
              "      <td>18.0</td>\n",
              "      <td>Final</td>\n",
              "      <td>No</td>\n",
              "      <td>0</td>\n",
              "      <td>1.0</td>\n",
              "      <td>18.0</td>\n",
              "    </tr>\n",
              "    <tr>\n",
              "      <th>127</th>\n",
              "      <td>15-07-2018</td>\n",
              "      <td>Croatia</td>\n",
              "      <td>France</td>\n",
              "      <td>2</td>\n",
              "      <td>61</td>\n",
              "      <td>15</td>\n",
              "      <td>3</td>\n",
              "      <td>8</td>\n",
              "      <td>4</td>\n",
              "      <td>6</td>\n",
              "      <td>1</td>\n",
              "      <td>15</td>\n",
              "      <td>3</td>\n",
              "      <td>83</td>\n",
              "      <td>547</td>\n",
              "      <td>100</td>\n",
              "      <td>13</td>\n",
              "      <td>1</td>\n",
              "      <td>0</td>\n",
              "      <td>0</td>\n",
              "      <td>No</td>\n",
              "      <td>28.0</td>\n",
              "      <td>Final</td>\n",
              "      <td>No</td>\n",
              "      <td>0</td>\n",
              "      <td>NaN</td>\n",
              "      <td>NaN</td>\n",
              "    </tr>\n",
              "  </tbody>\n",
              "</table>\n",
              "<p>128 rows × 27 columns</p>\n",
              "</div>"
            ],
            "text/plain": [
              "           Date          Team  ... Own goals  Own goal Time\n",
              "0    14-06-2018        Russia  ...       NaN            NaN\n",
              "1    14-06-2018  Saudi Arabia  ...       NaN            NaN\n",
              "2    15-06-2018         Egypt  ...       NaN            NaN\n",
              "3    15-06-2018       Uruguay  ...       NaN            NaN\n",
              "4    15-06-2018       Morocco  ...       1.0           90.0\n",
              "..          ...           ...  ...       ...            ...\n",
              "123  11-07-2018       England  ...       NaN            NaN\n",
              "124  14-07-2018       Belgium  ...       NaN            NaN\n",
              "125  14-07-2018       England  ...       NaN            NaN\n",
              "126  15-07-2018        France  ...       1.0           18.0\n",
              "127  15-07-2018       Croatia  ...       NaN            NaN\n",
              "\n",
              "[128 rows x 27 columns]"
            ]
          },
          "metadata": {
            "tags": []
          },
          "execution_count": 35
        }
      ]
    },
    {
      "cell_type": "code",
      "metadata": {
        "colab": {
          "base_uri": "https://localhost:8080/"
        },
        "id": "WkGUa36tRnlu",
        "outputId": "33e13165-2354-4713-fc41-3dbe421e3b9a"
      },
      "source": [
        "FIFA_data.shape #ดูขนาดของ FIFA"
      ],
      "execution_count": 36,
      "outputs": [
        {
          "output_type": "execute_result",
          "data": {
            "text/plain": [
              "(128, 27)"
            ]
          },
          "metadata": {
            "tags": []
          },
          "execution_count": 36
        }
      ]
    },
    {
      "cell_type": "markdown",
      "metadata": {
        "id": "T1jaaeWIGQ9h"
      },
      "source": [
        "##การทำ Factor analysis"
      ]
    },
    {
      "cell_type": "code",
      "metadata": {
        "colab": {
          "base_uri": "https://localhost:8080/"
        },
        "id": "8JqpC5PEwYCO",
        "outputId": "577ce341-a367-478c-8846-e1309bef7ab6"
      },
      "source": [
        "!pip install factor_analyzer #ถ้าเราใช้ libary ที่ไม่ได้มีคนใช้บ่อย จะต้องติดตั้งเอง"
      ],
      "execution_count": 45,
      "outputs": [
        {
          "output_type": "stream",
          "text": [
            "Requirement already satisfied: factor_analyzer in /usr/local/lib/python3.7/dist-packages (0.3.2)\n",
            "Requirement already satisfied: scipy in /usr/local/lib/python3.7/dist-packages (from factor_analyzer) (1.4.1)\n",
            "Requirement already satisfied: scikit-learn in /usr/local/lib/python3.7/dist-packages (from factor_analyzer) (0.22.2.post1)\n",
            "Requirement already satisfied: numpy in /usr/local/lib/python3.7/dist-packages (from factor_analyzer) (1.19.5)\n",
            "Requirement already satisfied: pandas in /usr/local/lib/python3.7/dist-packages (from factor_analyzer) (1.1.5)\n",
            "Requirement already satisfied: joblib>=0.11 in /usr/local/lib/python3.7/dist-packages (from scikit-learn->factor_analyzer) (1.0.1)\n",
            "Requirement already satisfied: pytz>=2017.2 in /usr/local/lib/python3.7/dist-packages (from pandas->factor_analyzer) (2018.9)\n",
            "Requirement already satisfied: python-dateutil>=2.7.3 in /usr/local/lib/python3.7/dist-packages (from pandas->factor_analyzer) (2.8.1)\n",
            "Requirement already satisfied: six>=1.5 in /usr/local/lib/python3.7/dist-packages (from python-dateutil>=2.7.3->pandas->factor_analyzer) (1.15.0)\n"
          ],
          "name": "stdout"
        }
      ]
    },
    {
      "cell_type": "code",
      "metadata": {
        "id": "9plj8aUsGcU_"
      },
      "source": [
        "from factor_analyzer import FactorAnalyzer\n",
        "import matplotlib.pyplot as plt #plot graph"
      ],
      "execution_count": 37,
      "outputs": []
    },
    {
      "cell_type": "markdown",
      "metadata": {
        "id": "MAooAfQRH1DR"
      },
      "source": [
        "#เลือกข้อมูลมาเฉพาะ Goal Scored ถึง Red ด้วยคำสั่ง iloc"
      ]
    },
    {
      "cell_type": "code",
      "metadata": {
        "id": "tyCkp-fINYDN",
        "colab": {
          "base_uri": "https://localhost:8080/",
          "height": 455
        },
        "outputId": "3924a5a5-e4d2-486e-e821-7d82a061b3ef"
      },
      "source": [
        "FIFA_data_dropped= FIFA_data.iloc[:,3:-7]#นับย้อนหลัง ตัวหลังสุดคือ -1\n",
        "FIFA_data_dropped #  : เอาทุกแถว ตั้งแต่แถวที่ 3 ถึง -7"
      ],
      "execution_count": 38,
      "outputs": [
        {
          "output_type": "execute_result",
          "data": {
            "text/html": [
              "<div>\n",
              "<style scoped>\n",
              "    .dataframe tbody tr th:only-of-type {\n",
              "        vertical-align: middle;\n",
              "    }\n",
              "\n",
              "    .dataframe tbody tr th {\n",
              "        vertical-align: top;\n",
              "    }\n",
              "\n",
              "    .dataframe thead th {\n",
              "        text-align: right;\n",
              "    }\n",
              "</style>\n",
              "<table border=\"1\" class=\"dataframe\">\n",
              "  <thead>\n",
              "    <tr style=\"text-align: right;\">\n",
              "      <th></th>\n",
              "      <th>Goal Scored</th>\n",
              "      <th>Ball Possession %</th>\n",
              "      <th>Attempts</th>\n",
              "      <th>On-Target</th>\n",
              "      <th>Off-Target</th>\n",
              "      <th>Blocked</th>\n",
              "      <th>Corners</th>\n",
              "      <th>Offsides</th>\n",
              "      <th>Free Kicks</th>\n",
              "      <th>Saves</th>\n",
              "      <th>Pass Accuracy %</th>\n",
              "      <th>Passes</th>\n",
              "      <th>Distance Covered (Kms)</th>\n",
              "      <th>Fouls Committed</th>\n",
              "      <th>Yellow Card</th>\n",
              "      <th>Yellow &amp; Red</th>\n",
              "      <th>Red</th>\n",
              "    </tr>\n",
              "  </thead>\n",
              "  <tbody>\n",
              "    <tr>\n",
              "      <th>0</th>\n",
              "      <td>5</td>\n",
              "      <td>40</td>\n",
              "      <td>13</td>\n",
              "      <td>7</td>\n",
              "      <td>3</td>\n",
              "      <td>3</td>\n",
              "      <td>6</td>\n",
              "      <td>3</td>\n",
              "      <td>11</td>\n",
              "      <td>0</td>\n",
              "      <td>78</td>\n",
              "      <td>306</td>\n",
              "      <td>118</td>\n",
              "      <td>22</td>\n",
              "      <td>0</td>\n",
              "      <td>0</td>\n",
              "      <td>0</td>\n",
              "    </tr>\n",
              "    <tr>\n",
              "      <th>1</th>\n",
              "      <td>0</td>\n",
              "      <td>60</td>\n",
              "      <td>6</td>\n",
              "      <td>0</td>\n",
              "      <td>3</td>\n",
              "      <td>3</td>\n",
              "      <td>2</td>\n",
              "      <td>1</td>\n",
              "      <td>25</td>\n",
              "      <td>2</td>\n",
              "      <td>86</td>\n",
              "      <td>511</td>\n",
              "      <td>105</td>\n",
              "      <td>10</td>\n",
              "      <td>0</td>\n",
              "      <td>0</td>\n",
              "      <td>0</td>\n",
              "    </tr>\n",
              "    <tr>\n",
              "      <th>2</th>\n",
              "      <td>0</td>\n",
              "      <td>43</td>\n",
              "      <td>8</td>\n",
              "      <td>3</td>\n",
              "      <td>3</td>\n",
              "      <td>2</td>\n",
              "      <td>0</td>\n",
              "      <td>1</td>\n",
              "      <td>7</td>\n",
              "      <td>3</td>\n",
              "      <td>78</td>\n",
              "      <td>395</td>\n",
              "      <td>112</td>\n",
              "      <td>12</td>\n",
              "      <td>2</td>\n",
              "      <td>0</td>\n",
              "      <td>0</td>\n",
              "    </tr>\n",
              "    <tr>\n",
              "      <th>3</th>\n",
              "      <td>1</td>\n",
              "      <td>57</td>\n",
              "      <td>14</td>\n",
              "      <td>4</td>\n",
              "      <td>6</td>\n",
              "      <td>4</td>\n",
              "      <td>5</td>\n",
              "      <td>1</td>\n",
              "      <td>13</td>\n",
              "      <td>3</td>\n",
              "      <td>86</td>\n",
              "      <td>589</td>\n",
              "      <td>111</td>\n",
              "      <td>6</td>\n",
              "      <td>0</td>\n",
              "      <td>0</td>\n",
              "      <td>0</td>\n",
              "    </tr>\n",
              "    <tr>\n",
              "      <th>4</th>\n",
              "      <td>0</td>\n",
              "      <td>64</td>\n",
              "      <td>13</td>\n",
              "      <td>3</td>\n",
              "      <td>6</td>\n",
              "      <td>4</td>\n",
              "      <td>5</td>\n",
              "      <td>0</td>\n",
              "      <td>14</td>\n",
              "      <td>2</td>\n",
              "      <td>86</td>\n",
              "      <td>433</td>\n",
              "      <td>101</td>\n",
              "      <td>22</td>\n",
              "      <td>1</td>\n",
              "      <td>0</td>\n",
              "      <td>0</td>\n",
              "    </tr>\n",
              "    <tr>\n",
              "      <th>...</th>\n",
              "      <td>...</td>\n",
              "      <td>...</td>\n",
              "      <td>...</td>\n",
              "      <td>...</td>\n",
              "      <td>...</td>\n",
              "      <td>...</td>\n",
              "      <td>...</td>\n",
              "      <td>...</td>\n",
              "      <td>...</td>\n",
              "      <td>...</td>\n",
              "      <td>...</td>\n",
              "      <td>...</td>\n",
              "      <td>...</td>\n",
              "      <td>...</td>\n",
              "      <td>...</td>\n",
              "      <td>...</td>\n",
              "      <td>...</td>\n",
              "    </tr>\n",
              "    <tr>\n",
              "      <th>123</th>\n",
              "      <td>1</td>\n",
              "      <td>46</td>\n",
              "      <td>11</td>\n",
              "      <td>1</td>\n",
              "      <td>6</td>\n",
              "      <td>4</td>\n",
              "      <td>4</td>\n",
              "      <td>3</td>\n",
              "      <td>24</td>\n",
              "      <td>5</td>\n",
              "      <td>79</td>\n",
              "      <td>479</td>\n",
              "      <td>148</td>\n",
              "      <td>14</td>\n",
              "      <td>1</td>\n",
              "      <td>0</td>\n",
              "      <td>0</td>\n",
              "    </tr>\n",
              "    <tr>\n",
              "      <th>124</th>\n",
              "      <td>2</td>\n",
              "      <td>43</td>\n",
              "      <td>12</td>\n",
              "      <td>4</td>\n",
              "      <td>3</td>\n",
              "      <td>5</td>\n",
              "      <td>4</td>\n",
              "      <td>1</td>\n",
              "      <td>5</td>\n",
              "      <td>5</td>\n",
              "      <td>88</td>\n",
              "      <td>510</td>\n",
              "      <td>108</td>\n",
              "      <td>11</td>\n",
              "      <td>1</td>\n",
              "      <td>0</td>\n",
              "      <td>0</td>\n",
              "    </tr>\n",
              "    <tr>\n",
              "      <th>125</th>\n",
              "      <td>0</td>\n",
              "      <td>57</td>\n",
              "      <td>15</td>\n",
              "      <td>5</td>\n",
              "      <td>7</td>\n",
              "      <td>3</td>\n",
              "      <td>5</td>\n",
              "      <td>0</td>\n",
              "      <td>12</td>\n",
              "      <td>2</td>\n",
              "      <td>92</td>\n",
              "      <td>698</td>\n",
              "      <td>110</td>\n",
              "      <td>5</td>\n",
              "      <td>2</td>\n",
              "      <td>0</td>\n",
              "      <td>0</td>\n",
              "    </tr>\n",
              "    <tr>\n",
              "      <th>126</th>\n",
              "      <td>4</td>\n",
              "      <td>39</td>\n",
              "      <td>8</td>\n",
              "      <td>6</td>\n",
              "      <td>1</td>\n",
              "      <td>1</td>\n",
              "      <td>2</td>\n",
              "      <td>1</td>\n",
              "      <td>14</td>\n",
              "      <td>1</td>\n",
              "      <td>75</td>\n",
              "      <td>271</td>\n",
              "      <td>99</td>\n",
              "      <td>14</td>\n",
              "      <td>2</td>\n",
              "      <td>0</td>\n",
              "      <td>0</td>\n",
              "    </tr>\n",
              "    <tr>\n",
              "      <th>127</th>\n",
              "      <td>2</td>\n",
              "      <td>61</td>\n",
              "      <td>15</td>\n",
              "      <td>3</td>\n",
              "      <td>8</td>\n",
              "      <td>4</td>\n",
              "      <td>6</td>\n",
              "      <td>1</td>\n",
              "      <td>15</td>\n",
              "      <td>3</td>\n",
              "      <td>83</td>\n",
              "      <td>547</td>\n",
              "      <td>100</td>\n",
              "      <td>13</td>\n",
              "      <td>1</td>\n",
              "      <td>0</td>\n",
              "      <td>0</td>\n",
              "    </tr>\n",
              "  </tbody>\n",
              "</table>\n",
              "<p>128 rows × 17 columns</p>\n",
              "</div>"
            ],
            "text/plain": [
              "     Goal Scored  Ball Possession %  Attempts  ...  Yellow Card  Yellow & Red  Red\n",
              "0              5                 40        13  ...            0             0    0\n",
              "1              0                 60         6  ...            0             0    0\n",
              "2              0                 43         8  ...            2             0    0\n",
              "3              1                 57        14  ...            0             0    0\n",
              "4              0                 64        13  ...            1             0    0\n",
              "..           ...                ...       ...  ...          ...           ...  ...\n",
              "123            1                 46        11  ...            1             0    0\n",
              "124            2                 43        12  ...            1             0    0\n",
              "125            0                 57        15  ...            2             0    0\n",
              "126            4                 39         8  ...            2             0    0\n",
              "127            2                 61        15  ...            1             0    0\n",
              "\n",
              "[128 rows x 17 columns]"
            ]
          },
          "metadata": {
            "tags": []
          },
          "execution_count": 38
        }
      ]
    },
    {
      "cell_type": "markdown",
      "metadata": {
        "id": "U9ki8VQMRGTi"
      },
      "source": [
        "1.There are no outliers in data. --outliers ทำให้ข้อมูลผิดพลาด ต้องไม่มี\n",
        " .dropna() คือการลบค่าว่างออกไป"
      ]
    },
    {
      "cell_type": "code",
      "metadata": {
        "id": "E-TXdhX7Nc4T"
      },
      "source": [
        "FIFA_data_dropped = FIFA_data_dropped.dropna()"
      ],
      "execution_count": 39,
      "outputs": []
    },
    {
      "cell_type": "code",
      "metadata": {
        "colab": {
          "base_uri": "https://localhost:8080/"
        },
        "id": "HRXBBg68RhAp",
        "outputId": "9ef43ab5-2f07-411f-93c9-3f7f9ca16327"
      },
      "source": [
        "FIFA_data_dropped.shape #ลบออกไป 10 columns"
      ],
      "execution_count": 40,
      "outputs": [
        {
          "output_type": "execute_result",
          "data": {
            "text/plain": [
              "(128, 17)"
            ]
          },
          "metadata": {
            "tags": []
          },
          "execution_count": 40
        }
      ]
    },
    {
      "cell_type": "markdown",
      "metadata": {
        "id": "veY5G-eUTPE4"
      },
      "source": [
        "#Bartlett’s test"
      ]
    },
    {
      "cell_type": "markdown",
      "metadata": {
        "id": "_gxMNjbTTIvP"
      },
      "source": [
        "There should not be perfect multicollinearity.----ไม่ควรมี กราฟเป็นเส้นตรง ค่า correlation = 1 ถ้ามีคือซ้ำต้องตัด data ออก"
      ]
    },
    {
      "cell_type": "code",
      "metadata": {
        "colab": {
          "base_uri": "https://localhost:8080/"
        },
        "id": "hc3ggiChTUHn",
        "outputId": "c7ef4a59-be64-43d8-fee7-baf2c344176c"
      },
      "source": [
        "from factor_analyzer.factor_analyzer import calculate_bartlett_sphericity #p-valueคือตัวหลัง ได้ = 2.713580160466225e-189   ไม่เท่ากับ 0 มี perfect\n",
        "\n",
        "chi_square_value,p_value=calculate_bartlett_sphericity(FIFA_data_dropped)\n",
        "\n",
        "chi_square_value, p_value"
      ],
      "execution_count": 46,
      "outputs": [
        {
          "output_type": "execute_result",
          "data": {
            "text/plain": [
              "(1299.3697851171412, 2.713580160466225e-189)"
            ]
          },
          "metadata": {
            "tags": []
          },
          "execution_count": 46
        }
      ]
    },
    {
      "cell_type": "markdown",
      "metadata": {
        "id": "5IXaMZEfT9ld"
      },
      "source": [
        "#Kaiser-Meyer-Olkin (KMO) Test"
      ]
    },
    {
      "cell_type": "markdown",
      "metadata": {
        "id": "93QYsy77UBOT"
      },
      "source": [
        "ถ้าค่า KMO มีมากกว่า 0.6 แปลว่าข้อมูลเหมาะสมที่จะนำไปทำ Factor Analysis"
      ]
    },
    {
      "cell_type": "code",
      "metadata": {
        "id": "SVr-oE_cTZe-",
        "colab": {
          "base_uri": "https://localhost:8080/"
        },
        "outputId": "44efd687-6755-4cfe-bda7-eeca96112b9e"
      },
      "source": [
        "from factor_analyzer.factor_analyzer import calculate_kmo #ค่า KMO มีเท่ากับกว่า 0.6 แปลว่าข้อมูลเหมาะสมที่จะนำไปทำ Factor Analysis\n",
        "\n",
        "kmo_all,kmo_model=calculate_kmo(FIFA_data_dropped)\n",
        "\n",
        "kmo_model"
      ],
      "execution_count": 47,
      "outputs": [
        {
          "output_type": "execute_result",
          "data": {
            "text/plain": [
              "0.5594556344508279"
            ]
          },
          "metadata": {
            "tags": []
          },
          "execution_count": 47
        }
      ]
    },
    {
      "cell_type": "markdown",
      "metadata": {
        "id": "NlvrROv8WH2l"
      },
      "source": [
        "#Factor analysis"
      ]
    },
    {
      "cell_type": "markdown",
      "metadata": {
        "id": "iLBp2ofMw7_o"
      },
      "source": [
        "##import"
      ]
    },
    {
      "cell_type": "code",
      "metadata": {
        "id": "wsR4IVGDWHEt"
      },
      "source": [
        "from factor_analyzer import FactorAnalyzer"
      ],
      "execution_count": 48,
      "outputs": []
    },
    {
      "cell_type": "markdown",
      "metadata": {
        "id": "zJqyRN3dxQBp"
      },
      "source": [
        "##Define"
      ]
    },
    {
      "cell_type": "code",
      "metadata": {
        "id": "QS90hcTuUJTa"
      },
      "source": [
        "fa= FactorAnalyzer(n_factors= 10) #กำหนดตัวแปรให้ factor  = 10"
      ],
      "execution_count": 116,
      "outputs": []
    },
    {
      "cell_type": "markdown",
      "metadata": {
        "id": "Ttbn1vB-xh5d"
      },
      "source": [
        "##Fit - Transform"
      ]
    },
    {
      "cell_type": "code",
      "metadata": {
        "id": "yBAvNrd_xYb6"
      },
      "source": [
        "data_fa = fa.fit_transform(FIFA_data_dropped)"
      ],
      "execution_count": 117,
      "outputs": []
    },
    {
      "cell_type": "code",
      "metadata": {
        "id": "NpLB-eaYx0rD",
        "outputId": "5bbcbccc-374f-4eeb-b876-50ee28abc05e",
        "colab": {
          "base_uri": "https://localhost:8080/"
        }
      },
      "source": [
        "data_fa.shape #ดูขนาด"
      ],
      "execution_count": 122,
      "outputs": [
        {
          "output_type": "execute_result",
          "data": {
            "text/plain": [
              "(128, 10)"
            ]
          },
          "metadata": {
            "tags": []
          },
          "execution_count": 122
        }
      ]
    },
    {
      "cell_type": "markdown",
      "metadata": {
        "id": "Sm12IuHayfNF"
      },
      "source": [
        "##วิธีตัดสินว่าเราจะลดเหลือกี่ dimension (มี factors ทั้งหมดกี่ตัว)"
      ]
    },
    {
      "cell_type": "code",
      "metadata": {
        "id": "K_nG-0tMyjvi"
      },
      "source": [
        "ev,v = fa.get_eigenvalues()"
      ],
      "execution_count": 121,
      "outputs": []
    },
    {
      "cell_type": "markdown",
      "metadata": {
        "id": "qLrbK8DWyo75"
      },
      "source": [
        "##ใช้ eigen values"
      ]
    },
    {
      "cell_type": "markdown",
      "metadata": {
        "id": "7enjJsjey8Xh"
      },
      "source": [
        "\n",
        "จะ plot graph Scree plot ได้ต้องหา eigenvalues ก่อนเพื่อนำไป plot"
      ]
    },
    {
      "cell_type": "code",
      "metadata": {
        "id": "t1fThg1fzJDX",
        "outputId": "77284115-11fa-4561-cd60-889f143af113",
        "colab": {
          "base_uri": "https://localhost:8080/"
        }
      },
      "source": [
        "ev #eigen values มากกว่า 1 แสดงว่าเราเลือกตัวนั้น"
      ],
      "execution_count": 123,
      "outputs": [
        {
          "output_type": "execute_result",
          "data": {
            "text/plain": [
              "array([4.93533676, 1.66110682, 1.45898601, 1.31857945, 1.27991548,\n",
              "       1.1607222 , 0.89822418, 0.80740568, 0.78874612, 0.65948826,\n",
              "       0.56563441, 0.48116939, 0.38549929, 0.29659929, 0.22859409,\n",
              "       0.06848785, 0.00550471])"
            ]
          },
          "metadata": {
            "tags": []
          },
          "execution_count": 123
        }
      ]
    },
    {
      "cell_type": "markdown",
      "metadata": {
        "id": "LZrFOnKMzJSb"
      },
      "source": [
        "##screen plot"
      ]
    },
    {
      "cell_type": "markdown",
      "metadata": {
        "id": "vm0WTwzWzYwh"
      },
      "source": [
        "ค่าจะตัด eigenvalue ที่ 1 ตัวไหนเกิน 1แสดงว่า eigenvalue มากกว่า 1สามารถ ใช้งานได้"
      ]
    },
    {
      "cell_type": "code",
      "metadata": {
        "id": "85p4sn4t3RAN",
        "outputId": "3cf5d41e-400d-4090-fe2c-f0b6ea7510c9",
        "colab": {
          "base_uri": "https://localhost:8080/",
          "height": 893
        }
      },
      "source": [
        "# Create scree plot using matplotlib\n",
        "plt.plot(range(1,FIFA_data_dropped.shape[1]+1),ev,'bo-') #plot ตั้งแต่ factor ที่มีขนาดมากที่สุด ลดลงมาเรื่อยๆ\n",
        "plt.plot([0,FIFA_data_dropped.shape[1]+1],[1,1],'y*-')\n",
        "plt.title('Scree Plot')\n",
        "plt.xlabel('Factors')\n",
        "plt.ylabel('Eigenvalue')\n",
        "plt.grid()\n",
        "plt.show()"
      ],
      "execution_count": 125,
      "outputs": [
        {
          "output_type": "display_data",
          "data": {
            "image/png": "[encoded data removed]",
            "text/plain": [
              "<Figure size 1080x1080 with 1 Axes>"
            ]
          },
          "metadata": {
            "tags": [],
            "needs_background": "light"
          }
        }
      ]
    },
    {
      "cell_type": "code",
      "metadata": {
        "id": "WiPiB9ER0VQ3",
        "outputId": "5f23c352-0a2c-4480-bbee-b54e8979ede9",
        "colab": {
          "base_uri": "https://localhost:8080/"
        }
      },
      "source": [
        "data_fa [:,:6]  #ดู6 ตัวแรก ที่มีค่ามากกว่า 1"
      ],
      "execution_count": 126,
      "outputs": [
        {
          "output_type": "execute_result",
          "data": {
            "text/plain": [
              "array([[-1.14061137e+00,  1.05033795e+00,  2.79854567e+00,\n",
              "         3.57574560e-01, -5.95152711e-02, -7.48334076e-02],\n",
              "       [ 5.33831171e-01, -1.78150280e-01, -1.10088651e+00,\n",
              "         1.81432000e-02, -8.36944321e-01, -7.31531607e-01],\n",
              "       [-7.29379706e-01,  3.96402498e-01, -7.02153492e-01,\n",
              "        -2.77221903e-01,  1.34345254e-01, -5.61356514e-01],\n",
              "       [ 7.08580342e-01,  3.36178613e-01, -3.31529441e-01,\n",
              "        -2.60518967e-01, -1.38667315e+00,  1.34916077e-01],\n",
              "       [ 3.25530467e-01, -3.71841487e-01, -4.14431700e-01,\n",
              "         3.27492853e-01,  2.50366459e-01,  2.57255932e-01],\n",
              "       [-1.34130209e+00, -5.34562069e-01,  2.52429472e-01,\n",
              "        -5.22235915e-01,  1.05852627e+00, -1.07428697e+00],\n",
              "       [-5.46867894e-01, -4.92844282e-01,  9.46711298e-01,\n",
              "        -3.59877314e-01, -1.85391071e-01, -3.25465436e-01],\n",
              "       [ 1.67488741e+00, -4.32704892e-01,  7.61605381e-01,\n",
              "        -3.70473849e-01, -8.35201718e-01, -5.88310671e-01],\n",
              "       [ 2.62530209e-01, -3.24159295e-01,  6.58987216e-01,\n",
              "        -8.77493871e-02, -1.29974193e-01, -2.53944852e-01],\n",
              "       [-4.24340037e-01,  2.94944349e-01,  4.29409238e-02,\n",
              "        -1.64381947e-02,  1.25250458e+00, -1.11481292e+00],\n",
              "       [ 1.95876399e+00, -4.46975965e-01, -3.61523432e-01,\n",
              "         3.78163388e-02, -1.35874423e+00,  2.54926969e+00],\n",
              "       [-2.08882967e+00, -1.88315017e-02, -9.70957261e-02,\n",
              "        -2.16254041e-01, -6.44227818e-01, -7.44602446e-01],\n",
              "       [-1.13023467e-01, -1.86239106e-01, -2.97895618e-01,\n",
              "        -2.22964741e-01, -5.62470690e-01,  4.57419585e-01],\n",
              "       [-5.79705484e-01,  2.67017734e-01,  1.84093790e-01,\n",
              "         2.16481968e-01,  5.45634263e-01, -4.35644718e-01],\n",
              "       [ 1.91713667e-01, -1.68566869e-01,  2.97003398e-01,\n",
              "         7.05696188e-02,  5.23795988e-01, -5.16332969e-01],\n",
              "       [-2.72239288e-01, -4.89047675e-01, -9.80538749e-01,\n",
              "        -3.10055851e-02, -2.27316336e-02,  1.01966276e+00],\n",
              "       [-1.23346248e-01, -3.64285360e-02, -6.51761097e-01,\n",
              "         1.85936300e-01,  5.65122914e-01,  6.06494933e-02],\n",
              "       [-2.97922468e-01,  1.96200209e-01,  3.88046147e-02,\n",
              "         4.47998161e-03,  3.60714543e-01, -6.48805858e-01],\n",
              "       [ 9.39499385e-01,  2.95628629e-01, -2.39799127e-01,\n",
              "        -1.51633941e-01, -3.37278747e-01,  1.55986629e+00],\n",
              "       [-1.12457695e+00, -3.95892986e-02,  4.07359193e-01,\n",
              "        -4.24913701e-01,  2.84232064e-01, -3.72874610e-01],\n",
              "       [ 5.11996719e-01, -2.72746579e-01, -3.87642085e-01,\n",
              "        -3.10369709e-01, -5.43121239e-01,  1.26838979e+00],\n",
              "       [-2.42001288e-01,  7.95623673e-02, -3.26243458e-02,\n",
              "        -1.49980559e-01,  1.03658919e+00, -1.27621926e+00],\n",
              "       [ 3.09253969e-03, -3.45964922e-01, -6.97980197e-02,\n",
              "         2.32866611e-01,  1.89502372e-01,  7.59341359e-01],\n",
              "       [-5.31938248e-01, -3.40097273e-01, -9.32193283e-01,\n",
              "         4.35478826e-01,  1.00694242e+00, -4.14036551e-01],\n",
              "       [ 9.12307220e-01, -3.62280886e-01,  1.26221663e+00,\n",
              "         8.98399815e-02,  7.65873647e-01, -3.66204217e-01],\n",
              "       [-7.74051832e-01, -6.63482792e-01, -6.54190082e-01,\n",
              "        -2.59606852e-01,  1.99538017e+00, -1.29695998e+00],\n",
              "       [-8.42058865e-01, -3.54054671e-01, -2.02329205e-01,\n",
              "        -2.30382892e-01, -6.26005287e-01, -6.77676309e-01],\n",
              "       [ 6.12123138e-01, -1.09371483e-01,  9.07193812e-01,\n",
              "        -2.16378691e-01, -6.92670363e-01, -8.06428204e-02],\n",
              "       [-5.56953139e-01, -1.25871638e+00, -6.44086390e-01,\n",
              "        -3.87320560e-02,  4.59378691e-01,  7.09651980e-01],\n",
              "       [ 8.61050269e-01, -4.97631493e-01,  4.62562434e-01,\n",
              "        -1.38999280e-01, -7.04281466e-01, -1.57426034e-01],\n",
              "       [ 6.26529608e-01,  2.32296184e-01, -1.25986637e-02,\n",
              "        -2.81543275e-01, -7.01189194e-01, -1.09311691e+00],\n",
              "       [-8.03503780e-01,  1.25630962e-02,  3.69402988e-01,\n",
              "        -1.27813348e-01,  4.16918389e-01, -5.80145626e-01],\n",
              "       [-6.40380429e-01,  7.99243147e-01,  6.77333936e-01,\n",
              "         1.29494354e-01, -2.67289507e-01, -1.32356525e-01],\n",
              "       [-1.42818154e-01,  3.95529062e-01, -6.16044825e-01,\n",
              "        -2.21118615e-01, -4.81295325e-01,  1.54688879e-01],\n",
              "       [-4.67509318e-01, -1.05180767e-01, -3.99644730e-01,\n",
              "         3.17623410e-01,  1.30423140e-01, -2.73318455e-02],\n",
              "       [ 1.75653737e-02,  2.17735238e-01, -5.48974966e-01,\n",
              "         2.06757096e-01,  2.09977718e-02, -3.48556675e-01],\n",
              "       [ 3.15334813e-01, -5.23719722e-01, -1.52798556e-01,\n",
              "        -5.94117926e-01, -1.18169362e+00, -2.39310582e-01],\n",
              "       [ 7.39953249e-01, -7.07803705e-01, -9.24387707e-01,\n",
              "        -1.83811695e-01, -1.04862701e+00, -6.02493141e-01],\n",
              "       [-1.79979304e+00, -1.09617819e-03, -1.12941806e+00,\n",
              "        -2.25645701e-01,  3.52977742e-01, -1.36898273e+00],\n",
              "       [ 2.11628106e+00, -2.04181831e-01, -9.72704032e-01,\n",
              "         1.07305207e-01, -1.10551513e+00,  1.44924200e+00],\n",
              "       [-8.35656394e-02,  3.78366851e-01,  3.44536089e-01,\n",
              "        -5.59532265e-01, -2.58114607e-01, -1.06890930e+00],\n",
              "       [ 1.67554445e-01,  5.65854288e-01, -5.73410801e-02,\n",
              "        -3.29440672e-01, -1.37895603e+00,  2.71911174e-01],\n",
              "       [-4.31196011e-01, -2.63922738e-01, -3.31075560e-01,\n",
              "        -2.31018064e-01, -1.52384039e-02, -4.65153850e-01],\n",
              "       [ 4.26784251e-01, -3.95917274e-01, -1.07862229e+00,\n",
              "        -1.26605892e-01,  6.85655665e-02, -4.84575965e-01],\n",
              "       [ 5.24250313e-01, -5.59806839e-01, -1.05679538e+00,\n",
              "         3.20892875e-01,  7.71395466e-01, -8.51484399e-02],\n",
              "       [-6.00753883e-01, -1.86765428e-01,  1.13551613e+00,\n",
              "        -1.21896544e-01,  1.68593294e+00,  2.50503912e-01],\n",
              "       [ 1.83318956e+00, -1.57671240e-01,  5.19798791e-01,\n",
              "        -9.42187282e-02, -4.68241300e-01,  8.95443947e-01],\n",
              "       [-1.48697240e+00,  1.71561363e-01, -9.57228698e-01,\n",
              "        -2.77523180e-01, -3.58786384e-01, -1.41819697e+00],\n",
              "       [ 3.65377238e-01, -5.24106434e-01,  6.28968446e-02,\n",
              "        -6.97396846e-02, -6.08868149e-01,  1.00749388e+00],\n",
              "       [-1.09152620e+00,  5.61283999e-02, -6.57002482e-01,\n",
              "        -1.59965319e-01, -9.21816620e-01, -7.77388017e-01],\n",
              "       [-1.09542449e+00,  8.74395108e-01,  9.73556213e-02,\n",
              "        -1.62571719e-01,  1.50739351e+00, -4.42463168e-01],\n",
              "       [ 6.35415106e-01,  4.82706116e-01,  3.50489795e-01,\n",
              "        -1.19064003e-02, -5.10100926e-01,  1.27616924e+00],\n",
              "       [ 1.57581188e-01, -6.04215812e-02,  3.07763687e+00,\n",
              "        -2.75020586e-01, -1.14054663e+00,  1.68321217e-01],\n",
              "       [ 2.23136719e-02, -3.96667961e-01,  4.06988694e-01,\n",
              "        -3.27718473e-01, -5.44295664e-01,  2.11199645e-01],\n",
              "       [-6.17446737e-01, -7.65246076e-01, -5.07258978e-02,\n",
              "         2.27645849e-01,  1.87431164e+00,  2.29785384e+00],\n",
              "       [ 5.93535986e-01, -7.64998678e-01,  6.65610498e-01,\n",
              "        -2.81663239e-01, -1.19858606e+00, -6.45894662e-01],\n",
              "       [ 1.39732611e+00,  6.97261955e-01,  8.39941540e-01,\n",
              "         6.86060236e+00, -1.05958904e+00,  1.52461005e+00],\n",
              "       [-1.72862350e+00,  2.01911704e-01,  5.57043095e-01,\n",
              "        -1.70623257e-01,  4.14087979e-01, -9.37271899e-01],\n",
              "       [ 1.06162060e+00, -7.06922165e-01,  2.95283291e+00,\n",
              "        -3.03852935e-01, -3.70829664e-01, -5.72988807e-01],\n",
              "       [-1.50192669e-01, -1.55123241e+00, -3.44923296e-01,\n",
              "        -7.14113642e-01,  6.39170801e-01, -9.87671984e-01],\n",
              "       [ 7.78857235e-02, -2.23185003e-01,  3.06349978e-01,\n",
              "        -1.16703547e-01, -9.67119074e-03, -7.83437821e-01],\n",
              "       [-5.88555311e-01, -3.66730275e-01,  7.84246515e-01,\n",
              "        -6.05473962e-02,  6.68451875e-01, -2.62500889e-01],\n",
              "       [-3.16410702e-01, -5.78722830e-02, -1.13397372e+00,\n",
              "         1.45245631e-01,  3.52999911e-01,  1.66888315e-01],\n",
              "       [ 3.21732327e-01,  1.52672009e-01,  5.10237481e-01,\n",
              "         3.45947646e-03, -9.73890968e-01,  3.79486718e-01],\n",
              "       [ 4.48830971e-01, -3.88736473e-01,  1.45796168e+00,\n",
              "        -1.28695541e-01, -1.39507239e-01,  2.03202577e-01],\n",
              "       [-8.29502147e-01, -3.85982135e-01, -1.07600737e-01,\n",
              "         6.43474038e+00,  1.20387736e-01, -7.96790085e-01],\n",
              "       [ 1.37378390e+00, -3.98659636e-01,  3.74432422e-01,\n",
              "        -4.53974945e-01, -1.55089855e+00,  6.41033725e-01],\n",
              "       [-7.94831176e-01, -9.14604653e-02, -2.25737999e-01,\n",
              "        -4.41660950e-01,  2.83565339e-01, -8.34691403e-01],\n",
              "       [ 1.97973549e+00, -2.41284495e-01,  2.64567506e-02,\n",
              "        -5.21037743e-01, -1.78701068e+00, -8.49313013e-01],\n",
              "       [-1.45197320e+00,  2.38758388e-01,  7.35442027e-01,\n",
              "        -4.61763467e-01,  2.66063158e+00, -8.19300630e-01],\n",
              "       [-1.58854054e+00, -1.05850495e+00, -5.46549301e-01,\n",
              "        -3.10039539e-01,  3.46240540e-01, -8.27116414e-01],\n",
              "       [ 1.52325858e+00, -1.50843663e+00, -5.98411060e-01,\n",
              "        -2.37270317e-01,  7.43290476e-01, -9.22032969e-02],\n",
              "       [-1.18054959e+00, -1.04729691e-01, -1.18777824e+00,\n",
              "         2.86327819e-03, -3.48156640e-01, -6.33798413e-01],\n",
              "       [ 1.22384029e+00, -2.48435272e-01, -7.91731754e-01,\n",
              "        -3.72516111e-01, -1.34427743e+00, -9.21404229e-01],\n",
              "       [ 6.55975463e-01, -2.59964073e-01, -1.33412295e+00,\n",
              "        -1.30906659e-01,  9.45657624e-01,  6.27101751e-01],\n",
              "       [-2.06547806e-01, -6.45976725e-01,  2.73298804e-01,\n",
              "        -9.59877395e-02,  2.18025269e-01, -1.42610096e+00],\n",
              "       [-1.36105338e+00, -6.53452759e-01,  8.07283305e-04,\n",
              "        -2.05052100e-01,  6.80096146e-01, -8.58920121e-01],\n",
              "       [ 9.91007861e-01, -5.16227104e-01,  2.96272313e-01,\n",
              "         3.03517478e-01,  7.26596253e-01, -9.94374602e-01],\n",
              "       [-8.20914259e-01, -2.06848426e-01, -2.82781605e-01,\n",
              "        -6.15477586e-02,  3.92704377e-01,  2.30500537e-01],\n",
              "       [ 6.09760014e-01, -4.34871261e-01,  7.10763005e-02,\n",
              "        -2.92338746e-01, -4.97105567e-02, -4.19572253e-02],\n",
              "       [-1.84295447e+00,  9.75226801e-01,  9.27222165e-01,\n",
              "        -2.78279676e-01,  1.42661526e+00, -5.79832108e-01],\n",
              "       [ 1.63878087e+00,  7.69762606e-01, -9.17873969e-01,\n",
              "        -1.98512713e-02, -1.56930966e+00,  2.13780201e+00],\n",
              "       [ 6.85776817e-01, -9.32938161e-01, -1.29760941e+00,\n",
              "         1.72224325e-01,  5.53126239e-01,  1.83784749e+00],\n",
              "       [-1.68383975e+00, -1.66535905e-01,  9.05808023e-01,\n",
              "        -2.47581914e-01,  1.12644221e-01, -7.27421476e-01],\n",
              "       [-3.08543709e-01,  5.16585812e-01, -1.29671803e+00,\n",
              "        -7.82763160e-02,  5.88839989e-01,  1.72782332e-01],\n",
              "       [ 1.11242937e+00, -3.07010044e-01,  2.34024042e-01,\n",
              "         7.62563610e-03, -1.36027514e+00,  1.32278618e-01],\n",
              "       [ 9.75002126e-01, -4.07626361e-01, -9.28046254e-02,\n",
              "        -1.31839534e-01,  2.81834463e-01,  1.80282790e-01],\n",
              "       [-6.87440127e-01, -2.88109821e-01,  7.37388900e-01,\n",
              "        -3.83698312e-01,  6.81586124e-01, -2.63988762e-01],\n",
              "       [ 8.73916854e-01, -2.11435076e+00, -1.31599245e+00,\n",
              "        -3.58315317e-01, -7.45847140e-01, -7.06247597e-02],\n",
              "       [ 2.94990479e-01, -2.30411743e+00, -1.03671950e+00,\n",
              "        -4.35262424e-01, -1.29960964e+00,  2.37816682e-01],\n",
              "       [-9.22049552e-01, -7.66628038e-01, -5.55659268e-01,\n",
              "        -1.54029503e-01, -1.10392865e-01, -1.05099608e+00],\n",
              "       [ 1.39252794e-01, -6.30430511e-01, -1.97550284e-01,\n",
              "         2.50973243e-01, -7.18479537e-02, -1.16636089e+00],\n",
              "       [-1.17286516e+00, -4.13556107e-01,  1.52264136e-01,\n",
              "        -2.51873781e-01,  9.65462616e-01, -9.80541470e-01],\n",
              "       [ 1.17113964e+00, -3.21611722e-02,  7.48063765e-01,\n",
              "         2.99130715e-01,  8.44339992e-01,  2.17814703e-01],\n",
              "       [ 1.58108060e-01,  1.27557942e-01, -1.02709286e+00,\n",
              "        -2.43467615e-01, -9.99956129e-01,  4.26534245e-01],\n",
              "       [ 5.20518322e-01, -1.56196961e-01, -3.66857809e-01,\n",
              "        -2.68845760e-01,  1.56573099e-01,  1.11125424e+00],\n",
              "       [-6.14869856e-01, -7.69192616e-01,  1.75272972e+00,\n",
              "        -4.05733251e-01,  1.22748188e+00, -9.42610391e-01],\n",
              "       [ 8.61613649e-01, -1.03122898e+00,  5.07555979e-01,\n",
              "         1.14571396e-01,  1.82872685e+00, -2.43353253e-02],\n",
              "       [-1.41231457e+00,  3.31067060e-02,  3.03038995e-01,\n",
              "         9.74932562e-02, -6.10893631e-01, -9.97615378e-01],\n",
              "       [ 7.97572544e-01, -9.68142225e-03, -6.24196479e-01,\n",
              "         4.48854891e-01, -4.79246698e-01,  4.63543562e+00],\n",
              "       [ 3.29394397e+00,  2.34396356e+00, -5.63396140e-01,\n",
              "        -1.51773215e-02, -1.44749132e+00,  2.13423978e+00],\n",
              "       [-2.19323128e+00,  3.21978924e+00,  1.94039349e-01,\n",
              "         1.76432344e-01,  7.92413196e-01, -4.81739315e-01],\n",
              "       [ 4.52895857e-01,  2.17162592e+00, -3.73672458e-02,\n",
              "        -1.25553483e-01, -1.47977207e+00,  1.16593762e+00],\n",
              "       [-3.45399940e-01,  2.47674515e+00,  1.73797147e-01,\n",
              "        -1.75257029e-01, -2.31714813e-01, -2.68446882e-01],\n",
              "       [-3.08215719e-02, -1.16509055e+00,  8.32022714e-01,\n",
              "        -3.95475068e-01, -3.84932029e-01,  4.76903439e-01],\n",
              "       [ 2.02566911e-01, -1.65241863e+00, -1.43983134e+00,\n",
              "         9.89727976e-02,  1.35512330e+00,  1.85813498e+00],\n",
              "       [ 9.37403220e-01,  1.86828572e-01,  1.13120531e+00,\n",
              "        -1.79472936e-01, -1.23199543e+00,  1.33673402e+00],\n",
              "       [-1.97096339e-01,  1.16787588e-01,  3.50022339e-01,\n",
              "        -2.27310411e-01, -5.68574386e-01, -1.80014683e-01],\n",
              "       [-1.33269362e+00, -4.51982253e-02, -3.09578259e-01,\n",
              "        -2.55003796e-01, -3.85366969e-01, -1.32288257e-01],\n",
              "       [ 1.06977547e+00, -3.52114526e-01, -1.62581954e+00,\n",
              "         5.28272293e-01,  1.42892540e-01,  2.68850458e+00],\n",
              "       [-3.37723546e-01,  2.48688737e+00,  1.24489405e-01,\n",
              "         8.99632758e-02,  2.67537399e+00, -1.17521617e-01],\n",
              "       [ 5.76243036e-02,  3.08550560e+00, -1.91385431e-01,\n",
              "         1.27657861e-01,  1.80165882e-01,  3.13071356e-01],\n",
              "       [-1.04449446e+00, -1.51366494e-01, -8.65664172e-01,\n",
              "         1.07613223e-01,  3.51218517e-01, -7.52499062e-01],\n",
              "       [ 4.94945157e-01, -5.63588188e-01, -4.11149556e-02,\n",
              "        -1.33691061e-01,  1.19286621e-01, -5.50170600e-01],\n",
              "       [ 8.04067144e-01, -2.45849407e-01,  1.55475749e-01,\n",
              "        -2.87176633e-02,  1.23819193e-02,  2.58501926e+00],\n",
              "       [-5.87274103e-01, -2.15448624e-01,  6.11195481e-01,\n",
              "        -1.25087462e-01,  4.27715211e-01, -5.12536455e-01],\n",
              "       [-7.47844561e-01,  6.88896229e-03, -9.65814618e-01,\n",
              "        -2.02968717e-01, -1.74775984e-03, -9.34478128e-01],\n",
              "       [ 3.64878596e-01,  2.52253435e-01, -3.76627737e-01,\n",
              "         1.24370002e-01, -6.42372730e-01,  7.79646785e-01],\n",
              "       [-1.37603116e+00,  3.58469424e+00,  1.38343384e+00,\n",
              "         7.03147076e-01,  5.50942136e-01, -5.11665066e-01],\n",
              "       [ 1.15940104e+00,  2.75079228e+00,  1.88286547e-01,\n",
              "         2.83401811e-01,  1.17983014e+00,  1.37748637e-01],\n",
              "       [-6.13844647e-01, -3.70102043e-01, -6.77554436e-02,\n",
              "        -7.16807641e-01, -2.43361137e-01,  9.41210533e-01],\n",
              "       [ 1.12358329e+00, -5.38271194e-01, -7.69228672e-01,\n",
              "        -2.02726741e-01,  5.27644428e-01, -6.97091652e-01],\n",
              "       [ 2.58419141e-01,  3.22776919e+00,  1.04033154e+00,\n",
              "         3.27941148e-01,  5.08832897e-01,  4.31039051e-01],\n",
              "       [-6.42288719e-01,  3.47885322e+00, -9.61382551e-04,\n",
              "         2.50659970e-01, -6.03083583e-02, -2.39830165e-01],\n",
              "       [ 4.79581160e-02, -6.02050869e-02,  3.11324684e-01,\n",
              "        -4.38941726e-01, -5.26768869e-01,  6.03338453e-01],\n",
              "       [ 1.30564472e+00,  1.52376854e-01, -7.85831196e-01,\n",
              "        -6.45437778e-01, -6.58990947e-01, -1.05463445e-01],\n",
              "       [-1.14736335e+00, -6.04957682e-01,  1.72370918e+00,\n",
              "        -6.02569299e-02,  4.43664037e-01, -9.10766961e-01],\n",
              "       [ 7.44178734e-01, -4.71574957e-01, -3.29454853e-02,\n",
              "        -3.39511580e-02, -5.25737045e-01,  2.57221672e-01]])"
            ]
          },
          "metadata": {
            "tags": []
          },
          "execution_count": 126
        }
      ]
    },
    {
      "cell_type": "markdown",
      "metadata": {
        "id": "R5At2owC4MIT"
      },
      "source": [
        "##รัน Factor Analyzer  อีกรอบด้วย  parameters  จำนวน factor เท่ากับ 6"
      ]
    },
    {
      "cell_type": "code",
      "metadata": {
        "id": "-1xW0vE84Q0B"
      },
      "source": [
        "from factor_analyzer import FactorAnalyzer\n",
        "fa3= FactorAnalyzer(n_factors= 6) #กำหนดตัวแปรให้ factor\n",
        "data_fa3= fa3.fit_transform(FIFA_data_dropped)"
      ],
      "execution_count": 132,
      "outputs": []
    },
    {
      "cell_type": "markdown",
      "metadata": {
        "id": "rm1Tc2LW4kNI"
      },
      "source": [
        "##plot factor loading"
      ]
    },
    {
      "cell_type": "markdown",
      "metadata": {
        "id": "_BXXAvx_4hq9"
      },
      "source": [
        "factor loading คือเป็นการบอกว่ามีกี่ตัวแปร แล้วดูตัวแปรไหนมีอิทธิพลบ้าง  ไม่สนใจเครื่องหมาย สนใจแต่ค่าของตัวเลข"
      ]
    },
    {
      "cell_type": "code",
      "metadata": {
        "id": "l0QOwPdo42oK"
      },
      "source": [
        "from matplotlib import pyplot as plt\n",
        "import numpy as np\n",
        "import matplotlib"
      ],
      "execution_count": 129,
      "outputs": []
    },
    {
      "cell_type": "markdown",
      "metadata": {
        "id": "rvYtvJ4Y5-E-"
      },
      "source": [
        "##matrix plot"
      ]
    },
    {
      "cell_type": "markdown",
      "metadata": {
        "id": "0lTDfHZB7Qkb"
      },
      "source": [
        "confirmatory"
      ]
    },
    {
      "cell_type": "code",
      "metadata": {
        "colab": {
          "base_uri": "https://localhost:8080/",
          "height": 880
        },
        "id": "boC7hQhx6DQ3",
        "outputId": "8e518ac9-23b3-4ae5-c248-3e6d167f684b"
      },
      "source": [
        "matplotlib.rcParams['figure.figsize']=[15,15] #ค่ามาก plot เป็นสีสว่าง   ค่าน้อย plot เป็นสีเข้ม (กราฟแรก)\n",
        "plt.imshow(np.absolute(fa3.loadings_))#เอาไว้ดู confirm ว่าตัวแปรสัมพันธ์กัน จะเอาตัวแปรมาอยู่ใกล้ๆกัน"
      ],
      "execution_count": 155,
      "outputs": [
        {
          "output_type": "execute_result",
          "data": {
            "text/plain": [
              "<matplotlib.image.AxesImage at 0x7f471a419410>"
            ]
          },
          "metadata": {
            "tags": []
          },
          "execution_count": 155
        },
        {
          "output_type": "display_data",
          "data": {
            "image/png": "[encoded data removed]",
            "text/plain": [
              "<Figure size 1080x1080 with 1 Axes>"
            ]
          },
          "metadata": {
            "tags": [],
            "needs_background": "light"
          }
        }
      ]
    },
    {
      "cell_type": "markdown",
      "metadata": {
        "id": "alYKWol66N0k"
      },
      "source": [
        "#กราฟแท่ง"
      ]
    },
    {
      "cell_type": "markdown",
      "metadata": {
        "id": "W-bb0DuRyQys"
      },
      "source": [
        "##กราฟแท่ง ทำให้รู้ว่าตัวแปรตัวไหนอยู่กลุ่มเดียวกันบ้าง"
      ]
    },
    {
      "cell_type": "markdown",
      "metadata": {
        "id": "5EqpsKWW6Qc0"
      },
      "source": [
        "Exploratory"
      ]
    },
    {
      "cell_type": "code",
      "metadata": {
        "colab": {
          "base_uri": "https://localhost:8080/"
        },
        "id": "T7WlYPrZ6Zj5",
        "outputId": "c6c9d106-0749-477d-9de1-395880af7b22"
      },
      "source": [
        "FIFA_data_dropped.columns"
      ],
      "execution_count": 156,
      "outputs": [
        {
          "output_type": "execute_result",
          "data": {
            "text/plain": [
              "Index(['Goal Scored', 'Ball Possession %', 'Attempts', 'On-Target',\n",
              "       'Off-Target', 'Blocked', 'Corners', 'Offsides', 'Free Kicks', 'Saves',\n",
              "       'Pass Accuracy %', 'Passes', 'Distance Covered (Kms)',\n",
              "       'Fouls Committed', 'Yellow Card', 'Yellow & Red', 'Red'],\n",
              "      dtype='object')"
            ]
          },
          "metadata": {
            "tags": []
          },
          "execution_count": 156
        }
      ]
    },
    {
      "cell_type": "code",
      "metadata": {
        "colab": {
          "base_uri": "https://localhost:8080/",
          "height": 880
        },
        "id": "SQX9D9OA6g1I",
        "outputId": "d42c8569-5a7c-43ed-f82e-3b8d990494f1"
      },
      "source": [
        "plt.bar(range(17),np.absolute(fa3.loadings_[:,0]),tick_label=FIFA_data_dropped.columns)"
      ],
      "execution_count": 164,
      "outputs": [
        {
          "output_type": "execute_result",
          "data": {
            "text/plain": [
              "<BarContainer object of 17 artists>"
            ]
          },
          "metadata": {
            "tags": []
          },
          "execution_count": 164
        },
        {
          "output_type": "display_data",
          "data": {
            "image/png": "[encoded data removed]",
            "text/plain": [
              "<Figure size 1080x1080 with 1 Axes>"
            ]
          },
          "metadata": {
            "tags": [],
            "needs_background": "light"
          }
        }
      ]
    },
    {
      "cell_type": "code",
      "metadata": {
        "id": "3uCrc8l46kRQ"
      },
      "source": [
        ""
      ],
      "execution_count": null,
      "outputs": []
    }
  ]
}