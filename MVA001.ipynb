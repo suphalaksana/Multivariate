{
  "nbformat": 4,
  "nbformat_minor": 0,
  "metadata": {
    "colab": {
      "name": "MVA001.ipynb",
      "provenance": [],
      "authorship_tag": "ABX9TyNWmVn5efEOzn5qZuqAl+bG",
      "include_colab_link": true
    },
    "kernelspec": {
      "name": "python3",
      "display_name": "Python 3"
    }
  },
  "cells": [
    {
      "cell_type": "markdown",
      "metadata": {
        "id": "view-in-github",
        "colab_type": "text"
      },
      "source": [
        "<a href=\"https://colab.research.google.com/github/suphalaksana/Multivariate/blob/main/MVA001.ipynb\" target=\"_parent\"><img src=\"https://colab.research.google.com/assets/colab-badge.svg\" alt=\"Open In Colab\"/></a>"
      ]
    },
    {
      "cell_type": "markdown",
      "metadata": {
        "id": "I7NebvCmS19g"
      },
      "source": [
        "Scala, Vector, Matrix"
      ]
    },
    {
      "cell_type": "markdown",
      "metadata": {
        "id": "EKPRI1r9YvMb"
      },
      "source": [
        "#Scalar"
      ]
    },
    {
      "cell_type": "code",
      "metadata": {
        "id": "BeKsdzt4Ts7j"
      },
      "source": [
        "import numpy as np"
      ],
      "execution_count": 5,
      "outputs": []
    },
    {
      "cell_type": "code",
      "metadata": {
        "colab": {
          "base_uri": "https://localhost:8080/"
        },
        "id": "6A4G_QbrSowd",
        "outputId": "a4f5c5a9-4b87-4026-e90e-78e38ab92b6a"
      },
      "source": [
        " scalar_a = 10  #scalar\r\n",
        " print(scalar_a)"
      ],
      "execution_count": 6,
      "outputs": [
        {
          "output_type": "stream",
          "text": [
            "10\n"
          ],
          "name": "stdout"
        }
      ]
    },
    {
      "cell_type": "markdown",
      "metadata": {
        "id": "ZcZvwTTQY2k5"
      },
      "source": [
        "#Vector"
      ]
    },
    {
      "cell_type": "markdown",
      "metadata": {
        "id": "sjVeoTSKaUPt"
      },
      "source": [
        "data 1 จุดมาวางเรียงกัน เป็น matrix"
      ]
    },
    {
      "cell_type": "code",
      "metadata": {
        "colab": {
          "base_uri": "https://localhost:8080/"
        },
        "id": "i0XRzTj9TZlA",
        "outputId": "89155836-a3fb-4d6a-84ec-53fdf22b7b49"
      },
      "source": [
        "vector_b = np.zeros([2,1]) #vector\r\n",
        "vector_b[0,0] = 1\r\n",
        "vector_b[1,0] = 3\r\n",
        "print(vector_b)\r\n",
        "print(vector_b.T.shape)"
      ],
      "execution_count": 11,
      "outputs": [
        {
          "output_type": "stream",
          "text": [
            "[[1.]\n",
            " [3.]]\n",
            "(1, 2)\n"
          ],
          "name": "stdout"
        }
      ]
    },
    {
      "cell_type": "code",
      "metadata": {
        "colab": {
          "base_uri": "https://localhost:8080/"
        },
        "id": "6--eEKmAUwm1",
        "outputId": "24a34eaa-30e0-459c-db30-c5f22ec37e35"
      },
      "source": [
        "vector_c = np.array([[2],[1]]) #ใช้ได้แค่vector ขนาดเล็ก\r\n",
        "print(vector_c)\r\n",
        "print(vector_c.shape)"
      ],
      "execution_count": 10,
      "outputs": [
        {
          "output_type": "stream",
          "text": [
            "[[2]\n",
            " [1]]\n",
            "(2, 1)\n"
          ],
          "name": "stdout"
        }
      ]
    },
    {
      "cell_type": "code",
      "metadata": {
        "id": "oIJuYb67VSk6"
      },
      "source": [
        "from matplotlib import  pyplot as plt"
      ],
      "execution_count": 12,
      "outputs": []
    },
    {
      "cell_type": "code",
      "metadata": {
        "colab": {
          "base_uri": "https://localhost:8080/",
          "height": 128
        },
        "id": "N0OoRnrjWMWz",
        "outputId": "3d8a5076-0fa6-4ed1-e3d8-4da9a605da9c"
      },
      "source": [
        "plt.plot(vector_b[0,0],vector_b[1,0]'or')  #plot แบบปกติ"
      ],
      "execution_count": 13,
      "outputs": [
        {
          "output_type": "error",
          "ename": "SyntaxError",
          "evalue": "ignored",
          "traceback": [
            "\u001b[0;36m  File \u001b[0;32m\"<ipython-input-13-e9233431dbab>\"\u001b[0;36m, line \u001b[0;32m1\u001b[0m\n\u001b[0;31m    plt.plot(vector_b[0,0],vector_b[1,0]'or')  #plot แบบปกติ\u001b[0m\n\u001b[0m                                           ^\u001b[0m\n\u001b[0;31mSyntaxError\u001b[0m\u001b[0;31m:\u001b[0m invalid syntax\n"
          ]
        }
      ]
    },
    {
      "cell_type": "code",
      "metadata": {
        "id": "r12DGJM6WXU6"
      },
      "source": [
        "plt."
      ],
      "execution_count": null,
      "outputs": []
    },
    {
      "cell_type": "markdown",
      "metadata": {
        "id": "IYKjCnP7YAAu"
      },
      "source": [
        "ขนาดของ vector คำนวณได้โดย พิธากอรัส"
      ]
    },
    {
      "cell_type": "code",
      "metadata": {
        "id": "nAAQGAuiYHqV"
      },
      "source": [
        "vector_b_size = ((vector_b[0,0]**2)+)"
      ],
      "execution_count": null,
      "outputs": []
    },
    {
      "cell_type": "markdown",
      "metadata": {
        "id": "7empqGQhZCL1"
      },
      "source": [
        "#Matrix  "
      ]
    },
    {
      "cell_type": "markdown",
      "metadata": {
        "id": "kc0Zz_GUZFuF"
      },
      "source": [
        "ชุดของ data"
      ]
    },
    {
      "cell_type": "code",
      "metadata": {
        "colab": {
          "base_uri": "https://localhost:8080/"
        },
        "id": "ST6phH9oZFXF",
        "outputId": "84511a07-4c18-486a-ee01-965c01f2ed44"
      },
      "source": [
        "matrix_d = np.array([[2,3],[1,4],[-1,1]])  #ผิด dimention\r\n",
        "print(matrix_d)"
      ],
      "execution_count": 15,
      "outputs": [
        {
          "output_type": "stream",
          "text": [
            "[[ 2  3]\n",
            " [ 1  4]\n",
            " [-1  1]]\n"
          ],
          "name": "stdout"
        }
      ]
    },
    {
      "cell_type": "code",
      "metadata": {
        "colab": {
          "base_uri": "https://localhost:8080/"
        },
        "id": "ziixyeowZ6sj",
        "outputId": "86c34664-0eac-4d0f-b774-a3fcee61977e"
      },
      "source": [
        "matrix_d = matrix_d.T  #อันที่ถูก\r\n",
        "print(matrix_d)"
      ],
      "execution_count": 17,
      "outputs": [
        {
          "output_type": "stream",
          "text": [
            "[[ 2  3]\n",
            " [ 1  4]\n",
            " [-1  1]]\n"
          ],
          "name": "stdout"
        }
      ]
    },
    {
      "cell_type": "code",
      "metadata": {
        "colab": {
          "base_uri": "https://localhost:8080/",
          "height": 282
        },
        "id": "L2eE5vdsahIL",
        "outputId": "79af974f-b1a8-4496-e6e2-8622573ae918"
      },
      "source": [
        "plt.plot(matrix_d[0,:],matrix_d[1,:],'or') #plot(ค่า x, ค่า y, หน้าตาของจุด) x,y มีได้หลายค่า orสีแดง\r\n",
        "plt.plot(0,0, '.b') #plot(ค่า x, ค่า y, หน้าตาของจุด)   b สี blue  ,มีx2 ตัว  y 2 ตัว #1จุดมีx1 ตัว  y 1 ตัว\r\n",
        "#plt.plot([0,0],[-1,5],'--b')\r\n"
      ],
      "execution_count": 23,
      "outputs": [
        {
          "output_type": "execute_result",
          "data": {
            "text/plain": [
              "[<matplotlib.lines.Line2D at 0x7f4b2c8b5e48>]"
            ]
          },
          "metadata": {
            "tags": []
          },
          "execution_count": 23
        },
        {
          "output_type": "display_data",
          "data": {
            "image/png": "[encoded data removed]",
            "text/plain": [
              "<Figure size 432x288 with 1 Axes>"
            ]
          },
          "metadata": {
            "tags": [],
            "needs_background": "light"
          }
        }
      ]
    },
    {
      "cell_type": "markdown",
      "metadata": {
        "id": "xa7Okxjoj6is"
      },
      "source": [
        "Transpose"
      ]
    },
    {
      "cell_type": "code",
      "metadata": {
        "colab": {
          "base_uri": "https://localhost:8080/"
        },
        "id": "6_e9b4_XbG_S",
        "outputId": "c70df461-bb89-4008-edf8-313a67ff160c"
      },
      "source": [
        "A = np.array([[3,-1,2],[1,5,4]])\r\n",
        "print(A)"
      ],
      "execution_count": 24,
      "outputs": [
        {
          "output_type": "stream",
          "text": [
            "[[ 3 -1  2]\n",
            " [ 1  5  4]]\n"
          ],
          "name": "stdout"
        }
      ]
    },
    {
      "cell_type": "code",
      "metadata": {
        "colab": {
          "base_uri": "https://localhost:8080/"
        },
        "id": "O_4Y_XS_kZz2",
        "outputId": "00cfafb4-23ca-4d26-f88d-4bd8caaecb91"
      },
      "source": [
        "A.T"
      ],
      "execution_count": 26,
      "outputs": [
        {
          "output_type": "execute_result",
          "data": {
            "text/plain": [
              "array([[ 3,  1],\n",
              "       [-1,  5],\n",
              "       [ 2,  4]])"
            ]
          },
          "metadata": {
            "tags": []
          },
          "execution_count": 26
        }
      ]
    },
    {
      "cell_type": "markdown",
      "metadata": {
        "id": "NhgzCgbola02"
      },
      "source": [
        "#Matrix Multiply"
      ]
    },
    {
      "cell_type": "markdown",
      "metadata": {
        "id": "72DIUOUAliu0"
      },
      "source": [
        "A *A"
      ]
    },
    {
      "cell_type": "code",
      "metadata": {
        "id": "ShTPYXuMkqLS"
      },
      "source": [
        ""
      ],
      "execution_count": null,
      "outputs": []
    }
  ]
}